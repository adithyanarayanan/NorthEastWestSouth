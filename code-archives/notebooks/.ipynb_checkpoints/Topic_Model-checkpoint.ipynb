{
 "cells": [
  {
   "cell_type": "code",
   "execution_count": 4,
   "metadata": {
    "ExecuteTime": {
     "end_time": "2021-02-14T22:43:45.623584Z",
     "start_time": "2021-02-14T22:43:43.064622Z"
    },
    "colab": {
     "base_uri": "https://localhost:8080/"
    },
    "id": "lTJTCrampZ7R",
    "outputId": "37c7b55b-4a00-41d2-ffd2-882db77acbd6"
   },
   "outputs": [
    {
     "name": "stderr",
     "output_type": "stream",
     "text": [
      "[nltk_data] Downloading package stopwords to\n",
      "[nltk_data]     C:\\Users\\adith\\AppData\\Roaming\\nltk_data...\n",
      "[nltk_data]   Package stopwords is already up-to-date!\n"
     ]
    }
   ],
   "source": [
    "# Imports\n",
    "from sklearn.feature_extraction.text import CountVectorizer\n",
    "from gensim.corpora import Dictionary\n",
    "from gensim.models.ldamodel import LdaModel\n",
    "from gensim.models import CoherenceModel\n",
    "from nltk.corpus import stopwords\n",
    "from nltk.tokenize import RegexpTokenizer\n",
    "from datetime import datetime\n",
    "import nltk\n",
    "nltk.download('stopwords')\n",
    "import pandas as pd\n",
    "import re\n",
    "import math"
   ]
  },
  {
   "cell_type": "code",
   "execution_count": 3,
   "metadata": {
    "ExecuteTime": {
     "end_time": "2021-02-14T22:43:43.062620Z",
     "start_time": "2021-02-14T22:43:34.824551Z"
    },
    "colab": {
     "base_uri": "https://localhost:8080/"
    },
    "id": "p2EJ0ShLTjM9",
    "outputId": "963116ef-ab5a-42e0-f4bc-baca4420cab5"
   },
   "outputs": [
    {
     "name": "stdout",
     "output_type": "stream",
     "text": [
      "Requirement already satisfied: tweet-preprocessor in c:\\users\\adith\\anaconda3\\lib\\site-packages (0.6.0)\n",
      "Requirement already satisfied: icecream in c:\\users\\adith\\anaconda3\\lib\\site-packages (2.1.0)\n",
      "Requirement already satisfied: asttokens>=2.0.1 in c:\\users\\adith\\anaconda3\\lib\\site-packages (from icecream) (2.0.4)\n",
      "Requirement already satisfied: colorama>=0.3.9 in c:\\users\\adith\\anaconda3\\lib\\site-packages (from icecream) (0.4.3)\n",
      "Requirement already satisfied: executing>=0.3.1 in c:\\users\\adith\\anaconda3\\lib\\site-packages (from icecream) (0.5.4)\n",
      "Requirement already satisfied: pygments>=2.2.0 in c:\\users\\adith\\anaconda3\\lib\\site-packages (from icecream) (2.6.1)\n",
      "Requirement already satisfied: six in c:\\users\\adith\\anaconda3\\lib\\site-packages (from asttokens>=2.0.1->icecream) (1.15.0)\n"
     ]
    }
   ],
   "source": [
    "!pip install tweet-preprocessor\n",
    "!pip install icecream\n",
    "import icecream as ic\n",
    "import preprocessor as p"
   ]
  },
  {
   "cell_type": "code",
   "execution_count": null,
   "metadata": {
    "ExecuteTime": {
     "end_time": "2021-02-14T22:42:15.739474Z",
     "start_time": "2021-02-14T22:42:13.408Z"
    },
    "id": "5Ds6mz26SbD6"
   },
   "outputs": [],
   "source": [
    "def remove_stopwords(text):\n",
    "    return text"
   ]
  },
  {
   "cell_type": "code",
   "execution_count": null,
   "metadata": {
    "ExecuteTime": {
     "end_time": "2021-02-14T22:42:15.741472Z",
     "start_time": "2021-02-14T22:42:13.411Z"
    },
    "id": "zXittuGTTJDB"
   },
   "outputs": [],
   "source": [
    "tweets = pd.read_csv(\"labeled_tweets.csv\")\n",
    "news = pd.read_csv(\"news_api.csv\")"
   ]
  },
  {
   "cell_type": "code",
   "execution_count": null,
   "metadata": {
    "ExecuteTime": {
     "end_time": "2021-02-14T22:42:15.742623Z",
     "start_time": "2021-02-14T22:42:13.413Z"
    },
    "id": "pJxLkQOwTd3h"
   },
   "outputs": [],
   "source": [
    "tweets.text = tweets.text.str.lower().apply(p.clean).apply(remove_stopwords)\n",
    "news.text = news.text.str.lower().apply(p.clean).apply(remove_stopwords)"
   ]
  },
  {
   "cell_type": "code",
   "execution_count": null,
   "metadata": {
    "ExecuteTime": {
     "end_time": "2021-02-14T22:42:15.744473Z",
     "start_time": "2021-02-14T22:42:13.416Z"
    },
    "id": "5TVs6EnUTzLn"
   },
   "outputs": [],
   "source": [
    "tweets.fillna(\"NA\", inplace=True)"
   ]
  },
  {
   "cell_type": "code",
   "execution_count": null,
   "metadata": {
    "ExecuteTime": {
     "end_time": "2021-02-14T22:42:15.746474Z",
     "start_time": "2021-02-14T22:42:13.419Z"
    },
    "colab": {
     "base_uri": "https://localhost:8080/",
     "height": 404
    },
    "id": "H7GWSJzrUC-L",
    "outputId": "1d4eb623-5407-46fd-8f96-8f841dbe1c6e"
   },
   "outputs": [],
   "source": [
    "tweets"
   ]
  },
  {
   "cell_type": "code",
   "execution_count": null,
   "metadata": {
    "ExecuteTime": {
     "end_time": "2021-02-14T22:42:15.747474Z",
     "start_time": "2021-02-14T22:42:13.421Z"
    },
    "id": "crSAn9XSUH8f"
   },
   "outputs": [],
   "source": [
    "docs = list(tweets.text)"
   ]
  },
  {
   "cell_type": "code",
   "execution_count": null,
   "metadata": {
    "ExecuteTime": {
     "end_time": "2021-02-14T22:42:15.749472Z",
     "start_time": "2021-02-14T22:42:13.424Z"
    },
    "colab": {
     "base_uri": "https://localhost:8080/"
    },
    "id": "e2aAz7a5a8Sj",
    "outputId": "f99ede35-1685-4cd7-f420-14b715b9e6f2"
   },
   "outputs": [],
   "source": [
    "docs"
   ]
  },
  {
   "cell_type": "code",
   "execution_count": null,
   "metadata": {
    "ExecuteTime": {
     "end_time": "2021-02-14T22:42:15.750474Z",
     "start_time": "2021-02-14T22:42:13.428Z"
    },
    "id": "1Rk-v5Fha_5U"
   },
   "outputs": [],
   "source": [
    "from nltk.tokenize import RegexpTokenizer\n",
    "\n",
    "# Split the documents into tokens.\n",
    "tokenizer = RegexpTokenizer(r'\\w+')\n",
    "for idx in range(len(docs)):\n",
    "    docs[idx] = tokenizer.tokenize(str(docs[idx]))  # Split into words.\n",
    "\n",
    "# Remove numbers, but not words that contain numbers.\n",
    "docs = [[token for token in doc if not token.isnumeric()] for doc in docs]\n",
    "\n",
    "# Remove words that are only one character.\n",
    "docs = [[token for token in doc if len(token) > 1] for doc in docs]\n",
    "\n",
    "stoppers = stopwords.words('english')\n",
    "re_stop =  lambda x: [item for item in x if item not in stoppers]"
   ]
  },
  {
   "cell_type": "code",
   "execution_count": null,
   "metadata": {
    "ExecuteTime": {
     "end_time": "2021-02-14T22:42:15.752475Z",
     "start_time": "2021-02-14T22:42:13.431Z"
    },
    "id": "xwufwpMVldH1"
   },
   "outputs": [],
   "source": [
    "docs = list(map(re_stop, docs))"
   ]
  },
  {
   "cell_type": "code",
   "execution_count": null,
   "metadata": {
    "ExecuteTime": {
     "end_time": "2021-02-14T22:42:15.754475Z",
     "start_time": "2021-02-14T22:42:13.437Z"
    },
    "colab": {
     "base_uri": "https://localhost:8080/"
    },
    "id": "fCkbOSSwotUP",
    "outputId": "b80e18fb-9bf9-4fd4-f02d-29134147652c"
   },
   "outputs": [],
   "source": [
    "docs"
   ]
  },
  {
   "cell_type": "code",
   "execution_count": null,
   "metadata": {
    "ExecuteTime": {
     "end_time": "2021-02-14T22:42:15.755473Z",
     "start_time": "2021-02-14T22:42:13.440Z"
    },
    "colab": {
     "base_uri": "https://localhost:8080/"
    },
    "id": "BbgngNq5dNFN",
    "outputId": "d7d525b1-94d2-4a0d-bf88-211d0b2a91b1"
   },
   "outputs": [],
   "source": [
    "from nltk.stem.wordnet import WordNetLemmatizer\n",
    "nltk.download('wordnet')\n",
    "\n",
    "lemmatizer = WordNetLemmatizer()\n",
    "docs = [[lemmatizer.lemmatize(token) for token in doc] for doc in docs]"
   ]
  },
  {
   "cell_type": "code",
   "execution_count": null,
   "metadata": {
    "ExecuteTime": {
     "end_time": "2021-02-14T22:42:15.756473Z",
     "start_time": "2021-02-14T22:42:13.443Z"
    },
    "colab": {
     "base_uri": "https://localhost:8080/"
    },
    "id": "X_JUPIM0eCFx",
    "outputId": "307a9188-d62c-43c8-a224-b74e3c02c6de"
   },
   "outputs": [],
   "source": [
    "from gensim.models import Phrases\n",
    "\n",
    "# Add bigrams and trigrams to docs (only ones that appear 20 times or more).\n",
    "bigram = Phrases(docs, min_count=20)\n",
    "for idx in range(len(docs)):\n",
    "    for token in bigram[docs[idx]]:\n",
    "        if '_' in token:\n",
    "            # Token is a bigram, add to document.\n",
    "            docs[idx].append(token)"
   ]
  },
  {
   "cell_type": "code",
   "execution_count": null,
   "metadata": {
    "ExecuteTime": {
     "end_time": "2021-02-14T22:42:15.758474Z",
     "start_time": "2021-02-14T22:42:13.447Z"
    },
    "id": "tVoiwwsheHbN"
   },
   "outputs": [],
   "source": [
    "from gensim.corpora import Dictionary\n",
    "\n",
    "# Create a dictionary representation of the documents.\n",
    "dictionary = Dictionary(docs)\n",
    "\n",
    "# Filter out words that occur less than 20 documents, or more than 50% of the documents.\n",
    "# dictionary.filter_extremes(no_below=2, no_above=0.5)"
   ]
  },
  {
   "cell_type": "code",
   "execution_count": null,
   "metadata": {
    "ExecuteTime": {
     "end_time": "2021-02-14T22:42:15.759474Z",
     "start_time": "2021-02-14T22:42:13.452Z"
    },
    "id": "eFHLfOkHeh8K"
   },
   "outputs": [],
   "source": [
    "corpus = [dictionary.doc2bow(doc) for doc in docs]\n"
   ]
  },
  {
   "cell_type": "code",
   "execution_count": null,
   "metadata": {
    "ExecuteTime": {
     "end_time": "2021-02-14T22:42:15.761474Z",
     "start_time": "2021-02-14T22:42:13.459Z"
    },
    "colab": {
     "base_uri": "https://localhost:8080/"
    },
    "id": "YzSxtBxDeidd",
    "outputId": "a79dec7d-b7dd-4509-8eca-fc4c37a7f3ac"
   },
   "outputs": [],
   "source": [
    "corpus"
   ]
  },
  {
   "cell_type": "code",
   "execution_count": null,
   "metadata": {
    "ExecuteTime": {
     "end_time": "2021-02-14T22:42:15.762511Z",
     "start_time": "2021-02-14T22:42:13.461Z"
    },
    "colab": {
     "base_uri": "https://localhost:8080/"
    },
    "id": "BYnN7qcEenLB",
    "outputId": "809668d3-951b-49ec-948e-5813e6ec643f"
   },
   "outputs": [],
   "source": [
    "print('Number of unique tokens: %d' % len(dictionary))\n",
    "print('Number of documents: %d' % len(corpus))"
   ]
  },
  {
   "cell_type": "code",
   "execution_count": null,
   "metadata": {
    "ExecuteTime": {
     "end_time": "2021-02-14T22:42:15.763472Z",
     "start_time": "2021-02-14T22:42:13.464Z"
    },
    "id": "0WHGInlJeplD"
   },
   "outputs": [],
   "source": [
    "from gensim.models import LdaModel\n",
    "\n",
    "# Set training parameters.\n",
    "num_topics = 10\n",
    "chunksize = 600\n",
    "passes = 20\n",
    "iterations = 400\n",
    "eval_every = None  # Don't evaluate model perplexity, takes too much time.\n",
    "\n",
    "# Make a index to word dictionary.\n",
    "temp = dictionary[0]  # This is only to \"load\" the dictionary.\n",
    "id2word = dictionary.id2token\n",
    "\n",
    "model = LdaModel(\n",
    "    corpus=corpus,\n",
    "    id2word=id2word,\n",
    "    chunksize=chunksize,\n",
    "    alpha='auto',\n",
    "    eta='auto',\n",
    "    iterations=iterations,\n",
    "    num_topics=num_topics,\n",
    "    passes=passes,\n",
    "    eval_every=eval_every\n",
    ")"
   ]
  },
  {
   "cell_type": "code",
   "execution_count": null,
   "metadata": {
    "ExecuteTime": {
     "end_time": "2021-02-14T22:42:15.765473Z",
     "start_time": "2021-02-14T22:42:13.466Z"
    },
    "colab": {
     "base_uri": "https://localhost:8080/"
    },
    "id": "0K-f7nyki43N",
    "outputId": "2070f9eb-940f-4a99-cfb1-10cdfee99fad"
   },
   "outputs": [],
   "source": [
    "top_topics = model.top_topics(corpus) #, num_words=20)\n",
    "\n",
    "# Average topic coherence is the sum of topic coherences of all topics, divided by the number of topics.\n",
    "avg_topic_coherence = sum([t[1] for t in top_topics]) / num_topics\n",
    "print('Average topic coherence: %.4f.' % avg_topic_coherence)\n",
    "\n",
    "from pprint import pprint\n",
    "pprint(top_topics)"
   ]
  },
  {
   "cell_type": "code",
   "execution_count": null,
   "metadata": {
    "ExecuteTime": {
     "end_time": "2021-02-14T22:42:15.766152Z",
     "start_time": "2021-02-14T22:42:13.468Z"
    },
    "colab": {
     "base_uri": "https://localhost:8080/"
    },
    "id": "-QgPTJjirO0E",
    "outputId": "136bf57d-b686-44ee-f11b-e1996c998d88"
   },
   "outputs": [],
   "source": [
    "!pip install pyLDAvis"
   ]
  },
  {
   "cell_type": "code",
   "execution_count": null,
   "metadata": {
    "ExecuteTime": {
     "end_time": "2021-02-14T22:42:15.768697Z",
     "start_time": "2021-02-14T22:42:13.470Z"
    },
    "id": "tfjMzoRqrNTA"
   },
   "outputs": [],
   "source": [
    "import pyLDAvis.gensim\n",
    "pyLDAvis.enable_notebook()"
   ]
  },
  {
   "cell_type": "code",
   "execution_count": null,
   "metadata": {
    "ExecuteTime": {
     "end_time": "2021-02-14T22:42:15.768697Z",
     "start_time": "2021-02-14T22:42:13.473Z"
    },
    "colab": {
     "base_uri": "https://localhost:8080/",
     "height": 880
    },
    "id": "ek9gILvsrUhr",
    "outputId": "f7810d46-561a-487c-c4e4-d7f70b0526dc"
   },
   "outputs": [],
   "source": [
    "pyLDAvis.gensim.prepare(model, corpus, dictionary)"
   ]
  }
 ],
 "metadata": {
  "colab": {
   "name": "Topic Model",
   "provenance": []
  },
  "kernelspec": {
   "display_name": "Python 3",
   "language": "python",
   "name": "python3"
  },
  "language_info": {
   "codemirror_mode": {
    "name": "ipython",
    "version": 3
   },
   "file_extension": ".py",
   "mimetype": "text/x-python",
   "name": "python",
   "nbconvert_exporter": "python",
   "pygments_lexer": "ipython3",
   "version": "3.8.3"
  }
 },
 "nbformat": 4,
 "nbformat_minor": 1
}

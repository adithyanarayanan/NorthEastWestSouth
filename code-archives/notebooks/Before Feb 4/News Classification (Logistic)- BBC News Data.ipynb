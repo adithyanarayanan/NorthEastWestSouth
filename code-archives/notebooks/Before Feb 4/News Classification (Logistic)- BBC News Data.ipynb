{
 "cells": [
  {
   "cell_type": "code",
   "execution_count": 2,
   "metadata": {
    "ExecuteTime": {
     "end_time": "2021-01-30T19:59:39.968442Z",
     "start_time": "2021-01-30T19:59:37.257629Z"
    }
   },
   "outputs": [],
   "source": [
    "# Necessary Imports\n",
    "# Code idea from Kaggle Submissions to https://www.kaggle.com/c/learn-ai-bbc/data\n",
    "import numpy as np\n",
    "import pandas as pd\n",
    "from sklearn.linear_model import LogisticRegression\n",
    "from sklearn.model_selection import cross_val_score\n",
    "from sklearn.feature_extraction.text import TfidfVectorizer\n",
    "from sklearn.model_selection import train_test_split"
   ]
  },
  {
   "cell_type": "code",
   "execution_count": 9,
   "metadata": {
    "ExecuteTime": {
     "end_time": "2021-01-30T20:02:44.440298Z",
     "start_time": "2021-01-30T20:02:44.370296Z"
    }
   },
   "outputs": [],
   "source": [
    "# Labeled News Headlines Data from https://www.kaggle.com/c/learn-ai-bbc/data\n",
    "reg_data = pd.read_csv(\"BBC News Train.csv\")  # Regular Data \n",
    "\n",
    "# Since BBC Headlines are missing \"health\" headlines, these are some tweets\n",
    "# from news org twitter handles that exhibit health articles\n",
    "health_data = pd.read_csv(\"health_headlines.csv\")  # Health Data"
   ]
  },
  {
   "cell_type": "code",
   "execution_count": 10,
   "metadata": {
    "ExecuteTime": {
     "end_time": "2021-01-30T20:03:01.249058Z",
     "start_time": "2021-01-30T20:03:01.233059Z"
    }
   },
   "outputs": [],
   "source": [
    "# Constructing a single usable dataframe by cleaning and formatting the above two\n",
    "health_data.drop(columns=\"Unnamed: 0\", inplace=True)\n",
    "\n",
    "# Single combined DataFrame\n",
    "data = pd.concat([health_data, reg_data]) "
   ]
  },
  {
   "cell_type": "code",
   "execution_count": 11,
   "metadata": {
    "ExecuteTime": {
     "end_time": "2021-01-30T20:03:02.729394Z",
     "start_time": "2021-01-30T20:03:02.698393Z"
    }
   },
   "outputs": [
    {
     "data": {
      "text/html": [
       "<div>\n",
       "<style scoped>\n",
       "    .dataframe tbody tr th:only-of-type {\n",
       "        vertical-align: middle;\n",
       "    }\n",
       "\n",
       "    .dataframe tbody tr th {\n",
       "        vertical-align: top;\n",
       "    }\n",
       "\n",
       "    .dataframe thead th {\n",
       "        text-align: right;\n",
       "    }\n",
       "</style>\n",
       "<table border=\"1\" class=\"dataframe\">\n",
       "  <thead>\n",
       "    <tr style=\"text-align: right;\">\n",
       "      <th></th>\n",
       "      <th>Text</th>\n",
       "      <th>Category</th>\n",
       "    </tr>\n",
       "  </thead>\n",
       "  <tbody>\n",
       "    <tr>\n",
       "      <th>0</th>\n",
       "      <td>Mayor Bill de Blasio has proposed an ambitious...</td>\n",
       "      <td>health</td>\n",
       "    </tr>\n",
       "    <tr>\n",
       "      <th>1</th>\n",
       "      <td>Troubling. (SARS-CoV-2 was created in a lab. I...</td>\n",
       "      <td>health</td>\n",
       "    </tr>\n",
       "    <tr>\n",
       "      <th>2</th>\n",
       "      <td>Warnings from top health officialsFauci says v...</td>\n",
       "      <td>health</td>\n",
       "    </tr>\n",
       "    <tr>\n",
       "      <th>3</th>\n",
       "      <td>Wouldn't it make sense for the world to priori...</td>\n",
       "      <td>health</td>\n",
       "    </tr>\n",
       "    <tr>\n",
       "      <th>4</th>\n",
       "      <td>When Oregon public health workers got stuck in...</td>\n",
       "      <td>health</td>\n",
       "    </tr>\n",
       "    <tr>\n",
       "      <th>...</th>\n",
       "      <td>...</td>\n",
       "      <td>...</td>\n",
       "    </tr>\n",
       "    <tr>\n",
       "      <th>1521</th>\n",
       "      <td>There are still too many families who are just...</td>\n",
       "      <td>health</td>\n",
       "    </tr>\n",
       "    <tr>\n",
       "      <th>1522</th>\n",
       "      <td>This is the last GDP report from Trumps tenure...</td>\n",
       "      <td>health</td>\n",
       "    </tr>\n",
       "    <tr>\n",
       "      <th>1523</th>\n",
       "      <td>Paid time off to get vaccinated, featuring and...</td>\n",
       "      <td>health</td>\n",
       "    </tr>\n",
       "    <tr>\n",
       "      <th>1524</th>\n",
       "      <td>According to researchers from the Centers for ...</td>\n",
       "      <td>health</td>\n",
       "    </tr>\n",
       "    <tr>\n",
       "      <th>1525</th>\n",
       "      <td>As the st American evacuees from Wuhan, China,...</td>\n",
       "      <td>NaN</td>\n",
       "    </tr>\n",
       "  </tbody>\n",
       "</table>\n",
       "<p>1654 rows × 2 columns</p>\n",
       "</div>"
      ],
      "text/plain": [
       "                                                   Text Category\n",
       "0     Mayor Bill de Blasio has proposed an ambitious...   health\n",
       "1     Troubling. (SARS-CoV-2 was created in a lab. I...   health\n",
       "2     Warnings from top health officialsFauci says v...   health\n",
       "3     Wouldn't it make sense for the world to priori...   health\n",
       "4     When Oregon public health workers got stuck in...   health\n",
       "...                                                 ...      ...\n",
       "1521  There are still too many families who are just...   health\n",
       "1522  This is the last GDP report from Trumps tenure...   health\n",
       "1523  Paid time off to get vaccinated, featuring and...   health\n",
       "1524  According to researchers from the Centers for ...   health\n",
       "1525  As the st American evacuees from Wuhan, China,...      NaN\n",
       "\n",
       "[1654 rows x 2 columns]"
      ]
     },
     "execution_count": 11,
     "metadata": {},
     "output_type": "execute_result"
    }
   ],
   "source": [
    "data"
   ]
  },
  {
   "cell_type": "code",
   "execution_count": 14,
   "metadata": {
    "ExecuteTime": {
     "end_time": "2021-01-30T20:04:01.775353Z",
     "start_time": "2021-01-30T20:04:01.744503Z"
    }
   },
   "outputs": [],
   "source": [
    "# Preprocessing and cleaning data\n",
    "data.Category = data.Category.str.lower()\n",
    "data.Text = data.Text.str.lower()\n",
    "data['Cat_id'] = data.Category.factorize()[0]\n",
    "data.dropna(inplace=True)"
   ]
  },
  {
   "cell_type": "code",
   "execution_count": 15,
   "metadata": {
    "ExecuteTime": {
     "end_time": "2021-01-30T20:04:03.657595Z",
     "start_time": "2021-01-30T20:04:03.648590Z"
    },
    "scrolled": true
   },
   "outputs": [
    {
     "data": {
      "text/plain": [
       "4    346\n",
       "1    336\n",
       "3    274\n",
       "5    273\n",
       "2    261\n",
       "0    163\n",
       "Name: Cat_id, dtype: int64"
      ]
     },
     "execution_count": 15,
     "metadata": {},
     "output_type": "execute_result"
    }
   ],
   "source": [
    "data.Cat_id.value_counts() # Checking for factorization correctness"
   ]
  },
  {
   "cell_type": "code",
   "execution_count": 16,
   "metadata": {
    "ExecuteTime": {
     "end_time": "2021-01-30T20:04:24.816924Z",
     "start_time": "2021-01-30T20:04:24.808922Z"
    }
   },
   "outputs": [
    {
     "data": {
      "text/plain": [
       "sport            346\n",
       "business         336\n",
       "politics         274\n",
       "entertainment    273\n",
       "tech             261\n",
       "health           163\n",
       "Name: Category, dtype: int64"
      ]
     },
     "execution_count": 16,
     "metadata": {},
     "output_type": "execute_result"
    }
   ],
   "source": [
    "data.Category.value_counts() # Checking for factorization correctness"
   ]
  },
  {
   "cell_type": "code",
   "execution_count": null,
   "metadata": {
    "ExecuteTime": {
     "end_time": "2021-01-30T04:16:07.384335Z",
     "start_time": "2021-01-30T04:16:07.379336Z"
    }
   },
   "outputs": [],
   "source": [
    "# classes = {4: \"sport\", 1: \"business\", 3: \"politics\", 5: \"entertainment\", 2:\"tech\", 0: \"health\"} # List of classes in the labels"
   ]
  },
  {
   "cell_type": "code",
   "execution_count": 17,
   "metadata": {
    "ExecuteTime": {
     "end_time": "2021-01-30T20:07:15.613565Z",
     "start_time": "2021-01-30T20:07:14.301070Z"
    }
   },
   "outputs": [],
   "source": [
    "# Preparing data for logit modeling with TF-IDF\n",
    "# Parameters obtained from leading Kaggle submissions tackling same task \n",
    "# TODO: Modify some param values to check if that changes accuracy (unlikely)\n",
    "tfidf = TfidfVectorizer(sublinear_tf=True, min_df=5, norm='l2', encoding='latin-1', ngram_range=(1, 2), stop_words='english')\n",
    "\n",
    "X = tfidf.fit_transform(data.Text).toarray()\n",
    "y = data.Cat_id"
   ]
  },
  {
   "cell_type": "code",
   "execution_count": 18,
   "metadata": {
    "ExecuteTime": {
     "end_time": "2021-01-30T20:08:12.069056Z",
     "start_time": "2021-01-30T20:08:12.065055Z"
    }
   },
   "outputs": [],
   "source": [
    "# Logit Model- Multiclass\n",
    "model = LogisticRegression(random_state=0, solver=\"saga\")"
   ]
  },
  {
   "cell_type": "code",
   "execution_count": 19,
   "metadata": {
    "ExecuteTime": {
     "end_time": "2021-01-30T20:09:01.600654Z",
     "start_time": "2021-01-30T20:08:13.848142Z"
    },
    "scrolled": true
   },
   "outputs": [
    {
     "data": {
      "text/plain": [
       "array([0.97583082, 0.95770393, 0.98489426, 0.96969697, 0.97878788])"
      ]
     },
     "execution_count": 19,
     "metadata": {},
     "output_type": "execute_result"
    }
   ],
   "source": [
    "# Checking for cross_val accuracy\n",
    "cross_val_score(model, X, y, scoring=\"accuracy\", cv=5)"
   ]
  },
  {
   "cell_type": "code",
   "execution_count": 21,
   "metadata": {
    "ExecuteTime": {
     "end_time": "2021-01-30T20:09:45.166493Z",
     "start_time": "2021-01-30T20:09:34.248627Z"
    }
   },
   "outputs": [
    {
     "data": {
      "text/plain": [
       "LogisticRegression(random_state=0, solver='saga')"
      ]
     },
     "execution_count": 21,
     "metadata": {},
     "output_type": "execute_result"
    }
   ],
   "source": [
    "# Fit on training data - can fit on all data as well since we test on unseen data\n",
    "model.fit(X,y)"
   ]
  },
  {
   "cell_type": "code",
   "execution_count": 22,
   "metadata": {
    "ExecuteTime": {
     "end_time": "2021-01-30T20:10:35.802883Z",
     "start_time": "2021-01-30T20:10:35.792884Z"
    }
   },
   "outputs": [],
   "source": [
    "# News sample is sample data with text of tweets from news orgs\n",
    "\n",
    "news = pd.read_csv(\"news_sample.csv\")"
   ]
  },
  {
   "cell_type": "code",
   "execution_count": 23,
   "metadata": {
    "ExecuteTime": {
     "end_time": "2021-01-30T20:10:38.329048Z",
     "start_time": "2021-01-30T20:10:38.208767Z"
    }
   },
   "outputs": [],
   "source": [
    "# Cleaning News Text to remove handles, links etc.\n",
    "\n",
    "import preprocessor as p\n",
    "news['text'] = news.text.apply(p.clean)"
   ]
  },
  {
   "cell_type": "code",
   "execution_count": 24,
   "metadata": {
    "ExecuteTime": {
     "end_time": "2021-01-30T20:10:52.868231Z",
     "start_time": "2021-01-30T20:10:52.864238Z"
    }
   },
   "outputs": [],
   "source": []
  },
  {
   "cell_type": "code",
   "execution_count": 25,
   "metadata": {
    "ExecuteTime": {
     "end_time": "2021-01-30T20:14:45.318213Z",
     "start_time": "2021-01-30T20:14:45.269211Z"
    }
   },
   "outputs": [],
   "source": [
    "# Outputs a csv fils with predicted labels to texts supplied\n",
    "\n",
    "def return_class(i):\n",
    "    classes = {4: \"sports\", 1: \"business\", 3: \"politics\", 5: \"entertainment\", 2:\"tech\", 0: \"health\"}    \n",
    "    return classes[i]\n",
    "\n",
    "transformed_text = tfidf.transform(texts)\n",
    "predictions = model.predict(transformed_text)\n",
    "news['predictions'] = predictions\n",
    "news.predictions = news.predictions.apply(return_class) \n",
    "news.to_csv(\"out_bbc.csv\")"
   ]
  }
 ],
 "metadata": {
  "kernelspec": {
   "display_name": "Python 3",
   "language": "python",
   "name": "python3"
  },
  "language_info": {
   "codemirror_mode": {
    "name": "ipython",
    "version": 3
   },
   "file_extension": ".py",
   "mimetype": "text/x-python",
   "name": "python",
   "nbconvert_exporter": "python",
   "pygments_lexer": "ipython3",
   "version": "3.8.3"
  }
 },
 "nbformat": 4,
 "nbformat_minor": 4
}

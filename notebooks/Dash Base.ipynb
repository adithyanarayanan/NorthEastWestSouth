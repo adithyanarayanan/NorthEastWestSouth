{
 "cells": [
  {
   "cell_type": "code",
   "execution_count": 1,
   "metadata": {
    "ExecuteTime": {
     "end_time": "2021-02-18T21:15:39.735754Z",
     "start_time": "2021-02-18T21:14:49.747083Z"
    }
   },
   "outputs": [
    {
     "name": "stdout",
     "output_type": "stream",
     "text": [
      "Collecting dash==1.19.0\n",
      "  Downloading dash-1.19.0.tar.gz (75 kB)\n",
      "Requirement already satisfied: Flask>=1.0.4 in c:\\users\\adith\\anaconda3\\lib\\site-packages (from dash==1.19.0) (1.1.2)\n",
      "Collecting flask-compress\n",
      "  Downloading Flask-Compress-1.9.0.tar.gz (10 kB)\n",
      "Requirement already satisfied: plotly in c:\\users\\adith\\anaconda3\\lib\\site-packages (from dash==1.19.0) (4.14.3)\n",
      "Collecting dash_renderer==1.9.0\n",
      "  Downloading dash_renderer-1.9.0.tar.gz (1.0 MB)\n",
      "Collecting dash-core-components==1.15.0\n",
      "  Downloading dash_core_components-1.15.0.tar.gz (3.5 MB)\n",
      "Collecting dash-html-components==1.1.2\n",
      "  Downloading dash_html_components-1.1.2.tar.gz (188 kB)\n",
      "Collecting dash-table==4.11.2\n",
      "  Downloading dash_table-4.11.2.tar.gz (1.8 MB)\n",
      "Requirement already satisfied: future in c:\\users\\adith\\anaconda3\\lib\\site-packages (from dash==1.19.0) (0.18.2)\n",
      "Requirement already satisfied: Jinja2>=2.10.1 in c:\\users\\adith\\anaconda3\\lib\\site-packages (from Flask>=1.0.4->dash==1.19.0) (2.11.2)\n",
      "Requirement already satisfied: Werkzeug>=0.15 in c:\\users\\adith\\anaconda3\\lib\\site-packages (from Flask>=1.0.4->dash==1.19.0) (1.0.1)\n",
      "Requirement already satisfied: itsdangerous>=0.24 in c:\\users\\adith\\anaconda3\\lib\\site-packages (from Flask>=1.0.4->dash==1.19.0) (1.1.0)\n",
      "Requirement already satisfied: click>=5.1 in c:\\users\\adith\\anaconda3\\lib\\site-packages (from Flask>=1.0.4->dash==1.19.0) (7.1.2)\n",
      "Collecting brotli\n",
      "  Downloading Brotli-1.0.9-cp38-cp38-win_amd64.whl (365 kB)\n",
      "Requirement already satisfied: six in c:\\users\\adith\\anaconda3\\lib\\site-packages (from plotly->dash==1.19.0) (1.15.0)\n",
      "Requirement already satisfied: retrying>=1.3.3 in c:\\users\\adith\\anaconda3\\lib\\site-packages (from plotly->dash==1.19.0) (1.3.3)\n",
      "Requirement already satisfied: MarkupSafe>=0.23 in c:\\users\\adith\\anaconda3\\lib\\site-packages (from Jinja2>=2.10.1->Flask>=1.0.4->dash==1.19.0) (1.1.1)\n",
      "Building wheels for collected packages: dash, flask-compress, dash-renderer, dash-core-components, dash-html-components, dash-table\n",
      "  Building wheel for dash (setup.py): started\n",
      "  Building wheel for dash (setup.py): finished with status 'done'\n",
      "  Created wheel for dash: filename=dash-1.19.0-py3-none-any.whl size=84016 sha256=18f431b862c5e380c7332c3b27ad920068a4cd0967e41d6dd1153635ec96f6f1\n",
      "  Stored in directory: c:\\users\\adith\\appdata\\local\\pip\\cache\\wheels\\e7\\27\\2f\\a9f9bf858843b5365bcb311a80f0b2379737caf4ec50b2ae3a\n",
      "  Building wheel for flask-compress (setup.py): started\n",
      "  Building wheel for flask-compress (setup.py): finished with status 'done'\n",
      "  Created wheel for flask-compress: filename=Flask_Compress-1.9.0-py3-none-any.whl size=7263 sha256=723f5a46bd7a527096e6e0347ac25aaba0b06325f159e363708fd54b008210ef\n",
      "  Stored in directory: c:\\users\\adith\\appdata\\local\\pip\\cache\\wheels\\c6\\05\\75\\97e2cade6f5140199c8f49d11180883387042a1e5f0d117aba\n",
      "  Building wheel for dash-renderer (setup.py): started\n",
      "  Building wheel for dash-renderer (setup.py): finished with status 'done'\n",
      "  Created wheel for dash-renderer: filename=dash_renderer-1.9.0-py3-none-any.whl size=1014874 sha256=dcef2e0bd80cd06d38274a5ab95fdae117d4f2e4df52ce6d8b4432d3c27b8302\n",
      "  Stored in directory: c:\\users\\adith\\appdata\\local\\pip\\cache\\wheels\\08\\94\\09\\e11ba8ae5d97e1c8ff5be0ac1f7cf42642eec6ea94ed1e4b44\n",
      "  Building wheel for dash-core-components (setup.py): started\n",
      "  Building wheel for dash-core-components (setup.py): finished with status 'done'\n",
      "  Created wheel for dash-core-components: filename=dash_core_components-1.15.0-py3-none-any.whl size=3527019 sha256=cbb30f882ffbf1932ff3d6ace9d3cbf0df0d1f8c643d89527d78edd62994f782\n",
      "  Stored in directory: c:\\users\\adith\\appdata\\local\\pip\\cache\\wheels\\e3\\e6\\0e\\759ca580c568aad2436521fa6df67f53a141dc1ab8f040c4c7\n",
      "  Building wheel for dash-html-components (setup.py): started\n",
      "  Building wheel for dash-html-components (setup.py): finished with status 'done'\n",
      "  Created wheel for dash-html-components: filename=dash_html_components-1.1.2-py3-none-any.whl size=427836 sha256=0a1117a505ce48826eac20171ee84aa3341d40264b81499ac5bb0107b66f2b2f\n",
      "  Stored in directory: c:\\users\\adith\\appdata\\local\\pip\\cache\\wheels\\8a\\bc\\a8\\7ad1d354777cfe77413fd7a092e07d7cc82f88f98997f4c463\n",
      "  Building wheel for dash-table (setup.py): started\n",
      "  Building wheel for dash-table (setup.py): finished with status 'done'\n",
      "  Created wheel for dash-table: filename=dash_table-4.11.2-py3-none-any.whl size=1839874 sha256=18d1a950f6a8aae779723627b36d6b3acd56016819fec87cc8e793430aa67f97\n",
      "  Stored in directory: c:\\users\\adith\\appdata\\local\\pip\\cache\\wheels\\cc\\1d\\a0\\720dcf854e410eddbe44f8434f4d3a6332fdd085178eeac4f9\n",
      "Successfully built dash flask-compress dash-renderer dash-core-components dash-html-components dash-table\n",
      "Installing collected packages: brotli, flask-compress, dash-renderer, dash-core-components, dash-html-components, dash-table, dash\n",
      "Successfully installed brotli-1.0.9 dash-1.19.0 dash-core-components-1.15.0 dash-html-components-1.1.2 dash-renderer-1.9.0 dash-table-4.11.2 flask-compress-1.9.0\n"
     ]
    }
   ],
   "source": [
    "!pip install dash==1.19.0\n"
   ]
  },
  {
   "cell_type": "code",
   "execution_count": 2,
   "metadata": {
    "ExecuteTime": {
     "end_time": "2021-02-18T21:15:46.569507Z",
     "start_time": "2021-02-18T21:15:42.937625Z"
    }
   },
   "outputs": [],
   "source": [
    "# -*- coding: utf-8 -*-\n",
    "\n",
    "# Run this app with `python app.py` and\n",
    "# visit http://127.0.0.1:8050/ in your web browser.\n",
    "\n",
    "import dash\n",
    "import dash_core_components as dcc\n",
    "import dash_html_components as html\n",
    "import plotly.express as px\n",
    "import pandas as pd"
   ]
  },
  {
   "cell_type": "code",
   "execution_count": 4,
   "metadata": {
    "ExecuteTime": {
     "end_time": "2021-02-18T21:16:28.601268Z",
     "start_time": "2021-02-18T21:16:27.256581Z"
    }
   },
   "outputs": [
    {
     "name": "stdout",
     "output_type": "stream",
     "text": [
      "Dash is running on http://127.0.0.1:8050/\n",
      "\n",
      "Dash is running on http://127.0.0.1:8050/\n",
      "\n",
      " * Serving Flask app \"__main__\" (lazy loading)\n",
      " * Environment: production\n",
      "   WARNING: This is a development server. Do not use it in a production deployment.\n",
      "   Use a production WSGI server instead.\n",
      " * Debug mode: on\n"
     ]
    },
    {
     "ename": "SystemExit",
     "evalue": "1",
     "output_type": "error",
     "traceback": [
      "An exception has occurred, use %tb to see the full traceback.\n",
      "\u001b[1;31mSystemExit\u001b[0m\u001b[1;31m:\u001b[0m 1\n"
     ]
    }
   ],
   "source": [
    "external_stylesheets = ['https://codepen.io/chriddyp/pen/bWLwgP.css']\n",
    "\n",
    "app = dash.Dash(__name__, external_stylesheets=external_stylesheets)\n",
    "\n",
    "# assume you have a \"long-form\" data frame\n",
    "# see https://plotly.com/python/px-arguments/ for more options\n",
    "df = pd.DataFrame({\n",
    "    \"Fruit\": [\"Apples\", \"Oranges\", \"Bananas\", \"Apples\", \"Oranges\", \"Bananas\"],\n",
    "    \"Amount\": [4, 1, 2, 2, 4, 5],\n",
    "    \"City\": [\"SF\", \"SF\", \"SF\", \"Montreal\", \"Montreal\", \"Montreal\"]\n",
    "})\n",
    "\n",
    "fig = px.bar(df, x=\"Fruit\", y=\"Amount\", color=\"City\", barmode=\"group\")\n",
    "\n",
    "app.layout = html.Div(children=[\n",
    "    html.H1(children='Hello Dash'),\n",
    "\n",
    "    html.Div(children='''\n",
    "        Dash: A web application framework for Python.\n",
    "    '''),\n",
    "\n",
    "    dcc.Graph(\n",
    "        id='example-graph',\n",
    "        figure=fig\n",
    "    )\n",
    "])\n",
    "\n",
    "app.run_server(debug=True)"
   ]
  }
 ],
 "metadata": {
  "kernelspec": {
   "display_name": "Python 3",
   "language": "python",
   "name": "python3"
  },
  "language_info": {
   "codemirror_mode": {
    "name": "ipython",
    "version": 3
   },
   "file_extension": ".py",
   "mimetype": "text/x-python",
   "name": "python",
   "nbconvert_exporter": "python",
   "pygments_lexer": "ipython3",
   "version": "3.8.3"
  }
 },
 "nbformat": 4,
 "nbformat_minor": 4
}

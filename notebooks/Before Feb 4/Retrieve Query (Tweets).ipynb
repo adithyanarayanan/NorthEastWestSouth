{
 "cells": [
  {
   "cell_type": "code",
   "execution_count": 2,
   "metadata": {
    "ExecuteTime": {
     "end_time": "2021-02-04T05:33:12.012028Z",
     "start_time": "2021-02-04T05:33:12.005038Z"
    },
    "scrolled": true
   },
   "outputs": [],
   "source": [
    "# Imports necessities and sets up Tweepy\n",
    "import pandas as pd\n",
    "import time\n",
    "import tweepy\n",
    "import preprocessor as p\n",
    "\n",
    "consumer_key= \"89Oz0ubX0U75XVQKFjgJIHwle\"\n",
    "consumer_secret= \"I7Yelqa4izbPwdLCOc6xPZQ5iMv450PQLJ3Ax2yifOF2SVSYEl\"\n",
    "access_token_key= \"2515973623-V4uKT2FRKgDb46wRXLxp03H83ADhyHGTOfUSUEh\"\n",
    "access_token_secret= \"7yQRyIhjwLx7OdCCrHaBYPzVHTUBTlxrH9VrJqDTNPetp\"\n",
    "bearer_token = \"AAAAAAAAAAAAAAAAAAAAANnsIAEAAAAAcabb1dwkz8IDsKMt1%2BKvd%2FAvREs%3DHuon2AtD3NWevHLrkJKVafsnnSXovea6iKdvG6S2fKY17jy7Kg\"\n",
    "\n",
    "# Set up personal twitter credentials\n",
    "# Tweepy Authentication\n",
    "auth = tweepy.OAuthHandler(consumer_key, consumer_secret)\n",
    "auth.set_access_token(access_token_key, access_token_secret)\n",
    "api = tweepy.API(auth)"
   ]
  },
  {
   "cell_type": "markdown",
   "metadata": {},
   "source": [
    "Retrieving Tweets to test efficacy of classifiers"
   ]
  },
  {
   "cell_type": "code",
   "execution_count": 3,
   "metadata": {
    "ExecuteTime": {
     "end_time": "2021-02-04T05:33:15.821318Z",
     "start_time": "2021-02-04T05:33:15.808316Z"
    }
   },
   "outputs": [],
   "source": [
    "# Retrieves new timeline tweets given a list of screen names\n",
    "\n",
    "def get_new_tweets(names):\n",
    "    print(\"Retrieving tweets\")\n",
    "    corpus = []                                                                                        # an array that will store all the tweets we need from the screen_name\n",
    "    for name in names:\n",
    "        tweets = api.user_timeline(name, include_rts=False, count=200, tweet_mode=\"extended\")          # retrieves up to 200 tweets from the given screen name\n",
    "        time.sleep(4)\n",
    "        corpus.extend(tweets)                                                                          # add current retrieval of tweets to our corpus\n",
    "\n",
    "    data = [[tweet.id_str, tweet.user.screen_name, tweet.full_text, tweet.created_at] for tweet in corpus]\n",
    "    news = pd.DataFrame(data, columns=['tweet_id', 'screen_name', 'text', 'timestamp'])                # creates a dataframe with the retrieved tweets\n",
    "\n",
    "    return news"
   ]
  },
  {
   "cell_type": "code",
   "execution_count": 4,
   "metadata": {
    "ExecuteTime": {
     "end_time": "2021-02-04T05:33:32.032066Z",
     "start_time": "2021-02-04T05:33:17.784291Z"
    }
   },
   "outputs": [
    {
     "name": "stdout",
     "output_type": "stream",
     "text": [
      "Retrieving tweets\n"
     ]
    }
   ],
   "source": [
    "names = ['nytimes', 'reuters', 'washingtonpost']\n",
    "news = get_new_tweets(names)"
   ]
  },
  {
   "cell_type": "code",
   "execution_count": 5,
   "metadata": {
    "ExecuteTime": {
     "end_time": "2021-02-04T05:34:07.800326Z",
     "start_time": "2021-02-04T05:34:07.726321Z"
    },
    "scrolled": true
   },
   "outputs": [
    {
     "data": {
      "text/html": [
       "<div>\n",
       "<style scoped>\n",
       "    .dataframe tbody tr th:only-of-type {\n",
       "        vertical-align: middle;\n",
       "    }\n",
       "\n",
       "    .dataframe tbody tr th {\n",
       "        vertical-align: top;\n",
       "    }\n",
       "\n",
       "    .dataframe thead th {\n",
       "        text-align: right;\n",
       "    }\n",
       "</style>\n",
       "<table border=\"1\" class=\"dataframe\">\n",
       "  <thead>\n",
       "    <tr style=\"text-align: right;\">\n",
       "      <th></th>\n",
       "      <th>tweet_id</th>\n",
       "      <th>screen_name</th>\n",
       "      <th>text</th>\n",
       "      <th>timestamp</th>\n",
       "    </tr>\n",
       "  </thead>\n",
       "  <tbody>\n",
       "    <tr>\n",
       "      <th>0</th>\n",
       "      <td>1357192184748003332</td>\n",
       "      <td>nytimes</td>\n",
       "      <td>While athletes and other attendees at this sum...</td>\n",
       "      <td>2021-02-04 05:00:06</td>\n",
       "    </tr>\n",
       "    <tr>\n",
       "      <th>1</th>\n",
       "      <td>1357184650641293312</td>\n",
       "      <td>nytimes</td>\n",
       "      <td>The family of a military veteran who died in 2...</td>\n",
       "      <td>2021-02-04 04:30:10</td>\n",
       "    </tr>\n",
       "    <tr>\n",
       "      <th>2</th>\n",
       "      <td>1357179605518581760</td>\n",
       "      <td>nytimes</td>\n",
       "      <td>A state lawmaker in Missouri was charged this ...</td>\n",
       "      <td>2021-02-04 04:10:07</td>\n",
       "    </tr>\n",
       "    <tr>\n",
       "      <th>3</th>\n",
       "      <td>1357177097941377033</td>\n",
       "      <td>nytimes</td>\n",
       "      <td>U.S. Defense Secretary Lloyd Austin convened t...</td>\n",
       "      <td>2021-02-04 04:00:09</td>\n",
       "    </tr>\n",
       "    <tr>\n",
       "      <th>4</th>\n",
       "      <td>1357172041015840769</td>\n",
       "      <td>nytimes</td>\n",
       "      <td>Who knew that it could be so much fun to watch...</td>\n",
       "      <td>2021-02-04 03:40:04</td>\n",
       "    </tr>\n",
       "    <tr>\n",
       "      <th>...</th>\n",
       "      <td>...</td>\n",
       "      <td>...</td>\n",
       "      <td>...</td>\n",
       "      <td>...</td>\n",
       "    </tr>\n",
       "    <tr>\n",
       "      <th>550</th>\n",
       "      <td>1356487180839960576</td>\n",
       "      <td>washingtonpost</td>\n",
       "      <td>As House GOP faces decision on its future, McC...</td>\n",
       "      <td>2021-02-02 06:18:40</td>\n",
       "    </tr>\n",
       "    <tr>\n",
       "      <th>551</th>\n",
       "      <td>1356481129684082688</td>\n",
       "      <td>washingtonpost</td>\n",
       "      <td>The GameStop stock situation isn’t about popul...</td>\n",
       "      <td>2021-02-02 05:54:38</td>\n",
       "    </tr>\n",
       "    <tr>\n",
       "      <th>552</th>\n",
       "      <td>1356474735962566657</td>\n",
       "      <td>washingtonpost</td>\n",
       "      <td>Opinion: Confederate names are coming down, bu...</td>\n",
       "      <td>2021-02-02 05:29:13</td>\n",
       "    </tr>\n",
       "    <tr>\n",
       "      <th>553</th>\n",
       "      <td>1356468129996619779</td>\n",
       "      <td>washingtonpost</td>\n",
       "      <td>Major winter storm hits Northeast, Mid-Atlanti...</td>\n",
       "      <td>2021-02-02 05:02:58</td>\n",
       "    </tr>\n",
       "    <tr>\n",
       "      <th>554</th>\n",
       "      <td>1356460741944102915</td>\n",
       "      <td>washingtonpost</td>\n",
       "      <td>Opinion: GameStop is not a morality tale. Peop...</td>\n",
       "      <td>2021-02-02 04:33:37</td>\n",
       "    </tr>\n",
       "  </tbody>\n",
       "</table>\n",
       "<p>555 rows × 4 columns</p>\n",
       "</div>"
      ],
      "text/plain": [
       "                tweet_id     screen_name  \\\n",
       "0    1357192184748003332         nytimes   \n",
       "1    1357184650641293312         nytimes   \n",
       "2    1357179605518581760         nytimes   \n",
       "3    1357177097941377033         nytimes   \n",
       "4    1357172041015840769         nytimes   \n",
       "..                   ...             ...   \n",
       "550  1356487180839960576  washingtonpost   \n",
       "551  1356481129684082688  washingtonpost   \n",
       "552  1356474735962566657  washingtonpost   \n",
       "553  1356468129996619779  washingtonpost   \n",
       "554  1356460741944102915  washingtonpost   \n",
       "\n",
       "                                                  text           timestamp  \n",
       "0    While athletes and other attendees at this sum... 2021-02-04 05:00:06  \n",
       "1    The family of a military veteran who died in 2... 2021-02-04 04:30:10  \n",
       "2    A state lawmaker in Missouri was charged this ... 2021-02-04 04:10:07  \n",
       "3    U.S. Defense Secretary Lloyd Austin convened t... 2021-02-04 04:00:09  \n",
       "4    Who knew that it could be so much fun to watch... 2021-02-04 03:40:04  \n",
       "..                                                 ...                 ...  \n",
       "550  As House GOP faces decision on its future, McC... 2021-02-02 06:18:40  \n",
       "551  The GameStop stock situation isn’t about popul... 2021-02-02 05:54:38  \n",
       "552  Opinion: Confederate names are coming down, bu... 2021-02-02 05:29:13  \n",
       "553  Major winter storm hits Northeast, Mid-Atlanti... 2021-02-02 05:02:58  \n",
       "554  Opinion: GameStop is not a morality tale. Peop... 2021-02-02 04:33:37  \n",
       "\n",
       "[555 rows x 4 columns]"
      ]
     },
     "execution_count": 5,
     "metadata": {},
     "output_type": "execute_result"
    }
   ],
   "source": [
    "news"
   ]
  },
  {
   "cell_type": "code",
   "execution_count": 6,
   "metadata": {
    "ExecuteTime": {
     "end_time": "2021-02-04T05:34:16.985574Z",
     "start_time": "2021-02-04T05:34:16.939574Z"
    }
   },
   "outputs": [],
   "source": [
    "news.to_csv(\"news_sample_2.csv\") # Write to csv for future reuse"
   ]
  },
  {
   "cell_type": "markdown",
   "metadata": {},
   "source": [
    "Retrieving Health Related Tweets from News Orgs for training"
   ]
  },
  {
   "cell_type": "code",
   "execution_count": null,
   "metadata": {},
   "outputs": [],
   "source": [
    "# retrieve tweets by query q\n",
    "\n",
    "q = \"(vaccine, OR covid, OR virus, OR quarantine, OR isolation, OR pandemic, OR epidemic) (from:)\"+ name + \"-filter:replies\"\n",
    "names = ['nytimes', 'reuters', 'washingtonpost']\n",
    "corpus = []\n",
    "for name in names:    \n",
    "    tweets = api.search(q, count=100)\n",
    "    corpus.extend(tweets)\n",
    "    time.sleep(5)"
   ]
  },
  {
   "cell_type": "code",
   "execution_count": null,
   "metadata": {
    "ExecuteTime": {
     "end_time": "2021-01-29T19:33:51.952977Z",
     "start_time": "2021-01-29T19:33:51.944979Z"
    }
   },
   "outputs": [],
   "source": [
    "# Clean the health related tweets stored in h_df and store in csv\n",
    "h_data = [[tweet.text] for tweet in corpus]\n",
    "h_df = pd.DataFrame(h_data, columns=['Text'])\n",
    "h_df['Category'] = \"health\"\n",
    "h_df.drop_duplicates(inplace=True)\n",
    "h_df.Text = h_df['Text'].apply(p.clean)\n",
    "h_df.Text = h_df.Text.str.replace(\": \", \"\")\n",
    "h_df.to_csv(\"health_headlines.csv\")\n"
   ]
  }
 ],
 "metadata": {
  "kernelspec": {
   "display_name": "Python 3",
   "language": "python",
   "name": "python3"
  },
  "language_info": {
   "codemirror_mode": {
    "name": "ipython",
    "version": 3
   },
   "file_extension": ".py",
   "mimetype": "text/x-python",
   "name": "python",
   "nbconvert_exporter": "python",
   "pygments_lexer": "ipython3",
   "version": "3.8.3"
  }
 },
 "nbformat": 4,
 "nbformat_minor": 4
}

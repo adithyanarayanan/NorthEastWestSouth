{
  "nbformat": 4,
  "nbformat_minor": 0,
  "metadata": {
    "colab": {
      "name": "NewsCategory_Estimators",
      "provenance": [],
      "collapsed_sections": []
    },
    "kernelspec": {
      "name": "python3",
      "display_name": "Python 3"
    }
  },
  "cells": [
    {
      "cell_type": "code",
      "metadata": {
        "id": "eEOZUhZI9az7",
        "colab": {
          "base_uri": "https://localhost:8080/"
        },
        "outputId": "3b32a378-6448-457e-a396-17f35faed075"
      },
      "source": [
        "# Necesary imports\r\n",
        "# Pipeline usage learnt from https://towardsdatascience.com/nlp-with-pipeline-gridsearch-5922266e82f4\r\n",
        "!pip install tweet-preprocessor\r\n",
        "!pip install icecream\r\n",
        "import numpy as np\r\n",
        "import pandas as pd\r\n",
        "from sklearn.linear_model import LogisticRegression\r\n",
        "from sklearn.model_selection import cross_val_score\r\n",
        "from sklearn.feature_extraction.text import TfidfVectorizer\r\n",
        "from sklearn.model_selection import train_test_split\r\n",
        "from sklearn.linear_model import LogisticRegression\r\n",
        "from sklearn.model_selection import cross_val_score\r\n",
        "from sklearn.metrics import accuracy_score\r\n",
        "from sklearn.feature_extraction.text import TfidfVectorizer\r\n",
        "from sklearn.model_selection import train_test_split\r\n",
        "from sklearn.naive_bayes import MultinomialNB\r\n",
        "from sklearn.pipeline import Pipeline\r\n",
        "import preprocessor as p\r\n",
        "from sklearn.model_selection import GridSearchCV\r\n",
        "from icecream import ic\r\n",
        "from sklearn.svm import LinearSVC\r\n",
        "from sklearn.pipeline import make_pipeline\r\n",
        "from sklearn.preprocessing import StandardScaler \r\n",
        "from sklearn.datasets import make_classification"
      ],
      "execution_count": 2,
      "outputs": [
        {
          "output_type": "stream",
          "text": [
            "Requirement already satisfied: tweet-preprocessor in /usr/local/lib/python3.6/dist-packages (0.6.0)\n",
            "Requirement already satisfied: icecream in /usr/local/lib/python3.6/dist-packages (2.1.0)\n",
            "Requirement already satisfied: colorama>=0.3.9 in /usr/local/lib/python3.6/dist-packages (from icecream) (0.4.4)\n",
            "Requirement already satisfied: asttokens>=2.0.1 in /usr/local/lib/python3.6/dist-packages (from icecream) (2.0.4)\n",
            "Requirement already satisfied: executing>=0.3.1 in /usr/local/lib/python3.6/dist-packages (from icecream) (0.5.4)\n",
            "Requirement already satisfied: pygments>=2.2.0 in /usr/local/lib/python3.6/dist-packages (from icecream) (2.6.1)\n",
            "Requirement already satisfied: six in /usr/local/lib/python3.6/dist-packages (from asttokens>=2.0.1->icecream) (1.15.0)\n"
          ],
          "name": "stdout"
        }
      ]
    },
    {
      "cell_type": "code",
      "metadata": {
        "id": "Hz-F4peY_TRD"
      },
      "source": [
        "# Loading Data for Modeling and Blind Testing\r\n",
        "\r\n",
        "bbc_data = pd.read_csv(\"bbc_news.csv\")\r\n",
        "large_data = pd.read_csv(\"large_news_data.csv\")\r\n",
        "news_api_data  = pd.read_csv(\"large_news_data.csv\")\r\n",
        "test_tweets = pd.read_csv(\"labeled_tweets.csv\") "
      ],
      "execution_count": 3,
      "outputs": []
    },
    {
      "cell_type": "code",
      "metadata": {
        "colab": {
          "base_uri": "https://localhost:8080/",
          "height": 404
        },
        "id": "xPGaDXqK_zzR",
        "outputId": "f8efe77d-a58d-48b2-9bf3-7a00d95dad83"
      },
      "source": [
        "# Clean BBC Headlines Data\r\n",
        "\r\n",
        "bbc_data.text = bbc_data.text.str.lower().apply(p.clean)\r\n",
        "bbc_data.dropna(inplace=True)\r\n",
        "bbc_data"
      ],
      "execution_count": 4,
      "outputs": [
        {
          "output_type": "execute_result",
          "data": {
            "text/html": [
              "<div>\n",
              "<style scoped>\n",
              "    .dataframe tbody tr th:only-of-type {\n",
              "        vertical-align: middle;\n",
              "    }\n",
              "\n",
              "    .dataframe tbody tr th {\n",
              "        vertical-align: top;\n",
              "    }\n",
              "\n",
              "    .dataframe thead th {\n",
              "        text-align: right;\n",
              "    }\n",
              "</style>\n",
              "<table border=\"1\" class=\"dataframe\">\n",
              "  <thead>\n",
              "    <tr style=\"text-align: right;\">\n",
              "      <th></th>\n",
              "      <th>text</th>\n",
              "      <th>label</th>\n",
              "    </tr>\n",
              "  </thead>\n",
              "  <tbody>\n",
              "    <tr>\n",
              "      <th>0</th>\n",
              "      <td>worldcom ex-boss launches defence lawyers defe...</td>\n",
              "      <td>business</td>\n",
              "    </tr>\n",
              "    <tr>\n",
              "      <th>1</th>\n",
              "      <td>german business confidence slides german busin...</td>\n",
              "      <td>business</td>\n",
              "    </tr>\n",
              "    <tr>\n",
              "      <th>2</th>\n",
              "      <td>bbc poll indicates economic gloom citizens in ...</td>\n",
              "      <td>business</td>\n",
              "    </tr>\n",
              "    <tr>\n",
              "      <th>3</th>\n",
              "      <td>enron bosses in $168m payout eighteen former e...</td>\n",
              "      <td>business</td>\n",
              "    </tr>\n",
              "    <tr>\n",
              "      <th>4</th>\n",
              "      <td>howard truanted to play snooker conservative l...</td>\n",
              "      <td>politics</td>\n",
              "    </tr>\n",
              "    <tr>\n",
              "      <th>...</th>\n",
              "      <td>...</td>\n",
              "      <td>...</td>\n",
              "    </tr>\n",
              "    <tr>\n",
              "      <th>1259</th>\n",
              "      <td>great opinion piece from in on the consequence...</td>\n",
              "      <td>health</td>\n",
              "    </tr>\n",
              "    <tr>\n",
              "      <th>1260</th>\n",
              "      <td>there are still too many families who are just...</td>\n",
              "      <td>health</td>\n",
              "    </tr>\n",
              "    <tr>\n",
              "      <th>1261</th>\n",
              "      <td>this is the last gdp report from trumps tenure...</td>\n",
              "      <td>health</td>\n",
              "    </tr>\n",
              "    <tr>\n",
              "      <th>1262</th>\n",
              "      <td>paid time off to get vaccinated, featuring and...</td>\n",
              "      <td>health</td>\n",
              "    </tr>\n",
              "    <tr>\n",
              "      <th>1263</th>\n",
              "      <td>according to researchers from the centers for ...</td>\n",
              "      <td>health</td>\n",
              "    </tr>\n",
              "  </tbody>\n",
              "</table>\n",
              "<p>1264 rows × 2 columns</p>\n",
              "</div>"
            ],
            "text/plain": [
              "                                                   text     label\n",
              "0     worldcom ex-boss launches defence lawyers defe...  business\n",
              "1     german business confidence slides german busin...  business\n",
              "2     bbc poll indicates economic gloom citizens in ...  business\n",
              "3     enron bosses in $168m payout eighteen former e...  business\n",
              "4     howard truanted to play snooker conservative l...  politics\n",
              "...                                                 ...       ...\n",
              "1259  great opinion piece from in on the consequence...    health\n",
              "1260  there are still too many families who are just...    health\n",
              "1261  this is the last gdp report from trumps tenure...    health\n",
              "1262  paid time off to get vaccinated, featuring and...    health\n",
              "1263  according to researchers from the centers for ...    health\n",
              "\n",
              "[1264 rows x 2 columns]"
            ]
          },
          "metadata": {
            "tags": []
          },
          "execution_count": 4
        }
      ]
    },
    {
      "cell_type": "code",
      "metadata": {
        "colab": {
          "base_uri": "https://localhost:8080/",
          "height": 404
        },
        "id": "CS0xxT8XxqKs",
        "outputId": "8ac1f4d5-5ca9-4adf-bd1b-dbc63c31eac2"
      },
      "source": [
        "# Clean large headlines data (subset of) : https://www.kaggle.com/rmisra/news-category-dataset \r\n",
        "\r\n",
        "large_data.dropna(inplace=True)\r\n",
        "large_data.text = large_data.text.str.lower()\r\n",
        "large_data.text = large_data.text.apply(p.clean)\r\n",
        "large_data"
      ],
      "execution_count": 5,
      "outputs": [
        {
          "output_type": "execute_result",
          "data": {
            "text/html": [
              "<div>\n",
              "<style scoped>\n",
              "    .dataframe tbody tr th:only-of-type {\n",
              "        vertical-align: middle;\n",
              "    }\n",
              "\n",
              "    .dataframe tbody tr th {\n",
              "        vertical-align: top;\n",
              "    }\n",
              "\n",
              "    .dataframe thead th {\n",
              "        text-align: right;\n",
              "    }\n",
              "</style>\n",
              "<table border=\"1\" class=\"dataframe\">\n",
              "  <thead>\n",
              "    <tr style=\"text-align: right;\">\n",
              "      <th></th>\n",
              "      <th>text</th>\n",
              "      <th>label</th>\n",
              "    </tr>\n",
              "  </thead>\n",
              "  <tbody>\n",
              "    <tr>\n",
              "      <th>0</th>\n",
              "      <td>why overeating doesn't make you fat</td>\n",
              "      <td>health</td>\n",
              "    </tr>\n",
              "    <tr>\n",
              "      <th>1</th>\n",
              "      <td>habits of people with a healthy relationship t...</td>\n",
              "      <td>health</td>\n",
              "    </tr>\n",
              "    <tr>\n",
              "      <th>2</th>\n",
              "      <td>things that could be stealing your joy</td>\n",
              "      <td>health</td>\n",
              "    </tr>\n",
              "    <tr>\n",
              "      <th>3</th>\n",
              "      <td>moments make a life</td>\n",
              "      <td>health</td>\n",
              "    </tr>\n",
              "    <tr>\n",
              "      <th>4</th>\n",
              "      <td>fat facts</td>\n",
              "      <td>health</td>\n",
              "    </tr>\n",
              "    <tr>\n",
              "      <th>...</th>\n",
              "      <td>...</td>\n",
              "      <td>...</td>\n",
              "    </tr>\n",
              "    <tr>\n",
              "      <th>24879</th>\n",
              "      <td>vanessa and nick lachey welcome christmas eve ...</td>\n",
              "      <td>entertainment</td>\n",
              "    </tr>\n",
              "    <tr>\n",
              "      <th>24880</th>\n",
              "      <td>remembering george michael with of his greates...</td>\n",
              "      <td>entertainment</td>\n",
              "    </tr>\n",
              "    <tr>\n",
              "      <th>24881</th>\n",
              "      <td>the first 'alien: covenant' trailer is a terri...</td>\n",
              "      <td>entertainment</td>\n",
              "    </tr>\n",
              "    <tr>\n",
              "      <th>24882</th>\n",
              "      <td>'rogue one' dominates the holiday box office</td>\n",
              "      <td>entertainment</td>\n",
              "    </tr>\n",
              "    <tr>\n",
              "      <th>24883</th>\n",
              "      <td>a&amp;e cancels upcoming kkk docuseries over cash ...</td>\n",
              "      <td>entertainment</td>\n",
              "    </tr>\n",
              "  </tbody>\n",
              "</table>\n",
              "<p>24883 rows × 2 columns</p>\n",
              "</div>"
            ],
            "text/plain": [
              "                                                    text          label\n",
              "0                    why overeating doesn't make you fat         health\n",
              "1      habits of people with a healthy relationship t...         health\n",
              "2                 things that could be stealing your joy         health\n",
              "3                                    moments make a life         health\n",
              "4                                              fat facts         health\n",
              "...                                                  ...            ...\n",
              "24879  vanessa and nick lachey welcome christmas eve ...  entertainment\n",
              "24880  remembering george michael with of his greates...  entertainment\n",
              "24881  the first 'alien: covenant' trailer is a terri...  entertainment\n",
              "24882       'rogue one' dominates the holiday box office  entertainment\n",
              "24883  a&e cancels upcoming kkk docuseries over cash ...  entertainment\n",
              "\n",
              "[24883 rows x 2 columns]"
            ]
          },
          "metadata": {
            "tags": []
          },
          "execution_count": 5
        }
      ]
    },
    {
      "cell_type": "code",
      "metadata": {
        "id": "WPUadNjgxrbs"
      },
      "source": [
        "# news_api_data.text = news_api_data.text.str.lower()\r\n",
        "# news_api_data.text = news_api_data.text.apply(p.clean)\r\n",
        "# news_api_data.dropna(inplace=True)\r\n",
        "# news_api_data"
      ],
      "execution_count": 6,
      "outputs": []
    },
    {
      "cell_type": "code",
      "metadata": {
        "colab": {
          "base_uri": "https://localhost:8080/",
          "height": 404
        },
        "id": "WHTa2g49xtH7",
        "outputId": "281550fe-39b7-46fe-8837-430510c25f92"
      },
      "source": [
        "# Manually annotates test tweets\r\n",
        "\r\n",
        "test_tweets.fillna(\"NA\", inplace=True)\r\n",
        "test_tweets.text = test_tweets.text.str.lower()\r\n",
        "test_tweets.text = test_tweets.text.apply(p.clean)\r\n",
        "test_tweets"
      ],
      "execution_count": 7,
      "outputs": [
        {
          "output_type": "execute_result",
          "data": {
            "text/html": [
              "<div>\n",
              "<style scoped>\n",
              "    .dataframe tbody tr th:only-of-type {\n",
              "        vertical-align: middle;\n",
              "    }\n",
              "\n",
              "    .dataframe tbody tr th {\n",
              "        vertical-align: top;\n",
              "    }\n",
              "\n",
              "    .dataframe thead th {\n",
              "        text-align: right;\n",
              "    }\n",
              "</style>\n",
              "<table border=\"1\" class=\"dataframe\">\n",
              "  <thead>\n",
              "    <tr style=\"text-align: right;\">\n",
              "      <th></th>\n",
              "      <th>text</th>\n",
              "      <th>label1</th>\n",
              "      <th>label2</th>\n",
              "    </tr>\n",
              "  </thead>\n",
              "  <tbody>\n",
              "    <tr>\n",
              "      <th>0</th>\n",
              "      <td>while athletes and other attendees at this sum...</td>\n",
              "      <td>sports</td>\n",
              "      <td>health</td>\n",
              "    </tr>\n",
              "    <tr>\n",
              "      <th>1</th>\n",
              "      <td>the family of a military veteran who died in a...</td>\n",
              "      <td>politics</td>\n",
              "      <td>NA</td>\n",
              "    </tr>\n",
              "    <tr>\n",
              "      <th>2</th>\n",
              "      <td>a state lawmaker in missouri was charged this ...</td>\n",
              "      <td>health</td>\n",
              "      <td>politics</td>\n",
              "    </tr>\n",
              "    <tr>\n",
              "      <th>3</th>\n",
              "      <td>u.s. defense secretary lloyd austin convened t...</td>\n",
              "      <td>politics</td>\n",
              "      <td>NA</td>\n",
              "    </tr>\n",
              "    <tr>\n",
              "      <th>4</th>\n",
              "      <td>who knew that it could be so much fun to watch...</td>\n",
              "      <td>politics</td>\n",
              "      <td>entertainment</td>\n",
              "    </tr>\n",
              "    <tr>\n",
              "      <th>...</th>\n",
              "      <td>...</td>\n",
              "      <td>...</td>\n",
              "      <td>...</td>\n",
              "    </tr>\n",
              "    <tr>\n",
              "      <th>540</th>\n",
              "      <td>elon musks spacex announces a spaceflight inte...</td>\n",
              "      <td>business</td>\n",
              "      <td>NA</td>\n",
              "    </tr>\n",
              "    <tr>\n",
              "      <th>541</th>\n",
              "      <td>as house gop faces decision on its future, mcc...</td>\n",
              "      <td>politics</td>\n",
              "      <td>NA</td>\n",
              "    </tr>\n",
              "    <tr>\n",
              "      <th>542</th>\n",
              "      <td>the gamestop stock situation isnt about populi...</td>\n",
              "      <td>business</td>\n",
              "      <td>NA</td>\n",
              "    </tr>\n",
              "    <tr>\n",
              "      <th>543</th>\n",
              "      <td>opinion: confederate names are coming down, bu...</td>\n",
              "      <td>politics</td>\n",
              "      <td>NA</td>\n",
              "    </tr>\n",
              "    <tr>\n",
              "      <th>544</th>\n",
              "      <td>opinion: gamestop is not a morality tale. peop...</td>\n",
              "      <td>business</td>\n",
              "      <td>NA</td>\n",
              "    </tr>\n",
              "  </tbody>\n",
              "</table>\n",
              "<p>545 rows × 3 columns</p>\n",
              "</div>"
            ],
            "text/plain": [
              "                                                  text    label1         label2\n",
              "0    while athletes and other attendees at this sum...    sports         health\n",
              "1    the family of a military veteran who died in a...  politics             NA\n",
              "2    a state lawmaker in missouri was charged this ...    health       politics\n",
              "3    u.s. defense secretary lloyd austin convened t...  politics             NA\n",
              "4    who knew that it could be so much fun to watch...  politics  entertainment\n",
              "..                                                 ...       ...            ...\n",
              "540  elon musks spacex announces a spaceflight inte...  business             NA\n",
              "541  as house gop faces decision on its future, mcc...  politics             NA\n",
              "542  the gamestop stock situation isnt about populi...  business             NA\n",
              "543  opinion: confederate names are coming down, bu...  politics             NA\n",
              "544  opinion: gamestop is not a morality tale. peop...  business             NA\n",
              "\n",
              "[545 rows x 3 columns]"
            ]
          },
          "metadata": {
            "tags": []
          },
          "execution_count": 7
        }
      ]
    },
    {
      "cell_type": "code",
      "metadata": {
        "colab": {
          "base_uri": "https://localhost:8080/",
          "height": 404
        },
        "id": "jKsdKn-D4fmd",
        "outputId": "69383ed3-5ff0-4827-c632-e7a82ae674e5"
      },
      "source": [
        "# Combining bbc data and news category data\r\n",
        "\r\n",
        "combined_bbc_large = pd.concat([bbc_data, large_data])\r\n",
        "combined_bbc_large.reset_index(inplace=True)\r\n",
        "combined_bbc_large.drop(columns=['index'], inplace=True)\r\n",
        "combined_bbc_large"
      ],
      "execution_count": 8,
      "outputs": [
        {
          "output_type": "execute_result",
          "data": {
            "text/html": [
              "<div>\n",
              "<style scoped>\n",
              "    .dataframe tbody tr th:only-of-type {\n",
              "        vertical-align: middle;\n",
              "    }\n",
              "\n",
              "    .dataframe tbody tr th {\n",
              "        vertical-align: top;\n",
              "    }\n",
              "\n",
              "    .dataframe thead th {\n",
              "        text-align: right;\n",
              "    }\n",
              "</style>\n",
              "<table border=\"1\" class=\"dataframe\">\n",
              "  <thead>\n",
              "    <tr style=\"text-align: right;\">\n",
              "      <th></th>\n",
              "      <th>text</th>\n",
              "      <th>label</th>\n",
              "    </tr>\n",
              "  </thead>\n",
              "  <tbody>\n",
              "    <tr>\n",
              "      <th>0</th>\n",
              "      <td>worldcom ex-boss launches defence lawyers defe...</td>\n",
              "      <td>business</td>\n",
              "    </tr>\n",
              "    <tr>\n",
              "      <th>1</th>\n",
              "      <td>german business confidence slides german busin...</td>\n",
              "      <td>business</td>\n",
              "    </tr>\n",
              "    <tr>\n",
              "      <th>2</th>\n",
              "      <td>bbc poll indicates economic gloom citizens in ...</td>\n",
              "      <td>business</td>\n",
              "    </tr>\n",
              "    <tr>\n",
              "      <th>3</th>\n",
              "      <td>enron bosses in $168m payout eighteen former e...</td>\n",
              "      <td>business</td>\n",
              "    </tr>\n",
              "    <tr>\n",
              "      <th>4</th>\n",
              "      <td>howard truanted to play snooker conservative l...</td>\n",
              "      <td>politics</td>\n",
              "    </tr>\n",
              "    <tr>\n",
              "      <th>...</th>\n",
              "      <td>...</td>\n",
              "      <td>...</td>\n",
              "    </tr>\n",
              "    <tr>\n",
              "      <th>26142</th>\n",
              "      <td>vanessa and nick lachey welcome christmas eve ...</td>\n",
              "      <td>entertainment</td>\n",
              "    </tr>\n",
              "    <tr>\n",
              "      <th>26143</th>\n",
              "      <td>remembering george michael with of his greates...</td>\n",
              "      <td>entertainment</td>\n",
              "    </tr>\n",
              "    <tr>\n",
              "      <th>26144</th>\n",
              "      <td>the first 'alien: covenant' trailer is a terri...</td>\n",
              "      <td>entertainment</td>\n",
              "    </tr>\n",
              "    <tr>\n",
              "      <th>26145</th>\n",
              "      <td>'rogue one' dominates the holiday box office</td>\n",
              "      <td>entertainment</td>\n",
              "    </tr>\n",
              "    <tr>\n",
              "      <th>26146</th>\n",
              "      <td>a&amp;e cancels upcoming kkk docuseries over cash ...</td>\n",
              "      <td>entertainment</td>\n",
              "    </tr>\n",
              "  </tbody>\n",
              "</table>\n",
              "<p>26147 rows × 2 columns</p>\n",
              "</div>"
            ],
            "text/plain": [
              "                                                    text          label\n",
              "0      worldcom ex-boss launches defence lawyers defe...       business\n",
              "1      german business confidence slides german busin...       business\n",
              "2      bbc poll indicates economic gloom citizens in ...       business\n",
              "3      enron bosses in $168m payout eighteen former e...       business\n",
              "4      howard truanted to play snooker conservative l...       politics\n",
              "...                                                  ...            ...\n",
              "26142  vanessa and nick lachey welcome christmas eve ...  entertainment\n",
              "26143  remembering george michael with of his greates...  entertainment\n",
              "26144  the first 'alien: covenant' trailer is a terri...  entertainment\n",
              "26145       'rogue one' dominates the holiday box office  entertainment\n",
              "26146  a&e cancels upcoming kkk docuseries over cash ...  entertainment\n",
              "\n",
              "[26147 rows x 2 columns]"
            ]
          },
          "metadata": {
            "tags": []
          },
          "execution_count": 8
        }
      ]
    },
    {
      "cell_type": "code",
      "metadata": {
        "id": "PdYuFcbdBQW5"
      },
      "source": [
        "training_data = large_data # Set the dataframe you want to train with (options: large_data or combined_bbc_large)"
      ],
      "execution_count": 9,
      "outputs": []
    },
    {
      "cell_type": "code",
      "metadata": {
        "id": "ne3UdRRkBlu-"
      },
      "source": [
        "# Create Training/testing Splits and Factorized labels\r\n",
        "\r\n",
        "training_data['category'] = training_data.label.factorize()[0]  # Factorize Labels\r\n",
        "X,y = training_data['text'], training_data['category'] \r\n",
        "X_train, X_test, y_train, y_test = train_test_split(X,y, random_state=0)"
      ],
      "execution_count": 10,
      "outputs": []
    },
    {
      "cell_type": "code",
      "metadata": {
        "id": "Wsx_bbZpCPgh"
      },
      "source": [
        "# Setting Up Pipelines and Parameters\r\n",
        "mnb_pipe = Pipeline([\r\n",
        "    ('tfv', TfidfVectorizer()),  \r\n",
        "    ('mb', MultinomialNB())\r\n",
        "])\r\n",
        "\r\n",
        "log_pipe = Pipeline([\r\n",
        "    ('tfv', TfidfVectorizer()),\r\n",
        "    ('lm', LogisticRegression())\r\n",
        "])\r\n",
        "\r\n",
        "lsvc_pipe = Pipeline([\r\n",
        "    ('tfv', TfidfVectorizer()),\r\n",
        "    ('linearsvc', LinearSVC(random_state=0))                   \r\n",
        "\r\n",
        "])\r\n",
        "\r\n",
        "mnb_params = {\r\n",
        " 'tfv__max_features':[1000, 2000, 3000, 4000, 5000, 6000, 7000, None],\r\n",
        " 'tfv__ngram_range': [(1, 1), (1, 2), (2, 2)],\r\n",
        " 'tfv__stop_words': ['english']\r\n",
        "}\r\n",
        "\r\n",
        "log_params = {\r\n",
        " 'tfv__max_features':[1000, 2000, 3000, 4000, 5000, 6000, 7000, None],\r\n",
        " 'tfv__ngram_range': [(1, 1), (1, 2), (2, 2)],\r\n",
        " 'tfv__stop_words': ['english'],\r\n",
        " 'lm__random_state': [0],\r\n",
        " 'lm__solver' : ['saga']\r\n",
        "}\r\n",
        "\r\n",
        "lsvc_params = {\r\n",
        " 'tfv__max_features':[1000, 2000, 3000, 4000, 5000, 6000, 7000, None],\r\n",
        " 'tfv__ngram_range': [(1, 1), (1, 2), (2, 2)],\r\n",
        " 'tfv__stop_words': ['english']\r\n",
        "}\r\n"
      ],
      "execution_count": 11,
      "outputs": []
    },
    {
      "cell_type": "code",
      "metadata": {
        "id": "kRJYZrzYFzaT",
        "colab": {
          "base_uri": "https://localhost:8080/"
        },
        "outputId": "c9e5e58b-257f-41fc-bcf3-33bfe52e86c3"
      },
      "source": [
        "# Linear SVC Grid Search\r\n",
        "lsvc_gs = GridSearchCV(lsvc_pipe, param_grid=lsvc_params, cv=5, verbose=1, n_jobs=-1)\r\n",
        "lsvc_gs.fit(X_train, y_train)\r\n",
        "ic(lsvc_gs.score(X_train, y_train))  # Train Accuracy\r\n",
        "ic(lsvc_gs.score(X_test, y_test))    # Test Accuracy"
      ],
      "execution_count": 12,
      "outputs": [
        {
          "output_type": "stream",
          "text": [
            "Fitting 5 folds for each of 21 candidates, totalling 105 fits\n"
          ],
          "name": "stdout"
        },
        {
          "output_type": "stream",
          "text": [
            "[Parallel(n_jobs=-1)]: Using backend LokyBackend with 2 concurrent workers.\n",
            "[Parallel(n_jobs=-1)]: Done  46 tasks      | elapsed:   24.9s\n",
            "[Parallel(n_jobs=-1)]: Done 105 out of 105 | elapsed:   56.5s finished\n",
            "ic| lsvc_gs.score(X_train, y_train): 0.9995713214017791\n",
            "ic| lsvc_gs.score(X_test, y_test): 0.8291271499758881\n"
          ],
          "name": "stderr"
        },
        {
          "output_type": "execute_result",
          "data": {
            "text/plain": [
              "0.8291271499758881"
            ]
          },
          "metadata": {
            "tags": []
          },
          "execution_count": 12
        }
      ]
    },
    {
      "cell_type": "code",
      "metadata": {
        "id": "YuB-hJpxGK-J",
        "colab": {
          "base_uri": "https://localhost:8080/"
        },
        "outputId": "b8c8ce0f-2895-4fe6-ea78-d1774994dcb1"
      },
      "source": [
        "# Multinomial Naive Bayes Grid Search\r\n",
        "\r\n",
        "mnb_gs = GridSearchCV(mnb_pipe, param_grid=mnb_params, cv = 5, verbose =1, n_jobs = -1)\r\n",
        "mnb_gs.fit(X_train, y_train)\r\n",
        "ic(mnb_gs.score(X_train, y_train)) # Train Acc\r\n",
        "ic(mnb_gs.score(X_test, y_test))  # Test Acc"
      ],
      "execution_count": 13,
      "outputs": [
        {
          "output_type": "stream",
          "text": [
            "[Parallel(n_jobs=-1)]: Using backend LokyBackend with 2 concurrent workers.\n"
          ],
          "name": "stderr"
        },
        {
          "output_type": "stream",
          "text": [
            "Fitting 5 folds for each of 21 candidates, totalling 105 fits\n"
          ],
          "name": "stdout"
        },
        {
          "output_type": "stream",
          "text": [
            "[Parallel(n_jobs=-1)]: Done  46 tasks      | elapsed:   17.1s\n",
            "[Parallel(n_jobs=-1)]: Done 105 out of 105 | elapsed:   39.8s finished\n",
            "ic| mnb_gs.score(X_train, y_train): 0.9729396634873004\n",
            "ic| mnb_gs.score(X_test, y_test): 0.8209291110753898\n"
          ],
          "name": "stderr"
        },
        {
          "output_type": "execute_result",
          "data": {
            "text/plain": [
              "0.8209291110753898"
            ]
          },
          "metadata": {
            "tags": []
          },
          "execution_count": 13
        }
      ]
    },
    {
      "cell_type": "code",
      "metadata": {
        "id": "1X3hGH1KIcFG",
        "colab": {
          "base_uri": "https://localhost:8080/"
        },
        "outputId": "a9fee182-ed27-4631-a449-8f2c0f5083cb"
      },
      "source": [
        "# Logistic Regression Classifier Grid Search \r\n",
        "\r\n",
        "log_gs = GridSearchCV(log_pipe, param_grid=log_params, cv = 5, verbose =1, n_jobs = -1)\r\n",
        "log_gs.fit(X_train, y_train)\r\n",
        "ic(log_gs.score(X_train, y_train)) # Train Acc\r\n",
        "ic(log_gs.score(X_test, y_test))   # Test Acc"
      ],
      "execution_count": 14,
      "outputs": [
        {
          "output_type": "stream",
          "text": [
            "[Parallel(n_jobs=-1)]: Using backend LokyBackend with 2 concurrent workers.\n"
          ],
          "name": "stderr"
        },
        {
          "output_type": "stream",
          "text": [
            "Fitting 5 folds for each of 21 candidates, totalling 105 fits\n"
          ],
          "name": "stdout"
        },
        {
          "output_type": "stream",
          "text": [
            "[Parallel(n_jobs=-1)]: Done  46 tasks      | elapsed:   25.1s\n",
            "[Parallel(n_jobs=-1)]: Done 105 out of 105 | elapsed:  1.0min finished\n",
            "ic| log_gs.score(X_train, y_train): 0.9636694888007716\n",
            "ic| log_gs.score(X_test, y_test): 0.8130525638964796\n"
          ],
          "name": "stderr"
        },
        {
          "output_type": "execute_result",
          "data": {
            "text/plain": [
              "0.8130525638964796"
            ]
          },
          "metadata": {
            "tags": []
          },
          "execution_count": 14
        }
      ]
    },
    {
      "cell_type": "code",
      "metadata": {
        "colab": {
          "base_uri": "https://localhost:8080/",
          "height": 196
        },
        "id": "xjVDqeaa7CC7",
        "outputId": "60ca2a63-2323-406e-a123-17012bccf3ee"
      },
      "source": [
        "training_data[['category', 'label']].drop_duplicates()\r\n"
      ],
      "execution_count": 15,
      "outputs": [
        {
          "output_type": "execute_result",
          "data": {
            "text/html": [
              "<div>\n",
              "<style scoped>\n",
              "    .dataframe tbody tr th:only-of-type {\n",
              "        vertical-align: middle;\n",
              "    }\n",
              "\n",
              "    .dataframe tbody tr th {\n",
              "        vertical-align: top;\n",
              "    }\n",
              "\n",
              "    .dataframe thead th {\n",
              "        text-align: right;\n",
              "    }\n",
              "</style>\n",
              "<table border=\"1\" class=\"dataframe\">\n",
              "  <thead>\n",
              "    <tr style=\"text-align: right;\">\n",
              "      <th></th>\n",
              "      <th>category</th>\n",
              "      <th>label</th>\n",
              "    </tr>\n",
              "  </thead>\n",
              "  <tbody>\n",
              "    <tr>\n",
              "      <th>0</th>\n",
              "      <td>0</td>\n",
              "      <td>health</td>\n",
              "    </tr>\n",
              "    <tr>\n",
              "      <th>5000</th>\n",
              "      <td>1</td>\n",
              "      <td>business</td>\n",
              "    </tr>\n",
              "    <tr>\n",
              "      <th>10000</th>\n",
              "      <td>2</td>\n",
              "      <td>politics</td>\n",
              "    </tr>\n",
              "    <tr>\n",
              "      <th>15000</th>\n",
              "      <td>3</td>\n",
              "      <td>sports</td>\n",
              "    </tr>\n",
              "    <tr>\n",
              "      <th>19884</th>\n",
              "      <td>4</td>\n",
              "      <td>entertainment</td>\n",
              "    </tr>\n",
              "  </tbody>\n",
              "</table>\n",
              "</div>"
            ],
            "text/plain": [
              "       category          label\n",
              "0             0         health\n",
              "5000          1       business\n",
              "10000         2       politics\n",
              "15000         3         sports\n",
              "19884         4  entertainment"
            ]
          },
          "metadata": {
            "tags": []
          },
          "execution_count": 15
        }
      ]
    },
    {
      "cell_type": "code",
      "metadata": {
        "id": "SoKcVCKu7PGG"
      },
      "source": [
        "test_news = test_tweets # Setting which data to test on"
      ],
      "execution_count": 16,
      "outputs": []
    },
    {
      "cell_type": "code",
      "metadata": {
        "id": "zgg3Ut2o70eZ"
      },
      "source": [
        "test_news.text = test_news.text.str.lower().apply(p.clean)\r\n",
        "test_news.dropna(inplace=True)"
      ],
      "execution_count": 17,
      "outputs": []
    },
    {
      "cell_type": "code",
      "metadata": {
        "colab": {
          "base_uri": "https://localhost:8080/",
          "height": 404
        },
        "id": "R_RgyId-8c5v",
        "outputId": "75300c65-518c-4481-c711-54d0ad3b0cd2"
      },
      "source": [
        "test_news"
      ],
      "execution_count": 18,
      "outputs": [
        {
          "output_type": "execute_result",
          "data": {
            "text/html": [
              "<div>\n",
              "<style scoped>\n",
              "    .dataframe tbody tr th:only-of-type {\n",
              "        vertical-align: middle;\n",
              "    }\n",
              "\n",
              "    .dataframe tbody tr th {\n",
              "        vertical-align: top;\n",
              "    }\n",
              "\n",
              "    .dataframe thead th {\n",
              "        text-align: right;\n",
              "    }\n",
              "</style>\n",
              "<table border=\"1\" class=\"dataframe\">\n",
              "  <thead>\n",
              "    <tr style=\"text-align: right;\">\n",
              "      <th></th>\n",
              "      <th>text</th>\n",
              "      <th>label1</th>\n",
              "      <th>label2</th>\n",
              "    </tr>\n",
              "  </thead>\n",
              "  <tbody>\n",
              "    <tr>\n",
              "      <th>0</th>\n",
              "      <td>while athletes and other attendees at this sum...</td>\n",
              "      <td>sports</td>\n",
              "      <td>health</td>\n",
              "    </tr>\n",
              "    <tr>\n",
              "      <th>1</th>\n",
              "      <td>the family of a military veteran who died in a...</td>\n",
              "      <td>politics</td>\n",
              "      <td>NA</td>\n",
              "    </tr>\n",
              "    <tr>\n",
              "      <th>2</th>\n",
              "      <td>a state lawmaker in missouri was charged this ...</td>\n",
              "      <td>health</td>\n",
              "      <td>politics</td>\n",
              "    </tr>\n",
              "    <tr>\n",
              "      <th>3</th>\n",
              "      <td>u.s. defense secretary lloyd austin convened t...</td>\n",
              "      <td>politics</td>\n",
              "      <td>NA</td>\n",
              "    </tr>\n",
              "    <tr>\n",
              "      <th>4</th>\n",
              "      <td>who knew that it could be so much fun to watch...</td>\n",
              "      <td>politics</td>\n",
              "      <td>entertainment</td>\n",
              "    </tr>\n",
              "    <tr>\n",
              "      <th>...</th>\n",
              "      <td>...</td>\n",
              "      <td>...</td>\n",
              "      <td>...</td>\n",
              "    </tr>\n",
              "    <tr>\n",
              "      <th>540</th>\n",
              "      <td>elon musks spacex announces a spaceflight inte...</td>\n",
              "      <td>business</td>\n",
              "      <td>NA</td>\n",
              "    </tr>\n",
              "    <tr>\n",
              "      <th>541</th>\n",
              "      <td>as house gop faces decision on its future, mcc...</td>\n",
              "      <td>politics</td>\n",
              "      <td>NA</td>\n",
              "    </tr>\n",
              "    <tr>\n",
              "      <th>542</th>\n",
              "      <td>the gamestop stock situation isnt about populi...</td>\n",
              "      <td>business</td>\n",
              "      <td>NA</td>\n",
              "    </tr>\n",
              "    <tr>\n",
              "      <th>543</th>\n",
              "      <td>opinion: confederate names are coming down, bu...</td>\n",
              "      <td>politics</td>\n",
              "      <td>NA</td>\n",
              "    </tr>\n",
              "    <tr>\n",
              "      <th>544</th>\n",
              "      <td>opinion: gamestop is not a morality tale. peop...</td>\n",
              "      <td>business</td>\n",
              "      <td>NA</td>\n",
              "    </tr>\n",
              "  </tbody>\n",
              "</table>\n",
              "<p>545 rows × 3 columns</p>\n",
              "</div>"
            ],
            "text/plain": [
              "                                                  text    label1         label2\n",
              "0    while athletes and other attendees at this sum...    sports         health\n",
              "1    the family of a military veteran who died in a...  politics             NA\n",
              "2    a state lawmaker in missouri was charged this ...    health       politics\n",
              "3    u.s. defense secretary lloyd austin convened t...  politics             NA\n",
              "4    who knew that it could be so much fun to watch...  politics  entertainment\n",
              "..                                                 ...       ...            ...\n",
              "540  elon musks spacex announces a spaceflight inte...  business             NA\n",
              "541  as house gop faces decision on its future, mcc...  politics             NA\n",
              "542  the gamestop stock situation isnt about populi...  business             NA\n",
              "543  opinion: confederate names are coming down, bu...  politics             NA\n",
              "544  opinion: gamestop is not a morality tale. peop...  business             NA\n",
              "\n",
              "[545 rows x 3 columns]"
            ]
          },
          "metadata": {
            "tags": []
          },
          "execution_count": 18
        }
      ]
    },
    {
      "cell_type": "code",
      "metadata": {
        "id": "cb4h23YX8mYu"
      },
      "source": [
        "# Returns label, given a numerical factor associated with it\r\n",
        "\r\n",
        "def return_label(key):\r\n",
        "    # labels = {0: \"business\", 1: \"politics\", 2: \"sports\", 3: \"entertainment\", 4: \"health\"} # Use with combined_bbc_large\r\n",
        "    labels = {0: \"health\", 1: \"business\", 2: \"politics\", 3: \"sports\", 4: \"entertainment\"} # Use with large_data\r\n",
        "    return labels[key]"
      ],
      "execution_count": 19,
      "outputs": []
    },
    {
      "cell_type": "code",
      "metadata": {
        "id": "dVFIlzcd8CzX"
      },
      "source": [
        "# Predictions (appended to the testing data as columns)\r\n",
        "\r\n",
        "y_svc = lsvc_gs.predict(test_news.text)\r\n",
        "y_mnb = mnb_gs.predict(test_news.text)\r\n",
        "y_log = log_gs.predict(test_news.text)\r\n",
        "\r\n",
        "y_svc = list(map(return_label, y_svc))\r\n",
        "y_mnb = list(map(return_label, y_mnb))\r\n",
        "y_log = list(map(return_label, y_log))\r\n",
        "\r\n",
        "test_news['y_svc'] = y_svc  # SVC Predictions\r\n",
        "test_news['y_mnb'] = y_mnb  # MNB Predictions\r\n",
        "test_news['y_log'] = y_log  # LOG Predictions"
      ],
      "execution_count": 20,
      "outputs": []
    },
    {
      "cell_type": "code",
      "metadata": {
        "colab": {
          "base_uri": "https://localhost:8080/",
          "height": 404
        },
        "id": "WhLeiVZR9FOw",
        "outputId": "69fa962d-572b-4943-ceba-8ae8ae0e5fd3"
      },
      "source": [
        "test_news"
      ],
      "execution_count": 21,
      "outputs": [
        {
          "output_type": "execute_result",
          "data": {
            "text/html": [
              "<div>\n",
              "<style scoped>\n",
              "    .dataframe tbody tr th:only-of-type {\n",
              "        vertical-align: middle;\n",
              "    }\n",
              "\n",
              "    .dataframe tbody tr th {\n",
              "        vertical-align: top;\n",
              "    }\n",
              "\n",
              "    .dataframe thead th {\n",
              "        text-align: right;\n",
              "    }\n",
              "</style>\n",
              "<table border=\"1\" class=\"dataframe\">\n",
              "  <thead>\n",
              "    <tr style=\"text-align: right;\">\n",
              "      <th></th>\n",
              "      <th>text</th>\n",
              "      <th>label1</th>\n",
              "      <th>label2</th>\n",
              "      <th>y_svc</th>\n",
              "      <th>y_mnb</th>\n",
              "      <th>y_log</th>\n",
              "    </tr>\n",
              "  </thead>\n",
              "  <tbody>\n",
              "    <tr>\n",
              "      <th>0</th>\n",
              "      <td>while athletes and other attendees at this sum...</td>\n",
              "      <td>sports</td>\n",
              "      <td>health</td>\n",
              "      <td>sports</td>\n",
              "      <td>sports</td>\n",
              "      <td>sports</td>\n",
              "    </tr>\n",
              "    <tr>\n",
              "      <th>1</th>\n",
              "      <td>the family of a military veteran who died in a...</td>\n",
              "      <td>politics</td>\n",
              "      <td>NA</td>\n",
              "      <td>politics</td>\n",
              "      <td>politics</td>\n",
              "      <td>politics</td>\n",
              "    </tr>\n",
              "    <tr>\n",
              "      <th>2</th>\n",
              "      <td>a state lawmaker in missouri was charged this ...</td>\n",
              "      <td>health</td>\n",
              "      <td>politics</td>\n",
              "      <td>health</td>\n",
              "      <td>politics</td>\n",
              "      <td>health</td>\n",
              "    </tr>\n",
              "    <tr>\n",
              "      <th>3</th>\n",
              "      <td>u.s. defense secretary lloyd austin convened t...</td>\n",
              "      <td>politics</td>\n",
              "      <td>NA</td>\n",
              "      <td>politics</td>\n",
              "      <td>politics</td>\n",
              "      <td>politics</td>\n",
              "    </tr>\n",
              "    <tr>\n",
              "      <th>4</th>\n",
              "      <td>who knew that it could be so much fun to watch...</td>\n",
              "      <td>politics</td>\n",
              "      <td>entertainment</td>\n",
              "      <td>sports</td>\n",
              "      <td>entertainment</td>\n",
              "      <td>sports</td>\n",
              "    </tr>\n",
              "    <tr>\n",
              "      <th>...</th>\n",
              "      <td>...</td>\n",
              "      <td>...</td>\n",
              "      <td>...</td>\n",
              "      <td>...</td>\n",
              "      <td>...</td>\n",
              "      <td>...</td>\n",
              "    </tr>\n",
              "    <tr>\n",
              "      <th>540</th>\n",
              "      <td>elon musks spacex announces a spaceflight inte...</td>\n",
              "      <td>business</td>\n",
              "      <td>NA</td>\n",
              "      <td>business</td>\n",
              "      <td>business</td>\n",
              "      <td>business</td>\n",
              "    </tr>\n",
              "    <tr>\n",
              "      <th>541</th>\n",
              "      <td>as house gop faces decision on its future, mcc...</td>\n",
              "      <td>politics</td>\n",
              "      <td>NA</td>\n",
              "      <td>politics</td>\n",
              "      <td>politics</td>\n",
              "      <td>politics</td>\n",
              "    </tr>\n",
              "    <tr>\n",
              "      <th>542</th>\n",
              "      <td>the gamestop stock situation isnt about populi...</td>\n",
              "      <td>business</td>\n",
              "      <td>NA</td>\n",
              "      <td>business</td>\n",
              "      <td>business</td>\n",
              "      <td>business</td>\n",
              "    </tr>\n",
              "    <tr>\n",
              "      <th>543</th>\n",
              "      <td>opinion: confederate names are coming down, bu...</td>\n",
              "      <td>politics</td>\n",
              "      <td>NA</td>\n",
              "      <td>politics</td>\n",
              "      <td>politics</td>\n",
              "      <td>politics</td>\n",
              "    </tr>\n",
              "    <tr>\n",
              "      <th>544</th>\n",
              "      <td>opinion: gamestop is not a morality tale. peop...</td>\n",
              "      <td>business</td>\n",
              "      <td>NA</td>\n",
              "      <td>health</td>\n",
              "      <td>business</td>\n",
              "      <td>health</td>\n",
              "    </tr>\n",
              "  </tbody>\n",
              "</table>\n",
              "<p>545 rows × 6 columns</p>\n",
              "</div>"
            ],
            "text/plain": [
              "                                                  text  ...     y_log\n",
              "0    while athletes and other attendees at this sum...  ...    sports\n",
              "1    the family of a military veteran who died in a...  ...  politics\n",
              "2    a state lawmaker in missouri was charged this ...  ...    health\n",
              "3    u.s. defense secretary lloyd austin convened t...  ...  politics\n",
              "4    who knew that it could be so much fun to watch...  ...    sports\n",
              "..                                                 ...  ...       ...\n",
              "540  elon musks spacex announces a spaceflight inte...  ...  business\n",
              "541  as house gop faces decision on its future, mcc...  ...  politics\n",
              "542  the gamestop stock situation isnt about populi...  ...  business\n",
              "543  opinion: confederate names are coming down, bu...  ...  politics\n",
              "544  opinion: gamestop is not a morality tale. peop...  ...    health\n",
              "\n",
              "[545 rows x 6 columns]"
            ]
          },
          "metadata": {
            "tags": []
          },
          "execution_count": 21
        }
      ]
    },
    {
      "cell_type": "code",
      "metadata": {
        "id": "kKjay-8J_b3I"
      },
      "source": [
        "# Comparing labels across columns to check for accuracy\r\n",
        "\r\n",
        "test_news['svc_preds'] = (test_news['y_svc'] == test_news.label1) | (test_news['y_svc'] == test_news.label2)\r\n",
        "test_news['mnb_preds'] = (test_news['y_mnb'] == test_news.label1) | (test_news['y_mnb'] == test_news.label2)\r\n",
        "test_news['log_preds'] = (test_news['y_log'] == test_news.label1) | (test_news['y_log'] == test_news.label2)"
      ],
      "execution_count": 22,
      "outputs": []
    },
    {
      "cell_type": "code",
      "metadata": {
        "colab": {
          "base_uri": "https://localhost:8080/",
          "height": 404
        },
        "id": "zk4rtJKp9QOx",
        "outputId": "c5308d83-5153-4ebe-af1b-793804815090"
      },
      "source": [
        "test_news"
      ],
      "execution_count": 23,
      "outputs": [
        {
          "output_type": "execute_result",
          "data": {
            "text/html": [
              "<div>\n",
              "<style scoped>\n",
              "    .dataframe tbody tr th:only-of-type {\n",
              "        vertical-align: middle;\n",
              "    }\n",
              "\n",
              "    .dataframe tbody tr th {\n",
              "        vertical-align: top;\n",
              "    }\n",
              "\n",
              "    .dataframe thead th {\n",
              "        text-align: right;\n",
              "    }\n",
              "</style>\n",
              "<table border=\"1\" class=\"dataframe\">\n",
              "  <thead>\n",
              "    <tr style=\"text-align: right;\">\n",
              "      <th></th>\n",
              "      <th>text</th>\n",
              "      <th>label1</th>\n",
              "      <th>label2</th>\n",
              "      <th>y_svc</th>\n",
              "      <th>y_mnb</th>\n",
              "      <th>y_log</th>\n",
              "      <th>svc_preds</th>\n",
              "      <th>mnb_preds</th>\n",
              "      <th>log_preds</th>\n",
              "    </tr>\n",
              "  </thead>\n",
              "  <tbody>\n",
              "    <tr>\n",
              "      <th>0</th>\n",
              "      <td>while athletes and other attendees at this sum...</td>\n",
              "      <td>sports</td>\n",
              "      <td>health</td>\n",
              "      <td>sports</td>\n",
              "      <td>sports</td>\n",
              "      <td>sports</td>\n",
              "      <td>True</td>\n",
              "      <td>True</td>\n",
              "      <td>True</td>\n",
              "    </tr>\n",
              "    <tr>\n",
              "      <th>1</th>\n",
              "      <td>the family of a military veteran who died in a...</td>\n",
              "      <td>politics</td>\n",
              "      <td>NA</td>\n",
              "      <td>politics</td>\n",
              "      <td>politics</td>\n",
              "      <td>politics</td>\n",
              "      <td>True</td>\n",
              "      <td>True</td>\n",
              "      <td>True</td>\n",
              "    </tr>\n",
              "    <tr>\n",
              "      <th>2</th>\n",
              "      <td>a state lawmaker in missouri was charged this ...</td>\n",
              "      <td>health</td>\n",
              "      <td>politics</td>\n",
              "      <td>health</td>\n",
              "      <td>politics</td>\n",
              "      <td>health</td>\n",
              "      <td>True</td>\n",
              "      <td>True</td>\n",
              "      <td>True</td>\n",
              "    </tr>\n",
              "    <tr>\n",
              "      <th>3</th>\n",
              "      <td>u.s. defense secretary lloyd austin convened t...</td>\n",
              "      <td>politics</td>\n",
              "      <td>NA</td>\n",
              "      <td>politics</td>\n",
              "      <td>politics</td>\n",
              "      <td>politics</td>\n",
              "      <td>True</td>\n",
              "      <td>True</td>\n",
              "      <td>True</td>\n",
              "    </tr>\n",
              "    <tr>\n",
              "      <th>4</th>\n",
              "      <td>who knew that it could be so much fun to watch...</td>\n",
              "      <td>politics</td>\n",
              "      <td>entertainment</td>\n",
              "      <td>sports</td>\n",
              "      <td>entertainment</td>\n",
              "      <td>sports</td>\n",
              "      <td>False</td>\n",
              "      <td>True</td>\n",
              "      <td>False</td>\n",
              "    </tr>\n",
              "    <tr>\n",
              "      <th>...</th>\n",
              "      <td>...</td>\n",
              "      <td>...</td>\n",
              "      <td>...</td>\n",
              "      <td>...</td>\n",
              "      <td>...</td>\n",
              "      <td>...</td>\n",
              "      <td>...</td>\n",
              "      <td>...</td>\n",
              "      <td>...</td>\n",
              "    </tr>\n",
              "    <tr>\n",
              "      <th>540</th>\n",
              "      <td>elon musks spacex announces a spaceflight inte...</td>\n",
              "      <td>business</td>\n",
              "      <td>NA</td>\n",
              "      <td>business</td>\n",
              "      <td>business</td>\n",
              "      <td>business</td>\n",
              "      <td>True</td>\n",
              "      <td>True</td>\n",
              "      <td>True</td>\n",
              "    </tr>\n",
              "    <tr>\n",
              "      <th>541</th>\n",
              "      <td>as house gop faces decision on its future, mcc...</td>\n",
              "      <td>politics</td>\n",
              "      <td>NA</td>\n",
              "      <td>politics</td>\n",
              "      <td>politics</td>\n",
              "      <td>politics</td>\n",
              "      <td>True</td>\n",
              "      <td>True</td>\n",
              "      <td>True</td>\n",
              "    </tr>\n",
              "    <tr>\n",
              "      <th>542</th>\n",
              "      <td>the gamestop stock situation isnt about populi...</td>\n",
              "      <td>business</td>\n",
              "      <td>NA</td>\n",
              "      <td>business</td>\n",
              "      <td>business</td>\n",
              "      <td>business</td>\n",
              "      <td>True</td>\n",
              "      <td>True</td>\n",
              "      <td>True</td>\n",
              "    </tr>\n",
              "    <tr>\n",
              "      <th>543</th>\n",
              "      <td>opinion: confederate names are coming down, bu...</td>\n",
              "      <td>politics</td>\n",
              "      <td>NA</td>\n",
              "      <td>politics</td>\n",
              "      <td>politics</td>\n",
              "      <td>politics</td>\n",
              "      <td>True</td>\n",
              "      <td>True</td>\n",
              "      <td>True</td>\n",
              "    </tr>\n",
              "    <tr>\n",
              "      <th>544</th>\n",
              "      <td>opinion: gamestop is not a morality tale. peop...</td>\n",
              "      <td>business</td>\n",
              "      <td>NA</td>\n",
              "      <td>health</td>\n",
              "      <td>business</td>\n",
              "      <td>health</td>\n",
              "      <td>False</td>\n",
              "      <td>True</td>\n",
              "      <td>False</td>\n",
              "    </tr>\n",
              "  </tbody>\n",
              "</table>\n",
              "<p>545 rows × 9 columns</p>\n",
              "</div>"
            ],
            "text/plain": [
              "                                                  text  ... log_preds\n",
              "0    while athletes and other attendees at this sum...  ...      True\n",
              "1    the family of a military veteran who died in a...  ...      True\n",
              "2    a state lawmaker in missouri was charged this ...  ...      True\n",
              "3    u.s. defense secretary lloyd austin convened t...  ...      True\n",
              "4    who knew that it could be so much fun to watch...  ...     False\n",
              "..                                                 ...  ...       ...\n",
              "540  elon musks spacex announces a spaceflight inte...  ...      True\n",
              "541  as house gop faces decision on its future, mcc...  ...      True\n",
              "542  the gamestop stock situation isnt about populi...  ...      True\n",
              "543  opinion: confederate names are coming down, bu...  ...      True\n",
              "544  opinion: gamestop is not a morality tale. peop...  ...     False\n",
              "\n",
              "[545 rows x 9 columns]"
            ]
          },
          "metadata": {
            "tags": []
          },
          "execution_count": 23
        }
      ]
    },
    {
      "cell_type": "code",
      "metadata": {
        "colab": {
          "base_uri": "https://localhost:8080/"
        },
        "id": "j-PUDHB0BTTN",
        "outputId": "efee81c0-a769-4697-b14b-9d02f53ffc66"
      },
      "source": [
        "svc_accuracy = test_news.svc_preds.value_counts()[True]/len(test_news)\r\n",
        "mnb_accuracy = test_news.mnb_preds.value_counts()[True]/len(test_news)\r\n",
        "log_accuracy = test_news.log_preds.value_counts()[True]/len(test_news)\r\n",
        "\r\n",
        "ic(svc_accuracy)  # SVC Acc\r\n",
        "ic(mnb_accuracy)  # MNB Acc\r\n",
        "ic(log_accuracy)  # Log Acc"
      ],
      "execution_count": 24,
      "outputs": [
        {
          "output_type": "stream",
          "text": [
            "ic| svc_accuracy: 0.7963302752293578\n",
            "ic| mnb_accuracy: 0.8146788990825689\n",
            "ic| log_accuracy: 0.781651376146789\n"
          ],
          "name": "stderr"
        },
        {
          "output_type": "execute_result",
          "data": {
            "text/plain": [
              "0.781651376146789"
            ]
          },
          "metadata": {
            "tags": []
          },
          "execution_count": 24
        }
      ]
    },
    {
      "cell_type": "code",
      "metadata": {
        "id": "aiMDkQ2wEICL"
      },
      "source": [
        "# ACCURACIES ON LARGE DATA (NEWS CATEGORY DATASET)\r\n",
        "\r\n",
        "# ic| svc_accuracy: 0.7963302752293578\r\n",
        "# ic| mnb_accuracy: 0.8146788990825689\r\n",
        "# ic| log_accuracy: 0.781651376146789\r\n",
        "# 0.781651376146789"
      ],
      "execution_count": null,
      "outputs": []
    },
    {
      "cell_type": "code",
      "metadata": {
        "id": "qgpu5sMTCMTv"
      },
      "source": [
        "# ACCURACIES ON COMBINED DATA\r\n",
        "\r\n",
        "\r\n",
        "# ic| svc_accuracy: 0.8036697247706422\r\n",
        "# ic| mnb_accuracy: 0.8165137614678899\r\n",
        "# ic| log_accuracy: 0.7871559633027523\r\n",
        "# 0.7871559633027523"
      ],
      "execution_count": 25,
      "outputs": []
    },
    {
      "cell_type": "code",
      "metadata": {
        "colab": {
          "base_uri": "https://localhost:8080/"
        },
        "id": "yf-ipIxuCA1S",
        "outputId": "17b6f709-e19c-4e62-ee36-01e0e490d177"
      },
      "source": [
        "lsvc_gs.best_estimator_"
      ],
      "execution_count": 26,
      "outputs": [
        {
          "output_type": "execute_result",
          "data": {
            "text/plain": [
              "Pipeline(memory=None,\n",
              "         steps=[('tfv',\n",
              "                 TfidfVectorizer(analyzer='word', binary=False,\n",
              "                                 decode_error='strict',\n",
              "                                 dtype=<class 'numpy.float64'>,\n",
              "                                 encoding='utf-8', input='content',\n",
              "                                 lowercase=True, max_df=1.0, max_features=None,\n",
              "                                 min_df=1, ngram_range=(1, 2), norm='l2',\n",
              "                                 preprocessor=None, smooth_idf=True,\n",
              "                                 stop_words='english', strip_accents=None,\n",
              "                                 sublinear_tf=False,\n",
              "                                 token_pattern='(?u)\\\\b\\\\w\\\\w+\\\\b',\n",
              "                                 tokenizer=None, use_idf=True,\n",
              "                                 vocabulary=None)),\n",
              "                ('linearsvc',\n",
              "                 LinearSVC(C=1.0, class_weight=None, dual=True,\n",
              "                           fit_intercept=True, intercept_scaling=1,\n",
              "                           loss='squared_hinge', max_iter=1000,\n",
              "                           multi_class='ovr', penalty='l2', random_state=0,\n",
              "                           tol=0.0001, verbose=0))],\n",
              "         verbose=False)"
            ]
          },
          "metadata": {
            "tags": []
          },
          "execution_count": 26
        }
      ]
    },
    {
      "cell_type": "code",
      "metadata": {
        "colab": {
          "base_uri": "https://localhost:8080/"
        },
        "id": "EIw8UrCMCJ2B",
        "outputId": "d2033af6-5381-4a0b-9abb-baf7387913c2"
      },
      "source": [
        "mnb_gs.best_estimator_"
      ],
      "execution_count": 27,
      "outputs": [
        {
          "output_type": "execute_result",
          "data": {
            "text/plain": [
              "Pipeline(memory=None,\n",
              "         steps=[('tfv',\n",
              "                 TfidfVectorizer(analyzer='word', binary=False,\n",
              "                                 decode_error='strict',\n",
              "                                 dtype=<class 'numpy.float64'>,\n",
              "                                 encoding='utf-8', input='content',\n",
              "                                 lowercase=True, max_df=1.0, max_features=None,\n",
              "                                 min_df=1, ngram_range=(1, 2), norm='l2',\n",
              "                                 preprocessor=None, smooth_idf=True,\n",
              "                                 stop_words='english', strip_accents=None,\n",
              "                                 sublinear_tf=False,\n",
              "                                 token_pattern='(?u)\\\\b\\\\w\\\\w+\\\\b',\n",
              "                                 tokenizer=None, use_idf=True,\n",
              "                                 vocabulary=None)),\n",
              "                ('mb',\n",
              "                 MultinomialNB(alpha=1.0, class_prior=None, fit_prior=True))],\n",
              "         verbose=False)"
            ]
          },
          "metadata": {
            "tags": []
          },
          "execution_count": 27
        }
      ]
    },
    {
      "cell_type": "code",
      "metadata": {
        "colab": {
          "base_uri": "https://localhost:8080/"
        },
        "id": "H47TlNMnCMik",
        "outputId": "3d1dbac0-14db-4e7b-b91d-3832c3e3d810"
      },
      "source": [
        "log_gs.best_estimator_"
      ],
      "execution_count": 28,
      "outputs": [
        {
          "output_type": "execute_result",
          "data": {
            "text/plain": [
              "Pipeline(memory=None,\n",
              "         steps=[('tfv',\n",
              "                 TfidfVectorizer(analyzer='word', binary=False,\n",
              "                                 decode_error='strict',\n",
              "                                 dtype=<class 'numpy.float64'>,\n",
              "                                 encoding='utf-8', input='content',\n",
              "                                 lowercase=True, max_df=1.0, max_features=None,\n",
              "                                 min_df=1, ngram_range=(1, 2), norm='l2',\n",
              "                                 preprocessor=None, smooth_idf=True,\n",
              "                                 stop_words='english', strip_accents=None,\n",
              "                                 sublinear_tf=False,\n",
              "                                 token_pattern='(?u)\\\\b\\\\w\\\\w+\\\\b',\n",
              "                                 tokenizer=None, use_idf=True,\n",
              "                                 vocabulary=None)),\n",
              "                ('lm',\n",
              "                 LogisticRegression(C=1.0, class_weight=None, dual=False,\n",
              "                                    fit_intercept=True, intercept_scaling=1,\n",
              "                                    l1_ratio=None, max_iter=100,\n",
              "                                    multi_class='auto', n_jobs=None,\n",
              "                                    penalty='l2', random_state=0, solver='saga',\n",
              "                                    tol=0.0001, verbose=0, warm_start=False))],\n",
              "         verbose=False)"
            ]
          },
          "metadata": {
            "tags": []
          },
          "execution_count": 28
        }
      ]
    }
  ]
}
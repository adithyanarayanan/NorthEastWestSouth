{
 "cells": [
  {
   "cell_type": "code",
   "execution_count": 1,
   "metadata": {
    "ExecuteTime": {
     "end_time": "2021-02-03T22:20:22.983681Z",
     "start_time": "2021-02-03T22:20:20.162295Z"
    }
   },
   "outputs": [],
   "source": [
    "# Necessary Imports\n",
    "# Code idea from Kaggle Submissions to https://www.kaggle.com/c/learn-ai-bbc/data\n",
    "# Modeled on https://www.kaggle.com/rmisra/news-category-dataset\n",
    "\n",
    "import numpy as np\n",
    "import pandas as pd\n",
    "from sklearn.linear_model import LogisticRegression\n",
    "from sklearn.model_selection import cross_val_score\n",
    "from sklearn.feature_extraction.text import TfidfVectorizer\n",
    "from sklearn.model_selection import train_test_split"
   ]
  },
  {
   "cell_type": "code",
   "execution_count": 2,
   "metadata": {
    "ExecuteTime": {
     "end_time": "2021-02-03T22:20:29.678365Z",
     "start_time": "2021-02-03T22:20:23.940989Z"
    }
   },
   "outputs": [],
   "source": [
    "data = pd.read_json(\"News_Category_Dataset_v2.json\", lines=True)\n",
    "data.to_csv(\"news_category_train.csv\") # Creating a csv version of downloaded data for ease of manual checking"
   ]
  },
  {
   "cell_type": "code",
   "execution_count": 3,
   "metadata": {
    "ExecuteTime": {
     "end_time": "2021-02-03T22:20:30.859262Z",
     "start_time": "2021-02-03T22:20:30.678289Z"
    }
   },
   "outputs": [],
   "source": [
    "# Choosing select entries to keep training data balanced, relevant and small\n",
    "\n",
    "politics = data[data.category == \"POLITICS\"]\n",
    "politics = politics[0:5000]\n",
    "\n",
    "sports = data[data.category == \"SPORTS\"]\n",
    "sports = sports[0:5000]\n",
    "\n",
    "wellness = data[data.category == \"WELLNESS\"]\n",
    "wellness = wellness[0:2000]\n",
    "healthy = data[data.category == \"HEALTHY LIVING\"]\n",
    "healthy = healthy[0:3000]\n",
    "health = pd.concat([wellness, healthy])\n",
    "health.category = \"HEALTH\"\n",
    "\n",
    "entertainment = data[data.category == \"ENTERTAINMENT\"]\n",
    "entertainment = entertainment[0:5000]\n",
    "\n",
    "business = data[data.category == \"BUSINESS\"]\n",
    "business = business[0:5000]"
   ]
  },
  {
   "cell_type": "code",
   "execution_count": 4,
   "metadata": {
    "ExecuteTime": {
     "end_time": "2021-02-03T22:20:33.021106Z",
     "start_time": "2021-02-03T22:20:32.949100Z"
    }
   },
   "outputs": [],
   "source": [
    "# Building the comprehensive headline dataset- cleaning\n",
    "\n",
    "final_data = pd.concat([health, business, politics, sports, entertainment]) \n",
    "final_data.drop(columns=['authors', 'link', 'short_description', 'date'], inplace=True)\n",
    "final_data.category = final_data.category.str.lower()\n",
    "final_data.headline = final_data.headline.str.lower()\n",
    "final_data['text'] = final_data.headline\n",
    "final_data['cat'] = final_data.category\n",
    "final_data.drop(columns=['category', 'headline'], inplace=True)"
   ]
  },
  {
   "cell_type": "code",
   "execution_count": 8,
   "metadata": {
    "ExecuteTime": {
     "end_time": "2021-01-30T20:25:05.273508Z",
     "start_time": "2021-01-30T20:25:05.248506Z"
    }
   },
   "outputs": [
    {
     "data": {
      "text/html": [
       "<div>\n",
       "<style scoped>\n",
       "    .dataframe tbody tr th:only-of-type {\n",
       "        vertical-align: middle;\n",
       "    }\n",
       "\n",
       "    .dataframe tbody tr th {\n",
       "        vertical-align: top;\n",
       "    }\n",
       "\n",
       "    .dataframe thead th {\n",
       "        text-align: right;\n",
       "    }\n",
       "</style>\n",
       "<table border=\"1\" class=\"dataframe\">\n",
       "  <thead>\n",
       "    <tr style=\"text-align: right;\">\n",
       "      <th></th>\n",
       "      <th>text</th>\n",
       "      <th>cat</th>\n",
       "    </tr>\n",
       "  </thead>\n",
       "  <tbody>\n",
       "    <tr>\n",
       "      <th>124989</th>\n",
       "      <td>why overeating doesn't make you fat</td>\n",
       "      <td>health</td>\n",
       "    </tr>\n",
       "    <tr>\n",
       "      <th>124990</th>\n",
       "      <td>14 habits of people with a healthy relationshi...</td>\n",
       "      <td>health</td>\n",
       "    </tr>\n",
       "    <tr>\n",
       "      <th>124993</th>\n",
       "      <td>5 things that could be stealing your joy</td>\n",
       "      <td>health</td>\n",
       "    </tr>\n",
       "    <tr>\n",
       "      <th>124994</th>\n",
       "      <td>moments make a life</td>\n",
       "      <td>health</td>\n",
       "    </tr>\n",
       "    <tr>\n",
       "      <th>124996</th>\n",
       "      <td>fat facts</td>\n",
       "      <td>health</td>\n",
       "    </tr>\n",
       "    <tr>\n",
       "      <th>...</th>\n",
       "      <td>...</td>\n",
       "      <td>...</td>\n",
       "    </tr>\n",
       "    <tr>\n",
       "      <th>38977</th>\n",
       "      <td>vanessa and nick lachey welcome christmas eve ...</td>\n",
       "      <td>entertainment</td>\n",
       "    </tr>\n",
       "    <tr>\n",
       "      <th>38979</th>\n",
       "      <td>remembering george michael with 21 of his grea...</td>\n",
       "      <td>entertainment</td>\n",
       "    </tr>\n",
       "    <tr>\n",
       "      <th>38998</th>\n",
       "      <td>the first 'alien: covenant' trailer is a terri...</td>\n",
       "      <td>entertainment</td>\n",
       "    </tr>\n",
       "    <tr>\n",
       "      <th>39008</th>\n",
       "      <td>'rogue one' dominates the holiday box office</td>\n",
       "      <td>entertainment</td>\n",
       "    </tr>\n",
       "    <tr>\n",
       "      <th>39012</th>\n",
       "      <td>a&amp;e cancels upcoming kkk docuseries over cash ...</td>\n",
       "      <td>entertainment</td>\n",
       "    </tr>\n",
       "  </tbody>\n",
       "</table>\n",
       "<p>24884 rows × 2 columns</p>\n",
       "</div>"
      ],
      "text/plain": [
       "                                                     text            cat\n",
       "124989                why overeating doesn't make you fat         health\n",
       "124990  14 habits of people with a healthy relationshi...         health\n",
       "124993           5 things that could be stealing your joy         health\n",
       "124994                                moments make a life         health\n",
       "124996                                          fat facts         health\n",
       "...                                                   ...            ...\n",
       "38977   vanessa and nick lachey welcome christmas eve ...  entertainment\n",
       "38979   remembering george michael with 21 of his grea...  entertainment\n",
       "38998   the first 'alien: covenant' trailer is a terri...  entertainment\n",
       "39008        'rogue one' dominates the holiday box office  entertainment\n",
       "39012   a&e cancels upcoming kkk docuseries over cash ...  entertainment\n",
       "\n",
       "[24884 rows x 2 columns]"
      ]
     },
     "execution_count": 8,
     "metadata": {},
     "output_type": "execute_result"
    }
   ],
   "source": [
    "final_data.to_csv(\"News_Category)\")"
   ]
  },
  {
   "cell_type": "code",
   "execution_count": 9,
   "metadata": {
    "ExecuteTime": {
     "end_time": "2021-01-30T20:26:15.486468Z",
     "start_time": "2021-01-30T20:26:15.471469Z"
    }
   },
   "outputs": [],
   "source": [
    "# Factorizing Categorical Values\n",
    "final_data['cid'] = final_data.cat.factorize()[0]"
   ]
  },
  {
   "cell_type": "code",
   "execution_count": 11,
   "metadata": {
    "ExecuteTime": {
     "end_time": "2021-01-30T20:27:06.703139Z",
     "start_time": "2021-01-30T20:27:05.646913Z"
    }
   },
   "outputs": [],
   "source": [
    "# Preparing data for logit modeling with TF-IDF\n",
    "# Parameters obtained from leading Kaggle submissions tackling same task \n",
    "# TODO: Modify some param values to check if that changes accuracy (unlikely)\n",
    "\n",
    "tfidf = TfidfVectorizer(sublinear_tf=True, min_df=5, norm='l2', encoding='latin-1', ngram_range=(1, 2), stop_words='english')\n",
    "\n",
    "X = tfidf.fit_transform(final_data.text).toarray()\n",
    "y = final_data.cid"
   ]
  },
  {
   "cell_type": "code",
   "execution_count": 13,
   "metadata": {
    "ExecuteTime": {
     "end_time": "2021-01-30T20:27:33.313387Z",
     "start_time": "2021-01-30T20:27:30.630550Z"
    }
   },
   "outputs": [],
   "source": [
    "# Logit Model- Multiclass\n",
    "# Train Test split\n",
    "\n",
    "model = LogisticRegression(random_state=0, solver=\"sag\", max_iter=500)\n",
    "X_train, X_test, y_train, y_test, indices_train, indices_test = train_test_split(X, y, final_data.index, test_size=0.2, random_state=0)"
   ]
  },
  {
   "cell_type": "code",
   "execution_count": 20,
   "metadata": {
    "ExecuteTime": {
     "end_time": "2021-01-30T20:39:52.494788Z",
     "start_time": "2021-01-30T20:33:33.973764Z"
    }
   },
   "outputs": [
    {
     "data": {
      "text/plain": [
       "array([0.74358047, 0.77154913, 0.76042923])"
      ]
     },
     "execution_count": 20,
     "metadata": {},
     "output_type": "execute_result"
    }
   ],
   "source": [
    "# Checking for cross_val accuracy\n",
    "\n",
    "cross_val_score(model, X, y, scoring=\"accuracy\", cv=3)"
   ]
  },
  {
   "cell_type": "code",
   "execution_count": 14,
   "metadata": {
    "ExecuteTime": {
     "end_time": "2021-01-30T20:30:47.130356Z",
     "start_time": "2021-01-30T20:28:16.005074Z"
    }
   },
   "outputs": [
    {
     "data": {
      "text/plain": [
       "LogisticRegression(max_iter=500, random_state=0, solver='sag')"
      ]
     },
     "execution_count": 14,
     "metadata": {},
     "output_type": "execute_result"
    }
   ],
   "source": [
    "# Fit on training data - can fit on all data as well since we test on unseen data\n",
    "\n",
    "model.fit(X_train,y_train)"
   ]
  },
  {
   "cell_type": "code",
   "execution_count": 16,
   "metadata": {
    "ExecuteTime": {
     "end_time": "2021-01-30T20:32:21.654413Z",
     "start_time": "2021-01-30T20:32:21.586721Z"
    }
   },
   "outputs": [
    {
     "data": {
      "text/html": [
       "<div>\n",
       "<style scoped>\n",
       "    .dataframe tbody tr th:only-of-type {\n",
       "        vertical-align: middle;\n",
       "    }\n",
       "\n",
       "    .dataframe tbody tr th {\n",
       "        vertical-align: top;\n",
       "    }\n",
       "\n",
       "    .dataframe thead th {\n",
       "        text-align: right;\n",
       "    }\n",
       "</style>\n",
       "<table border=\"1\" class=\"dataframe\">\n",
       "  <thead>\n",
       "    <tr style=\"text-align: right;\">\n",
       "      <th></th>\n",
       "      <th>cat</th>\n",
       "      <th>cid</th>\n",
       "    </tr>\n",
       "  </thead>\n",
       "  <tbody>\n",
       "    <tr>\n",
       "      <th>124989</th>\n",
       "      <td>health</td>\n",
       "      <td>0</td>\n",
       "    </tr>\n",
       "    <tr>\n",
       "      <th>87</th>\n",
       "      <td>business</td>\n",
       "      <td>1</td>\n",
       "    </tr>\n",
       "    <tr>\n",
       "      <th>13</th>\n",
       "      <td>politics</td>\n",
       "      <td>2</td>\n",
       "    </tr>\n",
       "    <tr>\n",
       "      <th>80</th>\n",
       "      <td>sports</td>\n",
       "      <td>3</td>\n",
       "    </tr>\n",
       "    <tr>\n",
       "      <th>1</th>\n",
       "      <td>entertainment</td>\n",
       "      <td>4</td>\n",
       "    </tr>\n",
       "  </tbody>\n",
       "</table>\n",
       "</div>"
      ],
      "text/plain": [
       "                  cat  cid\n",
       "124989         health    0\n",
       "87           business    1\n",
       "13           politics    2\n",
       "80             sports    3\n",
       "1       entertainment    4"
      ]
     },
     "execution_count": 16,
     "metadata": {},
     "output_type": "execute_result"
    }
   ],
   "source": [
    "# Checking number label corresponds to which category\n",
    "temp = final_data[['cat', 'cid']].drop_duplicates()\n",
    "temp"
   ]
  },
  {
   "cell_type": "code",
   "execution_count": 19,
   "metadata": {
    "ExecuteTime": {
     "end_time": "2021-01-30T20:33:17.070908Z",
     "start_time": "2021-01-30T20:33:16.930785Z"
    }
   },
   "outputs": [],
   "source": [
    "# News sample is sample data with text of tweets from news orgs\n",
    "\n",
    "news = pd.read_csv(\"news_sample.csv\")\n",
    "import preprocessor as p\n",
    "news['text'] = news.text.apply(p.clean)\n",
    "texts = news.text.tolist()\n",
    "\n",
    "# Outputs a csv fils with predicted labels to texts supplied\n",
    "\n",
    "def return_class(i):\n",
    "    classes = {4: \"entertainment\", 1: \"business\", 2: \"politics\", 3: \"sports\",  0: \"health\"}    \n",
    "    return classes[i]\n",
    "\n",
    "transformed_text = tfidf.transform(texts)\n",
    "predictions = model.predict(transformed_text)\n",
    "news['predictions'] = predictions\n",
    "news.predictions = news.predictions.apply(return_class)\n",
    "news.to_csv(\"out_news_category.csv\")"
   ]
  }
 ],
 "metadata": {
  "kernelspec": {
   "display_name": "Python 3",
   "language": "python",
   "name": "python3"
  },
  "language_info": {
   "codemirror_mode": {
    "name": "ipython",
    "version": 3
   },
   "file_extension": ".py",
   "mimetype": "text/x-python",
   "name": "python",
   "nbconvert_exporter": "python",
   "pygments_lexer": "ipython3",
   "version": "3.8.3"
  }
 },
 "nbformat": 4,
 "nbformat_minor": 4
}

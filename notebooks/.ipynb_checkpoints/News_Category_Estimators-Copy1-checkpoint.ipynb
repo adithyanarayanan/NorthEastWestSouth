{
 "cells": [
  {
   "cell_type": "code",
   "execution_count": 1,
   "metadata": {
    "ExecuteTime": {
     "end_time": "2021-02-12T23:36:27.953610Z",
     "start_time": "2021-02-12T23:36:18.128319Z"
    },
    "colab": {
     "base_uri": "https://localhost:8080/"
    },
    "id": "eEOZUhZI9az7",
    "outputId": "3b32a378-6448-457e-a396-17f35faed075"
   },
   "outputs": [
    {
     "name": "stdout",
     "output_type": "stream",
     "text": [
      "Requirement already satisfied: tweet-preprocessor in c:\\users\\adith\\anaconda3\\lib\\site-packages (0.6.0)\n",
      "Requirement already satisfied: icecream in c:\\users\\adith\\anaconda3\\lib\\site-packages (2.1.0)\n",
      "Requirement already satisfied: asttokens>=2.0.1 in c:\\users\\adith\\anaconda3\\lib\\site-packages (from icecream) (2.0.4)\n",
      "Requirement already satisfied: executing>=0.3.1 in c:\\users\\adith\\anaconda3\\lib\\site-packages (from icecream) (0.5.4)\n",
      "Requirement already satisfied: colorama>=0.3.9 in c:\\users\\adith\\anaconda3\\lib\\site-packages (from icecream) (0.4.3)\n",
      "Requirement already satisfied: pygments>=2.2.0 in c:\\users\\adith\\anaconda3\\lib\\site-packages (from icecream) (2.6.1)\n",
      "Requirement already satisfied: six in c:\\users\\adith\\anaconda3\\lib\\site-packages (from asttokens>=2.0.1->icecream) (1.15.0)\n"
     ]
    }
   ],
   "source": [
    "# Necesary imports\n",
    "# Pipeline usage learnt from https://towardsdatascience.com/nlp-with-pipeline-gridsearch-5922266e82f4\n",
    "!pip install tweet-preprocessor\n",
    "!pip install icecream\n",
    "import numpy as np\n",
    "import pandas as pd\n",
    "from sklearn.linear_model import LogisticRegression\n",
    "from sklearn.model_selection import cross_val_score\n",
    "from sklearn.feature_extraction.text import TfidfVectorizer\n",
    "from sklearn.model_selection import train_test_split\n",
    "from sklearn.linear_model import LogisticRegression\n",
    "from sklearn.model_selection import cross_val_score\n",
    "from sklearn.metrics import accuracy_score\n",
    "from sklearn.feature_extraction.text import TfidfVectorizer\n",
    "from sklearn.model_selection import train_test_split\n",
    "from sklearn.naive_bayes import MultinomialNB\n",
    "from sklearn.pipeline import Pipeline\n",
    "import preprocessor as p\n",
    "from sklearn.model_selection import GridSearchCV\n",
    "from icecream import ic\n",
    "from sklearn.svm import LinearSVC\n",
    "from sklearn.pipeline import make_pipeline\n",
    "from sklearn.preprocessing import StandardScaler \n",
    "from sklearn.datasets import make_classification"
   ]
  },
  {
   "cell_type": "code",
   "execution_count": 2,
   "metadata": {
    "ExecuteTime": {
     "end_time": "2021-02-12T23:36:28.150282Z",
     "start_time": "2021-02-12T23:36:27.955608Z"
    },
    "id": "Hz-F4peY_TRD"
   },
   "outputs": [],
   "source": [
    "# Loading Data for Modeling and Blind Testing\n",
    "\n",
    "bbc_data = pd.read_csv(\"bbc_news.csv\")\n",
    "large_data = pd.read_csv(\"large_news_data.csv\")\n",
    "news_api_data  = pd.read_csv(\"large_news_data.csv\")\n",
    "test_tweets = pd.read_csv(\"labeled_tweets.csv\") "
   ]
  },
  {
   "cell_type": "code",
   "execution_count": 3,
   "metadata": {
    "ExecuteTime": {
     "end_time": "2021-02-12T23:36:29.734453Z",
     "start_time": "2021-02-12T23:36:28.152277Z"
    },
    "colab": {
     "base_uri": "https://localhost:8080/",
     "height": 404
    },
    "id": "xPGaDXqK_zzR",
    "outputId": "f8efe77d-a58d-48b2-9bf3-7a00d95dad83"
   },
   "outputs": [
    {
     "data": {
      "text/html": [
       "<div>\n",
       "<style scoped>\n",
       "    .dataframe tbody tr th:only-of-type {\n",
       "        vertical-align: middle;\n",
       "    }\n",
       "\n",
       "    .dataframe tbody tr th {\n",
       "        vertical-align: top;\n",
       "    }\n",
       "\n",
       "    .dataframe thead th {\n",
       "        text-align: right;\n",
       "    }\n",
       "</style>\n",
       "<table border=\"1\" class=\"dataframe\">\n",
       "  <thead>\n",
       "    <tr style=\"text-align: right;\">\n",
       "      <th></th>\n",
       "      <th>text</th>\n",
       "      <th>label</th>\n",
       "    </tr>\n",
       "  </thead>\n",
       "  <tbody>\n",
       "    <tr>\n",
       "      <th>0</th>\n",
       "      <td>worldcom ex-boss launches defence lawyers defe...</td>\n",
       "      <td>business</td>\n",
       "    </tr>\n",
       "    <tr>\n",
       "      <th>1</th>\n",
       "      <td>german business confidence slides german busin...</td>\n",
       "      <td>business</td>\n",
       "    </tr>\n",
       "    <tr>\n",
       "      <th>2</th>\n",
       "      <td>bbc poll indicates economic gloom citizens in ...</td>\n",
       "      <td>business</td>\n",
       "    </tr>\n",
       "    <tr>\n",
       "      <th>3</th>\n",
       "      <td>enron bosses in $168m payout eighteen former e...</td>\n",
       "      <td>business</td>\n",
       "    </tr>\n",
       "    <tr>\n",
       "      <th>4</th>\n",
       "      <td>howard truanted to play snooker conservative l...</td>\n",
       "      <td>politics</td>\n",
       "    </tr>\n",
       "    <tr>\n",
       "      <th>...</th>\n",
       "      <td>...</td>\n",
       "      <td>...</td>\n",
       "    </tr>\n",
       "    <tr>\n",
       "      <th>1259</th>\n",
       "      <td>great opinion piece from in on the consequence...</td>\n",
       "      <td>health</td>\n",
       "    </tr>\n",
       "    <tr>\n",
       "      <th>1260</th>\n",
       "      <td>there are still too many families who are just...</td>\n",
       "      <td>health</td>\n",
       "    </tr>\n",
       "    <tr>\n",
       "      <th>1261</th>\n",
       "      <td>this is the last gdp report from trumps tenure...</td>\n",
       "      <td>health</td>\n",
       "    </tr>\n",
       "    <tr>\n",
       "      <th>1262</th>\n",
       "      <td>paid time off to get vaccinated, featuring and...</td>\n",
       "      <td>health</td>\n",
       "    </tr>\n",
       "    <tr>\n",
       "      <th>1263</th>\n",
       "      <td>according to researchers from the centers for ...</td>\n",
       "      <td>health</td>\n",
       "    </tr>\n",
       "  </tbody>\n",
       "</table>\n",
       "<p>1264 rows × 2 columns</p>\n",
       "</div>"
      ],
      "text/plain": [
       "                                                   text     label\n",
       "0     worldcom ex-boss launches defence lawyers defe...  business\n",
       "1     german business confidence slides german busin...  business\n",
       "2     bbc poll indicates economic gloom citizens in ...  business\n",
       "3     enron bosses in $168m payout eighteen former e...  business\n",
       "4     howard truanted to play snooker conservative l...  politics\n",
       "...                                                 ...       ...\n",
       "1259  great opinion piece from in on the consequence...    health\n",
       "1260  there are still too many families who are just...    health\n",
       "1261  this is the last gdp report from trumps tenure...    health\n",
       "1262  paid time off to get vaccinated, featuring and...    health\n",
       "1263  according to researchers from the centers for ...    health\n",
       "\n",
       "[1264 rows x 2 columns]"
      ]
     },
     "execution_count": 3,
     "metadata": {},
     "output_type": "execute_result"
    }
   ],
   "source": [
    "# Clean BBC Headlines Data\n",
    "\n",
    "bbc_data.text = bbc_data.text.str.lower().apply(p.clean)\n",
    "bbc_data.dropna(inplace=True)\n",
    "bbc_data"
   ]
  },
  {
   "cell_type": "code",
   "execution_count": 4,
   "metadata": {
    "ExecuteTime": {
     "end_time": "2021-02-12T23:36:31.774049Z",
     "start_time": "2021-02-12T23:36:29.737453Z"
    },
    "colab": {
     "base_uri": "https://localhost:8080/",
     "height": 404
    },
    "id": "CS0xxT8XxqKs",
    "outputId": "8ac1f4d5-5ca9-4adf-bd1b-dbc63c31eac2"
   },
   "outputs": [
    {
     "data": {
      "text/html": [
       "<div>\n",
       "<style scoped>\n",
       "    .dataframe tbody tr th:only-of-type {\n",
       "        vertical-align: middle;\n",
       "    }\n",
       "\n",
       "    .dataframe tbody tr th {\n",
       "        vertical-align: top;\n",
       "    }\n",
       "\n",
       "    .dataframe thead th {\n",
       "        text-align: right;\n",
       "    }\n",
       "</style>\n",
       "<table border=\"1\" class=\"dataframe\">\n",
       "  <thead>\n",
       "    <tr style=\"text-align: right;\">\n",
       "      <th></th>\n",
       "      <th>text</th>\n",
       "      <th>label</th>\n",
       "    </tr>\n",
       "  </thead>\n",
       "  <tbody>\n",
       "    <tr>\n",
       "      <th>0</th>\n",
       "      <td>why overeating doesn't make you fat</td>\n",
       "      <td>health</td>\n",
       "    </tr>\n",
       "    <tr>\n",
       "      <th>1</th>\n",
       "      <td>habits of people with a healthy relationship t...</td>\n",
       "      <td>health</td>\n",
       "    </tr>\n",
       "    <tr>\n",
       "      <th>2</th>\n",
       "      <td>things that could be stealing your joy</td>\n",
       "      <td>health</td>\n",
       "    </tr>\n",
       "    <tr>\n",
       "      <th>3</th>\n",
       "      <td>moments make a life</td>\n",
       "      <td>health</td>\n",
       "    </tr>\n",
       "    <tr>\n",
       "      <th>4</th>\n",
       "      <td>fat facts</td>\n",
       "      <td>health</td>\n",
       "    </tr>\n",
       "    <tr>\n",
       "      <th>...</th>\n",
       "      <td>...</td>\n",
       "      <td>...</td>\n",
       "    </tr>\n",
       "    <tr>\n",
       "      <th>24879</th>\n",
       "      <td>vanessa and nick lachey welcome christmas eve ...</td>\n",
       "      <td>entertainment</td>\n",
       "    </tr>\n",
       "    <tr>\n",
       "      <th>24880</th>\n",
       "      <td>remembering george michael with of his greates...</td>\n",
       "      <td>entertainment</td>\n",
       "    </tr>\n",
       "    <tr>\n",
       "      <th>24881</th>\n",
       "      <td>the first 'alien: covenant' trailer is a terri...</td>\n",
       "      <td>entertainment</td>\n",
       "    </tr>\n",
       "    <tr>\n",
       "      <th>24882</th>\n",
       "      <td>'rogue one' dominates the holiday box office</td>\n",
       "      <td>entertainment</td>\n",
       "    </tr>\n",
       "    <tr>\n",
       "      <th>24883</th>\n",
       "      <td>a&amp;e cancels upcoming kkk docuseries over cash ...</td>\n",
       "      <td>entertainment</td>\n",
       "    </tr>\n",
       "  </tbody>\n",
       "</table>\n",
       "<p>24883 rows × 2 columns</p>\n",
       "</div>"
      ],
      "text/plain": [
       "                                                    text          label\n",
       "0                    why overeating doesn't make you fat         health\n",
       "1      habits of people with a healthy relationship t...         health\n",
       "2                 things that could be stealing your joy         health\n",
       "3                                    moments make a life         health\n",
       "4                                              fat facts         health\n",
       "...                                                  ...            ...\n",
       "24879  vanessa and nick lachey welcome christmas eve ...  entertainment\n",
       "24880  remembering george michael with of his greates...  entertainment\n",
       "24881  the first 'alien: covenant' trailer is a terri...  entertainment\n",
       "24882       'rogue one' dominates the holiday box office  entertainment\n",
       "24883  a&e cancels upcoming kkk docuseries over cash ...  entertainment\n",
       "\n",
       "[24883 rows x 2 columns]"
      ]
     },
     "execution_count": 4,
     "metadata": {},
     "output_type": "execute_result"
    }
   ],
   "source": [
    "# Clean large headlines data (subset of) : https://www.kaggle.com/rmisra/news-category-dataset \n",
    "\n",
    "large_data.dropna(inplace=True)\n",
    "large_data.text = large_data.text.str.lower()\n",
    "large_data.text = large_data.text.apply(p.clean)\n",
    "large_data"
   ]
  },
  {
   "cell_type": "code",
   "execution_count": 6,
   "metadata": {
    "id": "WPUadNjgxrbs"
   },
   "outputs": [],
   "source": [
    "# news_api_data.text = news_api_data.text.str.lower()\n",
    "# news_api_data.text = news_api_data.text.apply(p.clean)\n",
    "# news_api_data.dropna(inplace=True)\n",
    "# news_api_data"
   ]
  },
  {
   "cell_type": "code",
   "execution_count": 5,
   "metadata": {
    "ExecuteTime": {
     "end_time": "2021-02-12T23:36:31.863849Z",
     "start_time": "2021-02-12T23:36:31.775050Z"
    },
    "colab": {
     "base_uri": "https://localhost:8080/",
     "height": 404
    },
    "id": "WHTa2g49xtH7",
    "outputId": "281550fe-39b7-46fe-8837-430510c25f92"
   },
   "outputs": [
    {
     "data": {
      "text/html": [
       "<div>\n",
       "<style scoped>\n",
       "    .dataframe tbody tr th:only-of-type {\n",
       "        vertical-align: middle;\n",
       "    }\n",
       "\n",
       "    .dataframe tbody tr th {\n",
       "        vertical-align: top;\n",
       "    }\n",
       "\n",
       "    .dataframe thead th {\n",
       "        text-align: right;\n",
       "    }\n",
       "</style>\n",
       "<table border=\"1\" class=\"dataframe\">\n",
       "  <thead>\n",
       "    <tr style=\"text-align: right;\">\n",
       "      <th></th>\n",
       "      <th>text</th>\n",
       "      <th>label1</th>\n",
       "      <th>label2</th>\n",
       "    </tr>\n",
       "  </thead>\n",
       "  <tbody>\n",
       "    <tr>\n",
       "      <th>0</th>\n",
       "      <td>while athletes and other attendees at this sum...</td>\n",
       "      <td>sports</td>\n",
       "      <td>health</td>\n",
       "    </tr>\n",
       "    <tr>\n",
       "      <th>1</th>\n",
       "      <td>the family of a military veteran who died in a...</td>\n",
       "      <td>politics</td>\n",
       "      <td>NA</td>\n",
       "    </tr>\n",
       "    <tr>\n",
       "      <th>2</th>\n",
       "      <td>a state lawmaker in missouri was charged this ...</td>\n",
       "      <td>health</td>\n",
       "      <td>politics</td>\n",
       "    </tr>\n",
       "    <tr>\n",
       "      <th>3</th>\n",
       "      <td>u.s. defense secretary lloyd austin convened t...</td>\n",
       "      <td>politics</td>\n",
       "      <td>NA</td>\n",
       "    </tr>\n",
       "    <tr>\n",
       "      <th>4</th>\n",
       "      <td>who knew that it could be so much fun to watch...</td>\n",
       "      <td>politics</td>\n",
       "      <td>entertainment</td>\n",
       "    </tr>\n",
       "    <tr>\n",
       "      <th>...</th>\n",
       "      <td>...</td>\n",
       "      <td>...</td>\n",
       "      <td>...</td>\n",
       "    </tr>\n",
       "    <tr>\n",
       "      <th>540</th>\n",
       "      <td>elon musks spacex announces a spaceflight inte...</td>\n",
       "      <td>business</td>\n",
       "      <td>NA</td>\n",
       "    </tr>\n",
       "    <tr>\n",
       "      <th>541</th>\n",
       "      <td>as house gop faces decision on its future, mcc...</td>\n",
       "      <td>politics</td>\n",
       "      <td>NA</td>\n",
       "    </tr>\n",
       "    <tr>\n",
       "      <th>542</th>\n",
       "      <td>the gamestop stock situation isnt about populi...</td>\n",
       "      <td>business</td>\n",
       "      <td>NA</td>\n",
       "    </tr>\n",
       "    <tr>\n",
       "      <th>543</th>\n",
       "      <td>opinion: confederate names are coming down, bu...</td>\n",
       "      <td>politics</td>\n",
       "      <td>NA</td>\n",
       "    </tr>\n",
       "    <tr>\n",
       "      <th>544</th>\n",
       "      <td>opinion: gamestop is not a morality tale. peop...</td>\n",
       "      <td>business</td>\n",
       "      <td>NA</td>\n",
       "    </tr>\n",
       "  </tbody>\n",
       "</table>\n",
       "<p>545 rows × 3 columns</p>\n",
       "</div>"
      ],
      "text/plain": [
       "                                                  text    label1  \\\n",
       "0    while athletes and other attendees at this sum...    sports   \n",
       "1    the family of a military veteran who died in a...  politics   \n",
       "2    a state lawmaker in missouri was charged this ...    health   \n",
       "3    u.s. defense secretary lloyd austin convened t...  politics   \n",
       "4    who knew that it could be so much fun to watch...  politics   \n",
       "..                                                 ...       ...   \n",
       "540  elon musks spacex announces a spaceflight inte...  business   \n",
       "541  as house gop faces decision on its future, mcc...  politics   \n",
       "542  the gamestop stock situation isnt about populi...  business   \n",
       "543  opinion: confederate names are coming down, bu...  politics   \n",
       "544  opinion: gamestop is not a morality tale. peop...  business   \n",
       "\n",
       "            label2  \n",
       "0           health  \n",
       "1               NA  \n",
       "2         politics  \n",
       "3               NA  \n",
       "4    entertainment  \n",
       "..             ...  \n",
       "540             NA  \n",
       "541             NA  \n",
       "542             NA  \n",
       "543             NA  \n",
       "544             NA  \n",
       "\n",
       "[545 rows x 3 columns]"
      ]
     },
     "execution_count": 5,
     "metadata": {},
     "output_type": "execute_result"
    }
   ],
   "source": [
    "# Manually annotates test tweets\n",
    "\n",
    "test_tweets.fillna(\"NA\", inplace=True)\n",
    "test_tweets.text = test_tweets.text.str.lower()\n",
    "test_tweets.text = test_tweets.text.apply(p.clean)\n",
    "test_tweets"
   ]
  },
  {
   "cell_type": "code",
   "execution_count": 6,
   "metadata": {
    "ExecuteTime": {
     "end_time": "2021-02-12T23:36:31.887476Z",
     "start_time": "2021-02-12T23:36:31.866846Z"
    },
    "colab": {
     "base_uri": "https://localhost:8080/",
     "height": 404
    },
    "id": "jKsdKn-D4fmd",
    "outputId": "69383ed3-5ff0-4827-c632-e7a82ae674e5"
   },
   "outputs": [
    {
     "data": {
      "text/html": [
       "<div>\n",
       "<style scoped>\n",
       "    .dataframe tbody tr th:only-of-type {\n",
       "        vertical-align: middle;\n",
       "    }\n",
       "\n",
       "    .dataframe tbody tr th {\n",
       "        vertical-align: top;\n",
       "    }\n",
       "\n",
       "    .dataframe thead th {\n",
       "        text-align: right;\n",
       "    }\n",
       "</style>\n",
       "<table border=\"1\" class=\"dataframe\">\n",
       "  <thead>\n",
       "    <tr style=\"text-align: right;\">\n",
       "      <th></th>\n",
       "      <th>text</th>\n",
       "      <th>label</th>\n",
       "    </tr>\n",
       "  </thead>\n",
       "  <tbody>\n",
       "    <tr>\n",
       "      <th>0</th>\n",
       "      <td>worldcom ex-boss launches defence lawyers defe...</td>\n",
       "      <td>business</td>\n",
       "    </tr>\n",
       "    <tr>\n",
       "      <th>1</th>\n",
       "      <td>german business confidence slides german busin...</td>\n",
       "      <td>business</td>\n",
       "    </tr>\n",
       "    <tr>\n",
       "      <th>2</th>\n",
       "      <td>bbc poll indicates economic gloom citizens in ...</td>\n",
       "      <td>business</td>\n",
       "    </tr>\n",
       "    <tr>\n",
       "      <th>3</th>\n",
       "      <td>enron bosses in $168m payout eighteen former e...</td>\n",
       "      <td>business</td>\n",
       "    </tr>\n",
       "    <tr>\n",
       "      <th>4</th>\n",
       "      <td>howard truanted to play snooker conservative l...</td>\n",
       "      <td>politics</td>\n",
       "    </tr>\n",
       "    <tr>\n",
       "      <th>...</th>\n",
       "      <td>...</td>\n",
       "      <td>...</td>\n",
       "    </tr>\n",
       "    <tr>\n",
       "      <th>26142</th>\n",
       "      <td>vanessa and nick lachey welcome christmas eve ...</td>\n",
       "      <td>entertainment</td>\n",
       "    </tr>\n",
       "    <tr>\n",
       "      <th>26143</th>\n",
       "      <td>remembering george michael with of his greates...</td>\n",
       "      <td>entertainment</td>\n",
       "    </tr>\n",
       "    <tr>\n",
       "      <th>26144</th>\n",
       "      <td>the first 'alien: covenant' trailer is a terri...</td>\n",
       "      <td>entertainment</td>\n",
       "    </tr>\n",
       "    <tr>\n",
       "      <th>26145</th>\n",
       "      <td>'rogue one' dominates the holiday box office</td>\n",
       "      <td>entertainment</td>\n",
       "    </tr>\n",
       "    <tr>\n",
       "      <th>26146</th>\n",
       "      <td>a&amp;e cancels upcoming kkk docuseries over cash ...</td>\n",
       "      <td>entertainment</td>\n",
       "    </tr>\n",
       "  </tbody>\n",
       "</table>\n",
       "<p>26147 rows × 2 columns</p>\n",
       "</div>"
      ],
      "text/plain": [
       "                                                    text          label\n",
       "0      worldcom ex-boss launches defence lawyers defe...       business\n",
       "1      german business confidence slides german busin...       business\n",
       "2      bbc poll indicates economic gloom citizens in ...       business\n",
       "3      enron bosses in $168m payout eighteen former e...       business\n",
       "4      howard truanted to play snooker conservative l...       politics\n",
       "...                                                  ...            ...\n",
       "26142  vanessa and nick lachey welcome christmas eve ...  entertainment\n",
       "26143  remembering george michael with of his greates...  entertainment\n",
       "26144  the first 'alien: covenant' trailer is a terri...  entertainment\n",
       "26145       'rogue one' dominates the holiday box office  entertainment\n",
       "26146  a&e cancels upcoming kkk docuseries over cash ...  entertainment\n",
       "\n",
       "[26147 rows x 2 columns]"
      ]
     },
     "execution_count": 6,
     "metadata": {},
     "output_type": "execute_result"
    }
   ],
   "source": [
    "# Combining bbc data and news category data\n",
    "\n",
    "combined_bbc_large = pd.concat([bbc_data, large_data])\n",
    "combined_bbc_large.reset_index(inplace=True)\n",
    "combined_bbc_large.drop(columns=['index'], inplace=True)\n",
    "combined_bbc_large"
   ]
  },
  {
   "cell_type": "code",
   "execution_count": 7,
   "metadata": {
    "ExecuteTime": {
     "end_time": "2021-02-12T23:36:31.894476Z",
     "start_time": "2021-02-12T23:36:31.889476Z"
    },
    "id": "PdYuFcbdBQW5"
   },
   "outputs": [],
   "source": [
    "training_data = large_data # Set the dataframe you want to train with (options: large_data or combined_bbc_large)"
   ]
  },
  {
   "cell_type": "code",
   "execution_count": 19,
   "metadata": {
    "ExecuteTime": {
     "end_time": "2021-02-12T23:56:38.706992Z",
     "start_time": "2021-02-12T23:56:38.700990Z"
    }
   },
   "outputs": [],
   "source": [
    "def build_ner_corpus(tweets):\n",
    "    ner_corpus = []\n",
    "    tweets['entities'] = tweets.text.apply(named_entity_tokens)\n",
    "    for entity_list in tweets.entities:\n",
    "        print(entity_list)\n",
    "        if entity_list != None:\n",
    "            ner_corpus.extend(entity_list)\n",
    "    return ner_corpus"
   ]
  },
  {
   "cell_type": "code",
   "execution_count": 18,
   "metadata": {
    "ExecuteTime": {
     "end_time": "2021-02-12T23:56:36.169959Z",
     "start_time": "2021-02-12T23:56:36.165958Z"
    }
   },
   "outputs": [],
   "source": [
    "def remove_named_entities(string):\n",
    "    doc = nlp(string)\n",
    "    for ent in doc.ents:\n",
    "        if ent.label_ == \"MONEY\":\n",
    "            continue\n",
    "        string.replace(ent, \"\")\n",
    "        return string"
   ]
  },
  {
   "cell_type": "code",
   "execution_count": 8,
   "metadata": {
    "ExecuteTime": {
     "end_time": "2021-02-12T23:36:33.849388Z",
     "start_time": "2021-02-12T23:36:33.829389Z"
    },
    "id": "ne3UdRRkBlu-"
   },
   "outputs": [],
   "source": [
    "# Create Training/testing Splits and Factorized labels\n",
    "\n",
    "training_data['category'] = training_data.label.factorize()[0]  # Factorize Labels\n",
    "X,y = training_data['text'], training_data['category'] \n",
    "X_train, X_test, y_train, y_test = train_test_split(X,y, random_state=0)"
   ]
  },
  {
   "cell_type": "code",
   "execution_count": 10,
   "metadata": {
    "ExecuteTime": {
     "end_time": "2021-02-12T23:36:37.405615Z",
     "start_time": "2021-02-12T23:36:37.394615Z"
    },
    "id": "Wsx_bbZpCPgh"
   },
   "outputs": [],
   "source": [
    "# Setting Up Pipelines and Parameters\n",
    "mnb_pipe = Pipeline([\n",
    "    ('tfv', TfidfVectorizer()),  \n",
    "    ('mb', MultinomialNB())\n",
    "])\n",
    "\n",
    "log_pipe = Pipeline([\n",
    "    ('tfv', TfidfVectorizer()),\n",
    "    ('lm', LogisticRegression())\n",
    "])\n",
    "\n",
    "lsvc_pipe = Pipeline([\n",
    "    ('tfv', TfidfVectorizer()),\n",
    "    ('linearsvc', LinearSVC(random_state=0))                   \n",
    "\n",
    "])\n",
    "\n",
    "mnb_params = {\n",
    " 'tfv__max_features':[1000, 2000, 3000, 4000, 5000, 6000, 7000, None],\n",
    " 'tfv__ngram_range': [(1, 1), (1, 2), (2, 2)],\n",
    " 'tfv__stop_words': ['english']\n",
    "}\n",
    "\n",
    "log_params = {\n",
    " 'tfv__max_features':[1000, 2000, 3000, 4000, 5000, 6000, 7000, None],\n",
    " 'tfv__ngram_range': [(1, 1), (1, 2), (2, 2)],\n",
    " 'tfv__stop_words': ['english'],\n",
    " 'lm__random_state': [0],\n",
    " 'lm__solver' : ['saga']\n",
    "}\n",
    "\n",
    "lsvc_params = {\n",
    " 'tfv__max_features':[1000, 2000, 3000, 4000, 5000, 6000, 7000, None],\n",
    " 'tfv__ngram_range': [(1, 1), (1, 2), (2, 2)],\n",
    " 'tfv__stop_words': ['english']\n",
    "}\n"
   ]
  },
  {
   "cell_type": "code",
   "execution_count": 11,
   "metadata": {
    "ExecuteTime": {
     "end_time": "2021-02-12T23:37:10.670348Z",
     "start_time": "2021-02-12T23:36:40.232017Z"
    },
    "colab": {
     "base_uri": "https://localhost:8080/"
    },
    "id": "kRJYZrzYFzaT",
    "outputId": "c9e5e58b-257f-41fc-bcf3-33bfe52e86c3"
   },
   "outputs": [
    {
     "name": "stdout",
     "output_type": "stream",
     "text": [
      "Fitting 5 folds for each of 24 candidates, totalling 120 fits\n"
     ]
    },
    {
     "name": "stderr",
     "output_type": "stream",
     "text": [
      "[Parallel(n_jobs=-1)]: Using backend LokyBackend with 8 concurrent workers.\n",
      "[Parallel(n_jobs=-1)]: Done  34 tasks      | elapsed:   10.0s\n",
      "[Parallel(n_jobs=-1)]: Done 120 out of 120 | elapsed:   27.8s finished\n",
      "ic| lsvc_gs.score(X_train, y_train): 0.9995713214017791\n",
      "ic| lsvc_gs.score(X_test, y_test): 0.8291271499758881\n"
     ]
    },
    {
     "data": {
      "text/plain": [
       "0.8291271499758881"
      ]
     },
     "execution_count": 11,
     "metadata": {},
     "output_type": "execute_result"
    }
   ],
   "source": [
    "# Linear SVC Grid Search\n",
    "lsvc_gs = GridSearchCV(lsvc_pipe, param_grid=lsvc_params, cv=5, verbose=1, n_jobs=-1)\n",
    "lsvc_gs.fit(X_train, y_train)\n",
    "ic(lsvc_gs.score(X_train, y_train))  # Train Accuracy\n",
    "ic(lsvc_gs.score(X_test, y_test))    # Test Accuracy"
   ]
  },
  {
   "cell_type": "code",
   "execution_count": 12,
   "metadata": {
    "ExecuteTime": {
     "end_time": "2021-02-12T23:37:25.760907Z",
     "start_time": "2021-02-12T23:37:10.673349Z"
    },
    "colab": {
     "base_uri": "https://localhost:8080/"
    },
    "id": "YuB-hJpxGK-J",
    "outputId": "b8c8ce0f-2895-4fe6-ea78-d1774994dcb1"
   },
   "outputs": [
    {
     "name": "stderr",
     "output_type": "stream",
     "text": [
      "[Parallel(n_jobs=-1)]: Using backend LokyBackend with 8 concurrent workers.\n"
     ]
    },
    {
     "name": "stdout",
     "output_type": "stream",
     "text": [
      "Fitting 5 folds for each of 24 candidates, totalling 120 fits\n"
     ]
    },
    {
     "name": "stderr",
     "output_type": "stream",
     "text": [
      "[Parallel(n_jobs=-1)]: Done  34 tasks      | elapsed:    3.5s\n",
      "[Parallel(n_jobs=-1)]: Done 120 out of 120 | elapsed:   13.4s finished\n",
      "ic| mnb_gs.score(X_train, y_train): 0.9729396634873004\n",
      "ic| mnb_gs.score(X_test, y_test): 0.8209291110753898\n"
     ]
    },
    {
     "data": {
      "text/plain": [
       "0.8209291110753898"
      ]
     },
     "execution_count": 12,
     "metadata": {},
     "output_type": "execute_result"
    }
   ],
   "source": [
    "# Multinomial Naive Bayes Grid Search\n",
    "\n",
    "mnb_gs = GridSearchCV(mnb_pipe, param_grid=mnb_params, cv = 5, verbose =1, n_jobs = -1)\n",
    "mnb_gs.fit(X_train, y_train)\n",
    "ic(mnb_gs.score(X_train, y_train)) # Train Acc\n",
    "ic(mnb_gs.score(X_test, y_test))  # Test Acc"
   ]
  },
  {
   "cell_type": "code",
   "execution_count": 13,
   "metadata": {
    "ExecuteTime": {
     "end_time": "2021-02-12T23:37:50.319216Z",
     "start_time": "2021-02-12T23:37:25.763908Z"
    },
    "colab": {
     "base_uri": "https://localhost:8080/"
    },
    "id": "1X3hGH1KIcFG",
    "outputId": "a9fee182-ed27-4631-a449-8f2c0f5083cb"
   },
   "outputs": [
    {
     "name": "stderr",
     "output_type": "stream",
     "text": [
      "[Parallel(n_jobs=-1)]: Using backend LokyBackend with 8 concurrent workers.\n"
     ]
    },
    {
     "name": "stdout",
     "output_type": "stream",
     "text": [
      "Fitting 5 folds for each of 24 candidates, totalling 120 fits\n"
     ]
    },
    {
     "name": "stderr",
     "output_type": "stream",
     "text": [
      "[Parallel(n_jobs=-1)]: Done  34 tasks      | elapsed:    5.7s\n",
      "[Parallel(n_jobs=-1)]: Done 120 out of 120 | elapsed:   22.4s finished\n",
      "ic| log_gs.score(X_train, y_train): 0.9636694888007716\n",
      "ic| log_gs.score(X_test, y_test): 0.8130525638964796\n"
     ]
    },
    {
     "data": {
      "text/plain": [
       "0.8130525638964796"
      ]
     },
     "execution_count": 13,
     "metadata": {},
     "output_type": "execute_result"
    }
   ],
   "source": [
    "# Logistic Regression Classifier Grid Search \n",
    "\n",
    "log_gs = GridSearchCV(log_pipe, param_grid=log_params, cv = 5, verbose =1, n_jobs = -1)\n",
    "log_gs.fit(X_train, y_train)\n",
    "ic(log_gs.score(X_train, y_train)) # Train Acc\n",
    "ic(log_gs.score(X_test, y_test))   # Test Acc"
   ]
  },
  {
   "cell_type": "code",
   "execution_count": 14,
   "metadata": {
    "ExecuteTime": {
     "end_time": "2021-02-12T23:37:50.340217Z",
     "start_time": "2021-02-12T23:37:50.322216Z"
    },
    "colab": {
     "base_uri": "https://localhost:8080/",
     "height": 196
    },
    "id": "xjVDqeaa7CC7",
    "outputId": "60ca2a63-2323-406e-a123-17012bccf3ee"
   },
   "outputs": [
    {
     "data": {
      "text/html": [
       "<div>\n",
       "<style scoped>\n",
       "    .dataframe tbody tr th:only-of-type {\n",
       "        vertical-align: middle;\n",
       "    }\n",
       "\n",
       "    .dataframe tbody tr th {\n",
       "        vertical-align: top;\n",
       "    }\n",
       "\n",
       "    .dataframe thead th {\n",
       "        text-align: right;\n",
       "    }\n",
       "</style>\n",
       "<table border=\"1\" class=\"dataframe\">\n",
       "  <thead>\n",
       "    <tr style=\"text-align: right;\">\n",
       "      <th></th>\n",
       "      <th>category</th>\n",
       "      <th>label</th>\n",
       "    </tr>\n",
       "  </thead>\n",
       "  <tbody>\n",
       "    <tr>\n",
       "      <th>0</th>\n",
       "      <td>0</td>\n",
       "      <td>health</td>\n",
       "    </tr>\n",
       "    <tr>\n",
       "      <th>5000</th>\n",
       "      <td>1</td>\n",
       "      <td>business</td>\n",
       "    </tr>\n",
       "    <tr>\n",
       "      <th>10000</th>\n",
       "      <td>2</td>\n",
       "      <td>politics</td>\n",
       "    </tr>\n",
       "    <tr>\n",
       "      <th>15000</th>\n",
       "      <td>3</td>\n",
       "      <td>sports</td>\n",
       "    </tr>\n",
       "    <tr>\n",
       "      <th>19884</th>\n",
       "      <td>4</td>\n",
       "      <td>entertainment</td>\n",
       "    </tr>\n",
       "  </tbody>\n",
       "</table>\n",
       "</div>"
      ],
      "text/plain": [
       "       category          label\n",
       "0             0         health\n",
       "5000          1       business\n",
       "10000         2       politics\n",
       "15000         3         sports\n",
       "19884         4  entertainment"
      ]
     },
     "execution_count": 14,
     "metadata": {},
     "output_type": "execute_result"
    }
   ],
   "source": [
    "training_data[['category', 'label']].drop_duplicates()\n"
   ]
  },
  {
   "cell_type": "code",
   "execution_count": 15,
   "metadata": {
    "ExecuteTime": {
     "end_time": "2021-02-12T23:37:50.371051Z",
     "start_time": "2021-02-12T23:37:50.341217Z"
    },
    "id": "SoKcVCKu7PGG"
   },
   "outputs": [],
   "source": [
    "test_news = test_tweets # Setting which data to test on"
   ]
  },
  {
   "cell_type": "code",
   "execution_count": 16,
   "metadata": {
    "ExecuteTime": {
     "end_time": "2021-02-12T23:37:50.436733Z",
     "start_time": "2021-02-12T23:37:50.373051Z"
    },
    "id": "zgg3Ut2o70eZ"
   },
   "outputs": [],
   "source": [
    "test_news.text = test_news.text.str.lower().apply(p.clean)\n",
    "test_news.dropna(inplace=True)"
   ]
  },
  {
   "cell_type": "code",
   "execution_count": 17,
   "metadata": {
    "ExecuteTime": {
     "end_time": "2021-02-12T23:37:50.451398Z",
     "start_time": "2021-02-12T23:37:50.438736Z"
    },
    "colab": {
     "base_uri": "https://localhost:8080/",
     "height": 404
    },
    "id": "R_RgyId-8c5v",
    "outputId": "75300c65-518c-4481-c711-54d0ad3b0cd2"
   },
   "outputs": [
    {
     "data": {
      "text/html": [
       "<div>\n",
       "<style scoped>\n",
       "    .dataframe tbody tr th:only-of-type {\n",
       "        vertical-align: middle;\n",
       "    }\n",
       "\n",
       "    .dataframe tbody tr th {\n",
       "        vertical-align: top;\n",
       "    }\n",
       "\n",
       "    .dataframe thead th {\n",
       "        text-align: right;\n",
       "    }\n",
       "</style>\n",
       "<table border=\"1\" class=\"dataframe\">\n",
       "  <thead>\n",
       "    <tr style=\"text-align: right;\">\n",
       "      <th></th>\n",
       "      <th>text</th>\n",
       "      <th>label1</th>\n",
       "      <th>label2</th>\n",
       "    </tr>\n",
       "  </thead>\n",
       "  <tbody>\n",
       "    <tr>\n",
       "      <th>0</th>\n",
       "      <td>while athletes and other attendees at this sum...</td>\n",
       "      <td>sports</td>\n",
       "      <td>health</td>\n",
       "    </tr>\n",
       "    <tr>\n",
       "      <th>1</th>\n",
       "      <td>the family of a military veteran who died in a...</td>\n",
       "      <td>politics</td>\n",
       "      <td>NA</td>\n",
       "    </tr>\n",
       "    <tr>\n",
       "      <th>2</th>\n",
       "      <td>a state lawmaker in missouri was charged this ...</td>\n",
       "      <td>health</td>\n",
       "      <td>politics</td>\n",
       "    </tr>\n",
       "    <tr>\n",
       "      <th>3</th>\n",
       "      <td>u.s. defense secretary lloyd austin convened t...</td>\n",
       "      <td>politics</td>\n",
       "      <td>NA</td>\n",
       "    </tr>\n",
       "    <tr>\n",
       "      <th>4</th>\n",
       "      <td>who knew that it could be so much fun to watch...</td>\n",
       "      <td>politics</td>\n",
       "      <td>entertainment</td>\n",
       "    </tr>\n",
       "    <tr>\n",
       "      <th>...</th>\n",
       "      <td>...</td>\n",
       "      <td>...</td>\n",
       "      <td>...</td>\n",
       "    </tr>\n",
       "    <tr>\n",
       "      <th>540</th>\n",
       "      <td>elon musks spacex announces a spaceflight inte...</td>\n",
       "      <td>business</td>\n",
       "      <td>NA</td>\n",
       "    </tr>\n",
       "    <tr>\n",
       "      <th>541</th>\n",
       "      <td>as house gop faces decision on its future, mcc...</td>\n",
       "      <td>politics</td>\n",
       "      <td>NA</td>\n",
       "    </tr>\n",
       "    <tr>\n",
       "      <th>542</th>\n",
       "      <td>the gamestop stock situation isnt about populi...</td>\n",
       "      <td>business</td>\n",
       "      <td>NA</td>\n",
       "    </tr>\n",
       "    <tr>\n",
       "      <th>543</th>\n",
       "      <td>opinion: confederate names are coming down, bu...</td>\n",
       "      <td>politics</td>\n",
       "      <td>NA</td>\n",
       "    </tr>\n",
       "    <tr>\n",
       "      <th>544</th>\n",
       "      <td>opinion: gamestop is not a morality tale. peop...</td>\n",
       "      <td>business</td>\n",
       "      <td>NA</td>\n",
       "    </tr>\n",
       "  </tbody>\n",
       "</table>\n",
       "<p>545 rows × 3 columns</p>\n",
       "</div>"
      ],
      "text/plain": [
       "                                                  text    label1  \\\n",
       "0    while athletes and other attendees at this sum...    sports   \n",
       "1    the family of a military veteran who died in a...  politics   \n",
       "2    a state lawmaker in missouri was charged this ...    health   \n",
       "3    u.s. defense secretary lloyd austin convened t...  politics   \n",
       "4    who knew that it could be so much fun to watch...  politics   \n",
       "..                                                 ...       ...   \n",
       "540  elon musks spacex announces a spaceflight inte...  business   \n",
       "541  as house gop faces decision on its future, mcc...  politics   \n",
       "542  the gamestop stock situation isnt about populi...  business   \n",
       "543  opinion: confederate names are coming down, bu...  politics   \n",
       "544  opinion: gamestop is not a morality tale. peop...  business   \n",
       "\n",
       "            label2  \n",
       "0           health  \n",
       "1               NA  \n",
       "2         politics  \n",
       "3               NA  \n",
       "4    entertainment  \n",
       "..             ...  \n",
       "540             NA  \n",
       "541             NA  \n",
       "542             NA  \n",
       "543             NA  \n",
       "544             NA  \n",
       "\n",
       "[545 rows x 3 columns]"
      ]
     },
     "execution_count": 17,
     "metadata": {},
     "output_type": "execute_result"
    }
   ],
   "source": [
    "test_news"
   ]
  },
  {
   "cell_type": "code",
   "execution_count": 19,
   "metadata": {
    "id": "cb4h23YX8mYu"
   },
   "outputs": [],
   "source": [
    "# Returns label, given a numerical factor associated with it\n",
    "\n",
    "def return_label(key):\n",
    "    # labels = {0: \"business\", 1: \"politics\", 2: \"sports\", 3: \"entertainment\", 4: \"health\"} # Use with combined_bbc_large\n",
    "    labels = {0: \"health\", 1: \"business\", 2: \"politics\", 3: \"sports\", 4: \"entertainment\"} # Use with large_data\n",
    "    return labels[key]"
   ]
  },
  {
   "cell_type": "code",
   "execution_count": 20,
   "metadata": {
    "id": "dVFIlzcd8CzX"
   },
   "outputs": [],
   "source": [
    "# Predictions (appended to the testing data as columns)\n",
    "\n",
    "y_svc = lsvc_gs.predict(test_news.text)\n",
    "y_mnb = mnb_gs.predict(test_news.text)\n",
    "y_log = log_gs.predict(test_news.text)\n",
    "\n",
    "y_svc = list(map(return_label, y_svc))\n",
    "y_mnb = list(map(return_label, y_mnb))\n",
    "y_log = list(map(return_label, y_log))\n",
    "\n",
    "test_news['y_svc'] = y_svc  # SVC Predictions\n",
    "test_news['y_mnb'] = y_mnb  # MNB Predictions\n",
    "test_news['y_log'] = y_log  # LOG Predictions"
   ]
  },
  {
   "cell_type": "code",
   "execution_count": 21,
   "metadata": {
    "colab": {
     "base_uri": "https://localhost:8080/",
     "height": 404
    },
    "id": "WhLeiVZR9FOw",
    "outputId": "69fa962d-572b-4943-ceba-8ae8ae0e5fd3"
   },
   "outputs": [
    {
     "data": {
      "text/html": [
       "<div>\n",
       "<style scoped>\n",
       "    .dataframe tbody tr th:only-of-type {\n",
       "        vertical-align: middle;\n",
       "    }\n",
       "\n",
       "    .dataframe tbody tr th {\n",
       "        vertical-align: top;\n",
       "    }\n",
       "\n",
       "    .dataframe thead th {\n",
       "        text-align: right;\n",
       "    }\n",
       "</style>\n",
       "<table border=\"1\" class=\"dataframe\">\n",
       "  <thead>\n",
       "    <tr style=\"text-align: right;\">\n",
       "      <th></th>\n",
       "      <th>text</th>\n",
       "      <th>label1</th>\n",
       "      <th>label2</th>\n",
       "      <th>y_svc</th>\n",
       "      <th>y_mnb</th>\n",
       "      <th>y_log</th>\n",
       "    </tr>\n",
       "  </thead>\n",
       "  <tbody>\n",
       "    <tr>\n",
       "      <th>0</th>\n",
       "      <td>while athletes and other attendees at this sum...</td>\n",
       "      <td>sports</td>\n",
       "      <td>health</td>\n",
       "      <td>sports</td>\n",
       "      <td>sports</td>\n",
       "      <td>sports</td>\n",
       "    </tr>\n",
       "    <tr>\n",
       "      <th>1</th>\n",
       "      <td>the family of a military veteran who died in a...</td>\n",
       "      <td>politics</td>\n",
       "      <td>NA</td>\n",
       "      <td>politics</td>\n",
       "      <td>politics</td>\n",
       "      <td>politics</td>\n",
       "    </tr>\n",
       "    <tr>\n",
       "      <th>2</th>\n",
       "      <td>a state lawmaker in missouri was charged this ...</td>\n",
       "      <td>health</td>\n",
       "      <td>politics</td>\n",
       "      <td>health</td>\n",
       "      <td>politics</td>\n",
       "      <td>health</td>\n",
       "    </tr>\n",
       "    <tr>\n",
       "      <th>3</th>\n",
       "      <td>u.s. defense secretary lloyd austin convened t...</td>\n",
       "      <td>politics</td>\n",
       "      <td>NA</td>\n",
       "      <td>politics</td>\n",
       "      <td>politics</td>\n",
       "      <td>politics</td>\n",
       "    </tr>\n",
       "    <tr>\n",
       "      <th>4</th>\n",
       "      <td>who knew that it could be so much fun to watch...</td>\n",
       "      <td>politics</td>\n",
       "      <td>entertainment</td>\n",
       "      <td>sports</td>\n",
       "      <td>entertainment</td>\n",
       "      <td>sports</td>\n",
       "    </tr>\n",
       "    <tr>\n",
       "      <th>...</th>\n",
       "      <td>...</td>\n",
       "      <td>...</td>\n",
       "      <td>...</td>\n",
       "      <td>...</td>\n",
       "      <td>...</td>\n",
       "      <td>...</td>\n",
       "    </tr>\n",
       "    <tr>\n",
       "      <th>540</th>\n",
       "      <td>elon musks spacex announces a spaceflight inte...</td>\n",
       "      <td>business</td>\n",
       "      <td>NA</td>\n",
       "      <td>business</td>\n",
       "      <td>business</td>\n",
       "      <td>business</td>\n",
       "    </tr>\n",
       "    <tr>\n",
       "      <th>541</th>\n",
       "      <td>as house gop faces decision on its future, mcc...</td>\n",
       "      <td>politics</td>\n",
       "      <td>NA</td>\n",
       "      <td>politics</td>\n",
       "      <td>politics</td>\n",
       "      <td>politics</td>\n",
       "    </tr>\n",
       "    <tr>\n",
       "      <th>542</th>\n",
       "      <td>the gamestop stock situation isnt about populi...</td>\n",
       "      <td>business</td>\n",
       "      <td>NA</td>\n",
       "      <td>business</td>\n",
       "      <td>business</td>\n",
       "      <td>business</td>\n",
       "    </tr>\n",
       "    <tr>\n",
       "      <th>543</th>\n",
       "      <td>opinion: confederate names are coming down, bu...</td>\n",
       "      <td>politics</td>\n",
       "      <td>NA</td>\n",
       "      <td>politics</td>\n",
       "      <td>politics</td>\n",
       "      <td>politics</td>\n",
       "    </tr>\n",
       "    <tr>\n",
       "      <th>544</th>\n",
       "      <td>opinion: gamestop is not a morality tale. peop...</td>\n",
       "      <td>business</td>\n",
       "      <td>NA</td>\n",
       "      <td>health</td>\n",
       "      <td>business</td>\n",
       "      <td>health</td>\n",
       "    </tr>\n",
       "  </tbody>\n",
       "</table>\n",
       "<p>545 rows × 6 columns</p>\n",
       "</div>"
      ],
      "text/plain": [
       "                                                  text  ...     y_log\n",
       "0    while athletes and other attendees at this sum...  ...    sports\n",
       "1    the family of a military veteran who died in a...  ...  politics\n",
       "2    a state lawmaker in missouri was charged this ...  ...    health\n",
       "3    u.s. defense secretary lloyd austin convened t...  ...  politics\n",
       "4    who knew that it could be so much fun to watch...  ...    sports\n",
       "..                                                 ...  ...       ...\n",
       "540  elon musks spacex announces a spaceflight inte...  ...  business\n",
       "541  as house gop faces decision on its future, mcc...  ...  politics\n",
       "542  the gamestop stock situation isnt about populi...  ...  business\n",
       "543  opinion: confederate names are coming down, bu...  ...  politics\n",
       "544  opinion: gamestop is not a morality tale. peop...  ...    health\n",
       "\n",
       "[545 rows x 6 columns]"
      ]
     },
     "execution_count": 21,
     "metadata": {
      "tags": []
     },
     "output_type": "execute_result"
    }
   ],
   "source": [
    "test_news"
   ]
  },
  {
   "cell_type": "code",
   "execution_count": 22,
   "metadata": {
    "id": "kKjay-8J_b3I"
   },
   "outputs": [],
   "source": [
    "# Comparing labels across columns to check for accuracy\n",
    "\n",
    "test_news['svc_preds'] = (test_news['y_svc'] == test_news.label1) | (test_news['y_svc'] == test_news.label2)\n",
    "test_news['mnb_preds'] = (test_news['y_mnb'] == test_news.label1) | (test_news['y_mnb'] == test_news.label2)\n",
    "test_news['log_preds'] = (test_news['y_log'] == test_news.label1) | (test_news['y_log'] == test_news.label2)"
   ]
  },
  {
   "cell_type": "code",
   "execution_count": 23,
   "metadata": {
    "colab": {
     "base_uri": "https://localhost:8080/",
     "height": 404
    },
    "id": "zk4rtJKp9QOx",
    "outputId": "c5308d83-5153-4ebe-af1b-793804815090"
   },
   "outputs": [
    {
     "data": {
      "text/html": [
       "<div>\n",
       "<style scoped>\n",
       "    .dataframe tbody tr th:only-of-type {\n",
       "        vertical-align: middle;\n",
       "    }\n",
       "\n",
       "    .dataframe tbody tr th {\n",
       "        vertical-align: top;\n",
       "    }\n",
       "\n",
       "    .dataframe thead th {\n",
       "        text-align: right;\n",
       "    }\n",
       "</style>\n",
       "<table border=\"1\" class=\"dataframe\">\n",
       "  <thead>\n",
       "    <tr style=\"text-align: right;\">\n",
       "      <th></th>\n",
       "      <th>text</th>\n",
       "      <th>label1</th>\n",
       "      <th>label2</th>\n",
       "      <th>y_svc</th>\n",
       "      <th>y_mnb</th>\n",
       "      <th>y_log</th>\n",
       "      <th>svc_preds</th>\n",
       "      <th>mnb_preds</th>\n",
       "      <th>log_preds</th>\n",
       "    </tr>\n",
       "  </thead>\n",
       "  <tbody>\n",
       "    <tr>\n",
       "      <th>0</th>\n",
       "      <td>while athletes and other attendees at this sum...</td>\n",
       "      <td>sports</td>\n",
       "      <td>health</td>\n",
       "      <td>sports</td>\n",
       "      <td>sports</td>\n",
       "      <td>sports</td>\n",
       "      <td>True</td>\n",
       "      <td>True</td>\n",
       "      <td>True</td>\n",
       "    </tr>\n",
       "    <tr>\n",
       "      <th>1</th>\n",
       "      <td>the family of a military veteran who died in a...</td>\n",
       "      <td>politics</td>\n",
       "      <td>NA</td>\n",
       "      <td>politics</td>\n",
       "      <td>politics</td>\n",
       "      <td>politics</td>\n",
       "      <td>True</td>\n",
       "      <td>True</td>\n",
       "      <td>True</td>\n",
       "    </tr>\n",
       "    <tr>\n",
       "      <th>2</th>\n",
       "      <td>a state lawmaker in missouri was charged this ...</td>\n",
       "      <td>health</td>\n",
       "      <td>politics</td>\n",
       "      <td>health</td>\n",
       "      <td>politics</td>\n",
       "      <td>health</td>\n",
       "      <td>True</td>\n",
       "      <td>True</td>\n",
       "      <td>True</td>\n",
       "    </tr>\n",
       "    <tr>\n",
       "      <th>3</th>\n",
       "      <td>u.s. defense secretary lloyd austin convened t...</td>\n",
       "      <td>politics</td>\n",
       "      <td>NA</td>\n",
       "      <td>politics</td>\n",
       "      <td>politics</td>\n",
       "      <td>politics</td>\n",
       "      <td>True</td>\n",
       "      <td>True</td>\n",
       "      <td>True</td>\n",
       "    </tr>\n",
       "    <tr>\n",
       "      <th>4</th>\n",
       "      <td>who knew that it could be so much fun to watch...</td>\n",
       "      <td>politics</td>\n",
       "      <td>entertainment</td>\n",
       "      <td>sports</td>\n",
       "      <td>entertainment</td>\n",
       "      <td>sports</td>\n",
       "      <td>False</td>\n",
       "      <td>True</td>\n",
       "      <td>False</td>\n",
       "    </tr>\n",
       "    <tr>\n",
       "      <th>...</th>\n",
       "      <td>...</td>\n",
       "      <td>...</td>\n",
       "      <td>...</td>\n",
       "      <td>...</td>\n",
       "      <td>...</td>\n",
       "      <td>...</td>\n",
       "      <td>...</td>\n",
       "      <td>...</td>\n",
       "      <td>...</td>\n",
       "    </tr>\n",
       "    <tr>\n",
       "      <th>540</th>\n",
       "      <td>elon musks spacex announces a spaceflight inte...</td>\n",
       "      <td>business</td>\n",
       "      <td>NA</td>\n",
       "      <td>business</td>\n",
       "      <td>business</td>\n",
       "      <td>business</td>\n",
       "      <td>True</td>\n",
       "      <td>True</td>\n",
       "      <td>True</td>\n",
       "    </tr>\n",
       "    <tr>\n",
       "      <th>541</th>\n",
       "      <td>as house gop faces decision on its future, mcc...</td>\n",
       "      <td>politics</td>\n",
       "      <td>NA</td>\n",
       "      <td>politics</td>\n",
       "      <td>politics</td>\n",
       "      <td>politics</td>\n",
       "      <td>True</td>\n",
       "      <td>True</td>\n",
       "      <td>True</td>\n",
       "    </tr>\n",
       "    <tr>\n",
       "      <th>542</th>\n",
       "      <td>the gamestop stock situation isnt about populi...</td>\n",
       "      <td>business</td>\n",
       "      <td>NA</td>\n",
       "      <td>business</td>\n",
       "      <td>business</td>\n",
       "      <td>business</td>\n",
       "      <td>True</td>\n",
       "      <td>True</td>\n",
       "      <td>True</td>\n",
       "    </tr>\n",
       "    <tr>\n",
       "      <th>543</th>\n",
       "      <td>opinion: confederate names are coming down, bu...</td>\n",
       "      <td>politics</td>\n",
       "      <td>NA</td>\n",
       "      <td>politics</td>\n",
       "      <td>politics</td>\n",
       "      <td>politics</td>\n",
       "      <td>True</td>\n",
       "      <td>True</td>\n",
       "      <td>True</td>\n",
       "    </tr>\n",
       "    <tr>\n",
       "      <th>544</th>\n",
       "      <td>opinion: gamestop is not a morality tale. peop...</td>\n",
       "      <td>business</td>\n",
       "      <td>NA</td>\n",
       "      <td>health</td>\n",
       "      <td>business</td>\n",
       "      <td>health</td>\n",
       "      <td>False</td>\n",
       "      <td>True</td>\n",
       "      <td>False</td>\n",
       "    </tr>\n",
       "  </tbody>\n",
       "</table>\n",
       "<p>545 rows × 9 columns</p>\n",
       "</div>"
      ],
      "text/plain": [
       "                                                  text  ... log_preds\n",
       "0    while athletes and other attendees at this sum...  ...      True\n",
       "1    the family of a military veteran who died in a...  ...      True\n",
       "2    a state lawmaker in missouri was charged this ...  ...      True\n",
       "3    u.s. defense secretary lloyd austin convened t...  ...      True\n",
       "4    who knew that it could be so much fun to watch...  ...     False\n",
       "..                                                 ...  ...       ...\n",
       "540  elon musks spacex announces a spaceflight inte...  ...      True\n",
       "541  as house gop faces decision on its future, mcc...  ...      True\n",
       "542  the gamestop stock situation isnt about populi...  ...      True\n",
       "543  opinion: confederate names are coming down, bu...  ...      True\n",
       "544  opinion: gamestop is not a morality tale. peop...  ...     False\n",
       "\n",
       "[545 rows x 9 columns]"
      ]
     },
     "execution_count": 23,
     "metadata": {
      "tags": []
     },
     "output_type": "execute_result"
    }
   ],
   "source": [
    "test_news"
   ]
  },
  {
   "cell_type": "code",
   "execution_count": 24,
   "metadata": {
    "colab": {
     "base_uri": "https://localhost:8080/"
    },
    "id": "j-PUDHB0BTTN",
    "outputId": "efee81c0-a769-4697-b14b-9d02f53ffc66"
   },
   "outputs": [
    {
     "name": "stderr",
     "output_type": "stream",
     "text": [
      "ic| svc_accuracy: 0.7963302752293578\n",
      "ic| mnb_accuracy: 0.8146788990825689\n",
      "ic| log_accuracy: 0.781651376146789\n"
     ]
    },
    {
     "data": {
      "text/plain": [
       "0.781651376146789"
      ]
     },
     "execution_count": 24,
     "metadata": {
      "tags": []
     },
     "output_type": "execute_result"
    }
   ],
   "source": [
    "svc_accuracy = test_news.svc_preds.value_counts()[True]/len(test_news)\n",
    "mnb_accuracy = test_news.mnb_preds.value_counts()[True]/len(test_news)\n",
    "log_accuracy = test_news.log_preds.value_counts()[True]/len(test_news)\n",
    "\n",
    "ic(svc_accuracy)  # SVC Acc\n",
    "ic(mnb_accuracy)  # MNB Acc\n",
    "ic(log_accuracy)  # Log Acc"
   ]
  },
  {
   "cell_type": "code",
   "execution_count": null,
   "metadata": {
    "id": "aiMDkQ2wEICL"
   },
   "outputs": [],
   "source": [
    "# ACCURACIES ON LARGE DATA (NEWS CATEGORY DATASET)\n",
    "\n",
    "# ic| svc_accuracy: 0.7963302752293578\n",
    "# ic| mnb_accuracy: 0.8146788990825689\n",
    "# ic| log_accuracy: 0.781651376146789\n",
    "# 0.781651376146789"
   ]
  },
  {
   "cell_type": "code",
   "execution_count": 25,
   "metadata": {
    "id": "qgpu5sMTCMTv"
   },
   "outputs": [],
   "source": [
    "# ACCURACIES ON COMBINED DATA\n",
    "\n",
    "\n",
    "# ic| svc_accuracy: 0.8036697247706422\n",
    "# ic| mnb_accuracy: 0.8165137614678899\n",
    "# ic| log_accuracy: 0.7871559633027523\n",
    "# 0.7871559633027523"
   ]
  },
  {
   "cell_type": "code",
   "execution_count": 26,
   "metadata": {
    "colab": {
     "base_uri": "https://localhost:8080/"
    },
    "id": "yf-ipIxuCA1S",
    "outputId": "17b6f709-e19c-4e62-ee36-01e0e490d177"
   },
   "outputs": [
    {
     "data": {
      "text/plain": [
       "Pipeline(memory=None,\n",
       "         steps=[('tfv',\n",
       "                 TfidfVectorizer(analyzer='word', binary=False,\n",
       "                                 decode_error='strict',\n",
       "                                 dtype=<class 'numpy.float64'>,\n",
       "                                 encoding='utf-8', input='content',\n",
       "                                 lowercase=True, max_df=1.0, max_features=None,\n",
       "                                 min_df=1, ngram_range=(1, 2), norm='l2',\n",
       "                                 preprocessor=None, smooth_idf=True,\n",
       "                                 stop_words='english', strip_accents=None,\n",
       "                                 sublinear_tf=False,\n",
       "                                 token_pattern='(?u)\\\\b\\\\w\\\\w+\\\\b',\n",
       "                                 tokenizer=None, use_idf=True,\n",
       "                                 vocabulary=None)),\n",
       "                ('linearsvc',\n",
       "                 LinearSVC(C=1.0, class_weight=None, dual=True,\n",
       "                           fit_intercept=True, intercept_scaling=1,\n",
       "                           loss='squared_hinge', max_iter=1000,\n",
       "                           multi_class='ovr', penalty='l2', random_state=0,\n",
       "                           tol=0.0001, verbose=0))],\n",
       "         verbose=False)"
      ]
     },
     "execution_count": 26,
     "metadata": {
      "tags": []
     },
     "output_type": "execute_result"
    }
   ],
   "source": [
    "lsvc_gs.best_estimator_"
   ]
  },
  {
   "cell_type": "code",
   "execution_count": 27,
   "metadata": {
    "colab": {
     "base_uri": "https://localhost:8080/"
    },
    "id": "EIw8UrCMCJ2B",
    "outputId": "d2033af6-5381-4a0b-9abb-baf7387913c2"
   },
   "outputs": [
    {
     "data": {
      "text/plain": [
       "Pipeline(memory=None,\n",
       "         steps=[('tfv',\n",
       "                 TfidfVectorizer(analyzer='word', binary=False,\n",
       "                                 decode_error='strict',\n",
       "                                 dtype=<class 'numpy.float64'>,\n",
       "                                 encoding='utf-8', input='content',\n",
       "                                 lowercase=True, max_df=1.0, max_features=None,\n",
       "                                 min_df=1, ngram_range=(1, 2), norm='l2',\n",
       "                                 preprocessor=None, smooth_idf=True,\n",
       "                                 stop_words='english', strip_accents=None,\n",
       "                                 sublinear_tf=False,\n",
       "                                 token_pattern='(?u)\\\\b\\\\w\\\\w+\\\\b',\n",
       "                                 tokenizer=None, use_idf=True,\n",
       "                                 vocabulary=None)),\n",
       "                ('mb',\n",
       "                 MultinomialNB(alpha=1.0, class_prior=None, fit_prior=True))],\n",
       "         verbose=False)"
      ]
     },
     "execution_count": 27,
     "metadata": {
      "tags": []
     },
     "output_type": "execute_result"
    }
   ],
   "source": [
    "mnb_gs.best_estimator_"
   ]
  },
  {
   "cell_type": "code",
   "execution_count": 28,
   "metadata": {
    "colab": {
     "base_uri": "https://localhost:8080/"
    },
    "id": "H47TlNMnCMik",
    "outputId": "3d1dbac0-14db-4e7b-b91d-3832c3e3d810"
   },
   "outputs": [
    {
     "data": {
      "text/plain": [
       "Pipeline(memory=None,\n",
       "         steps=[('tfv',\n",
       "                 TfidfVectorizer(analyzer='word', binary=False,\n",
       "                                 decode_error='strict',\n",
       "                                 dtype=<class 'numpy.float64'>,\n",
       "                                 encoding='utf-8', input='content',\n",
       "                                 lowercase=True, max_df=1.0, max_features=None,\n",
       "                                 min_df=1, ngram_range=(1, 2), norm='l2',\n",
       "                                 preprocessor=None, smooth_idf=True,\n",
       "                                 stop_words='english', strip_accents=None,\n",
       "                                 sublinear_tf=False,\n",
       "                                 token_pattern='(?u)\\\\b\\\\w\\\\w+\\\\b',\n",
       "                                 tokenizer=None, use_idf=True,\n",
       "                                 vocabulary=None)),\n",
       "                ('lm',\n",
       "                 LogisticRegression(C=1.0, class_weight=None, dual=False,\n",
       "                                    fit_intercept=True, intercept_scaling=1,\n",
       "                                    l1_ratio=None, max_iter=100,\n",
       "                                    multi_class='auto', n_jobs=None,\n",
       "                                    penalty='l2', random_state=0, solver='saga',\n",
       "                                    tol=0.0001, verbose=0, warm_start=False))],\n",
       "         verbose=False)"
      ]
     },
     "execution_count": 28,
     "metadata": {
      "tags": []
     },
     "output_type": "execute_result"
    }
   ],
   "source": [
    "log_gs.best_estimator_"
   ]
  }
 ],
 "metadata": {
  "colab": {
   "collapsed_sections": [],
   "name": "NewsCategory_Estimators",
   "provenance": []
  },
  "kernelspec": {
   "display_name": "Python 3",
   "language": "python",
   "name": "python3"
  },
  "language_info": {
   "codemirror_mode": {
    "name": "ipython",
    "version": 3
   },
   "file_extension": ".py",
   "mimetype": "text/x-python",
   "name": "python",
   "nbconvert_exporter": "python",
   "pygments_lexer": "ipython3",
   "version": "3.8.3"
  }
 },
 "nbformat": 4,
 "nbformat_minor": 1
}

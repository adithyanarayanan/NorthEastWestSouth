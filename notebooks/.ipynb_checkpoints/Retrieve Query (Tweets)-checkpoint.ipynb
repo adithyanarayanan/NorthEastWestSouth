{
 "cells": [
  {
   "cell_type": "code",
   "execution_count": 1,
   "metadata": {
    "ExecuteTime": {
     "end_time": "2021-01-30T03:41:07.671891Z",
     "start_time": "2021-01-30T03:41:06.231352Z"
    },
    "scrolled": true
   },
   "outputs": [],
   "source": [
    "# Imports necessities and sets up Tweepy\n",
    "import pandas as pd\n",
    "import time\n",
    "import tweepy\n",
    "import preprocessor as p\n",
    "\n",
    "# Set up personal twitter credentials\n",
    "# Tweepy Authentication\n",
    "auth = tweepy.OAuthHandler(consumer_key, consumer_secret)\n",
    "auth.set_access_token(access_token_key, access_token_secret)\n",
    "api = tweepy.API(auth)"
   ]
  },
  {
   "cell_type": "markdown",
   "metadata": {},
   "source": [
    "Retrieving Tweets to test efficacy of classifiers"
   ]
  },
  {
   "cell_type": "code",
   "execution_count": 2,
   "metadata": {
    "ExecuteTime": {
     "end_time": "2021-01-30T03:42:39.201417Z",
     "start_time": "2021-01-30T03:42:39.194416Z"
    }
   },
   "outputs": [],
   "source": [
    "# Retrieves new timeline tweets given a list of screen names\n",
    "\n",
    "def get_new_tweets(names):\n",
    "    print(\"Retrieving tweets\")\n",
    "    corpus = []                                                                                        # an array that will store all the tweets we need from the screen_name\n",
    "    for name in names:\n",
    "        tweets = api.user_timeline(name, include_rts=False, count=200, tweet_mode=\"extended\")          # retrieves up to 200 tweets from the given screen name\n",
    "        time.sleep(4)\n",
    "        corpus.extend(tweets)                                                                          # add current retrieval of tweets to our corpus\n",
    "\n",
    "    data = [[tweet.id_str, tweet.user.screen_name, tweet.full_text, tweet.created_at] for tweet in corpus]\n",
    "    news = pd.DataFrame(data, columns=['tweet_id', 'screen_name', 'text', 'timestamp'])                # creates a dataframe with the retrieved tweets\n",
    "\n",
    "    return news"
   ]
  },
  {
   "cell_type": "code",
   "execution_count": 3,
   "metadata": {
    "ExecuteTime": {
     "end_time": "2021-01-30T03:43:56.155842Z",
     "start_time": "2021-01-30T03:43:42.062192Z"
    }
   },
   "outputs": [
    {
     "name": "stdout",
     "output_type": "stream",
     "text": [
      "Retrieving tweets\n"
     ]
    }
   ],
   "source": [
    "names = ['nytimes', 'reuters', 'washingtonpost']\n",
    "news = get_new_tweets(names)"
   ]
  },
  {
   "cell_type": "code",
   "execution_count": 5,
   "metadata": {
    "ExecuteTime": {
     "end_time": "2021-01-30T03:44:17.884998Z",
     "start_time": "2021-01-30T03:44:17.871997Z"
    },
    "scrolled": true
   },
   "outputs": [
    {
     "data": {
      "text/html": [
       "<div>\n",
       "<style scoped>\n",
       "    .dataframe tbody tr th:only-of-type {\n",
       "        vertical-align: middle;\n",
       "    }\n",
       "\n",
       "    .dataframe tbody tr th {\n",
       "        vertical-align: top;\n",
       "    }\n",
       "\n",
       "    .dataframe thead th {\n",
       "        text-align: right;\n",
       "    }\n",
       "</style>\n",
       "<table border=\"1\" class=\"dataframe\">\n",
       "  <thead>\n",
       "    <tr style=\"text-align: right;\">\n",
       "      <th></th>\n",
       "      <th>tweet_id</th>\n",
       "      <th>screen_name</th>\n",
       "      <th>text</th>\n",
       "      <th>timestamp</th>\n",
       "    </tr>\n",
       "  </thead>\n",
       "  <tbody>\n",
       "    <tr>\n",
       "      <th>0</th>\n",
       "      <td>1355360106892963841</td>\n",
       "      <td>nytimes</td>\n",
       "      <td>Brian Sicknick, the Capitol Police officer who...</td>\n",
       "      <td>2021-01-30 03:40:05</td>\n",
       "    </tr>\n",
       "    <tr>\n",
       "      <th>1</th>\n",
       "      <td>1355350071408267264</td>\n",
       "      <td>nytimes</td>\n",
       "      <td>Pressure mounted on Republicans to discipline ...</td>\n",
       "      <td>2021-01-30 03:00:12</td>\n",
       "    </tr>\n",
       "    <tr>\n",
       "      <th>2</th>\n",
       "      <td>1355344995658719232</td>\n",
       "      <td>nytimes</td>\n",
       "      <td>Corky Lee, a photographer who documented the l...</td>\n",
       "      <td>2021-01-30 02:40:02</td>\n",
       "    </tr>\n",
       "    <tr>\n",
       "      <th>3</th>\n",
       "      <td>1355334922370736129</td>\n",
       "      <td>nytimes</td>\n",
       "      <td>The career of Britney Spears — and her life, i...</td>\n",
       "      <td>2021-01-30 02:00:01</td>\n",
       "    </tr>\n",
       "    <tr>\n",
       "      <th>4</th>\n",
       "      <td>1355332402311278595</td>\n",
       "      <td>nytimes</td>\n",
       "      <td>Update: Eleven soldiers at Fort Bliss in Texas...</td>\n",
       "      <td>2021-01-30 01:50:00</td>\n",
       "    </tr>\n",
       "    <tr>\n",
       "      <th>...</th>\n",
       "      <td>...</td>\n",
       "      <td>...</td>\n",
       "      <td>...</td>\n",
       "      <td>...</td>\n",
       "    </tr>\n",
       "    <tr>\n",
       "      <th>535</th>\n",
       "      <td>1354577467609124867</td>\n",
       "      <td>washingtonpost</td>\n",
       "      <td>Opinion: We were right to worry about the nati...</td>\n",
       "      <td>2021-01-27 23:50:09</td>\n",
       "    </tr>\n",
       "    <tr>\n",
       "      <th>536</th>\n",
       "      <td>1354571092229316610</td>\n",
       "      <td>washingtonpost</td>\n",
       "      <td>Opinion: America could be passing our darkest ...</td>\n",
       "      <td>2021-01-27 23:24:49</td>\n",
       "    </tr>\n",
       "    <tr>\n",
       "      <th>537</th>\n",
       "      <td>1354563353658740736</td>\n",
       "      <td>washingtonpost</td>\n",
       "      <td>Cloris Leachman dies at 94. She starred in \"Th...</td>\n",
       "      <td>2021-01-27 22:54:04</td>\n",
       "    </tr>\n",
       "    <tr>\n",
       "      <th>538</th>\n",
       "      <td>1354558929771126786</td>\n",
       "      <td>washingtonpost</td>\n",
       "      <td>Time to double mask or upgrade masks as corona...</td>\n",
       "      <td>2021-01-27 22:36:30</td>\n",
       "    </tr>\n",
       "    <tr>\n",
       "      <th>539</th>\n",
       "      <td>1354552285603516417</td>\n",
       "      <td>washingtonpost</td>\n",
       "      <td>Opinion: The hidden way Biden is attacking the...</td>\n",
       "      <td>2021-01-27 22:10:05</td>\n",
       "    </tr>\n",
       "  </tbody>\n",
       "</table>\n",
       "<p>540 rows × 4 columns</p>\n",
       "</div>"
      ],
      "text/plain": [
       "                tweet_id     screen_name  \\\n",
       "0    1355360106892963841         nytimes   \n",
       "1    1355350071408267264         nytimes   \n",
       "2    1355344995658719232         nytimes   \n",
       "3    1355334922370736129         nytimes   \n",
       "4    1355332402311278595         nytimes   \n",
       "..                   ...             ...   \n",
       "535  1354577467609124867  washingtonpost   \n",
       "536  1354571092229316610  washingtonpost   \n",
       "537  1354563353658740736  washingtonpost   \n",
       "538  1354558929771126786  washingtonpost   \n",
       "539  1354552285603516417  washingtonpost   \n",
       "\n",
       "                                                  text           timestamp  \n",
       "0    Brian Sicknick, the Capitol Police officer who... 2021-01-30 03:40:05  \n",
       "1    Pressure mounted on Republicans to discipline ... 2021-01-30 03:00:12  \n",
       "2    Corky Lee, a photographer who documented the l... 2021-01-30 02:40:02  \n",
       "3    The career of Britney Spears — and her life, i... 2021-01-30 02:00:01  \n",
       "4    Update: Eleven soldiers at Fort Bliss in Texas... 2021-01-30 01:50:00  \n",
       "..                                                 ...                 ...  \n",
       "535  Opinion: We were right to worry about the nati... 2021-01-27 23:50:09  \n",
       "536  Opinion: America could be passing our darkest ... 2021-01-27 23:24:49  \n",
       "537  Cloris Leachman dies at 94. She starred in \"Th... 2021-01-27 22:54:04  \n",
       "538  Time to double mask or upgrade masks as corona... 2021-01-27 22:36:30  \n",
       "539  Opinion: The hidden way Biden is attacking the... 2021-01-27 22:10:05  \n",
       "\n",
       "[540 rows x 4 columns]"
      ]
     },
     "execution_count": 5,
     "metadata": {},
     "output_type": "execute_result"
    }
   ],
   "source": [
    "news"
   ]
  },
  {
   "cell_type": "code",
   "execution_count": 6,
   "metadata": {
    "ExecuteTime": {
     "end_time": "2021-01-30T03:57:10.648447Z",
     "start_time": "2021-01-30T03:57:10.597443Z"
    }
   },
   "outputs": [],
   "source": [
    "news.to_csv(\"news_sample.csv\") # Write to csv for future reuse"
   ]
  },
  {
   "cell_type": "markdown",
   "metadata": {},
   "source": [
    "Retrieving Health Related Tweets from News Orgs for training"
   ]
  },
  {
   "cell_type": "code",
   "execution_count": null,
   "metadata": {},
   "outputs": [],
   "source": [
    "# retrieve tweets by query q\n",
    "\n",
    "q = \"(vaccine, OR covid, OR virus, OR quarantine, OR isolation, OR pandemic, OR epidemic) (from:)\"+ name + \"-filter:replies\"\n",
    "names = ['nytimes', 'reuters', 'washingtonpost']\n",
    "corpus = []\n",
    "for name in names:    \n",
    "    tweets = api.search(q, count=100)\n",
    "    corpus.extend(tweets)\n",
    "    time.sleep(5)"
   ]
  },
  {
   "cell_type": "code",
   "execution_count": null,
   "metadata": {
    "ExecuteTime": {
     "end_time": "2021-01-29T19:33:51.952977Z",
     "start_time": "2021-01-29T19:33:51.944979Z"
    }
   },
   "outputs": [],
   "source": [
    "# Clean the health related tweets stored in h_df and store in csv\n",
    "h_data = [[tweet.text] for tweet in corpus]\n",
    "h_df = pd.DataFrame(h_data, columns=['Text'])\n",
    "h_df['Category'] = \"health\"\n",
    "h_df.drop_duplicates(inplace=True)\n",
    "h_df.Text = h_df['Text'].apply(p.clean)\n",
    "h_df.Text = h_df.Text.str.replace(\": \", \"\")\n",
    "h_df.to_csv(\"health_headlines.csv\")\n"
   ]
  }
 ],
 "metadata": {
  "kernelspec": {
   "display_name": "Python 3",
   "language": "python",
   "name": "python3"
  },
  "language_info": {
   "codemirror_mode": {
    "name": "ipython",
    "version": 3
   },
   "file_extension": ".py",
   "mimetype": "text/x-python",
   "name": "python",
   "nbconvert_exporter": "python",
   "pygments_lexer": "ipython3",
   "version": "3.8.3"
  }
 },
 "nbformat": 4,
 "nbformat_minor": 4
}
